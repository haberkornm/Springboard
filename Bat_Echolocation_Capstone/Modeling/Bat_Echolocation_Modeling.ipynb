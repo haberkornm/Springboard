{
 "cells": [
  {
   "cell_type": "markdown",
   "metadata": {
    "toc": true
   },
   "source": [
    "<h1>Table of Contents<span class=\"tocSkip\"></span></h1>\n",
    "<div class=\"toc\"><ul class=\"toc-item\"><li><span><a href=\"#Loading,-Splitting,-and-Scaling-Data\" data-toc-modified-id=\"Loading,-Splitting,-and-Scaling-Data-1\"><span class=\"toc-item-num\">1&nbsp;&nbsp;</span>Loading, Splitting, and Scaling Data</a></span></li><li><span><a href=\"#Dummy-Classifier\" data-toc-modified-id=\"Dummy-Classifier-2\"><span class=\"toc-item-num\">2&nbsp;&nbsp;</span>Dummy Classifier</a></span><ul class=\"toc-item\"><li><span><a href=\"#All-Species\" data-toc-modified-id=\"All-Species-2.1\"><span class=\"toc-item-num\">2.1&nbsp;&nbsp;</span>All Species</a></span></li><li><span><a href=\"#Three-Species\" data-toc-modified-id=\"Three-Species-2.2\"><span class=\"toc-item-num\">2.2&nbsp;&nbsp;</span>Three Species</a></span></li></ul></li><li><span><a href=\"#Random-Forest-Classifier\" data-toc-modified-id=\"Random-Forest-Classifier-3\"><span class=\"toc-item-num\">3&nbsp;&nbsp;</span>Random Forest Classifier</a></span><ul class=\"toc-item\"><li><span><a href=\"#All-Species-Classifier\" data-toc-modified-id=\"All-Species-Classifier-3.1\"><span class=\"toc-item-num\">3.1&nbsp;&nbsp;</span>All Species Classifier</a></span></li><li><span><a href=\"#Three-Species-Classifier\" data-toc-modified-id=\"Three-Species-Classifier-3.2\"><span class=\"toc-item-num\">3.2&nbsp;&nbsp;</span>Three Species Classifier</a></span></li><li><span><a href=\"#Multicollinear-features-removed--All-Species\" data-toc-modified-id=\"Multicollinear-features-removed--All-Species-3.3\"><span class=\"toc-item-num\">3.3&nbsp;&nbsp;</span>Multicollinear features removed- All Species</a></span></li><li><span><a href=\"#Multicollinear-features-removed--Three-Species\" data-toc-modified-id=\"Multicollinear-features-removed--Three-Species-3.4\"><span class=\"toc-item-num\">3.4&nbsp;&nbsp;</span>Multicollinear features removed- Three Species</a></span></li></ul></li><li><span><a href=\"#KNN\" data-toc-modified-id=\"KNN-4\"><span class=\"toc-item-num\">4&nbsp;&nbsp;</span>KNN</a></span><ul class=\"toc-item\"><li><span><a href=\"#All-Species\" data-toc-modified-id=\"All-Species-4.1\"><span class=\"toc-item-num\">4.1&nbsp;&nbsp;</span>All Species</a></span></li><li><span><a href=\"#Three-Species\" data-toc-modified-id=\"Three-Species-4.2\"><span class=\"toc-item-num\">4.2&nbsp;&nbsp;</span>Three Species</a></span></li><li><span><a href=\"#Scaled-All-Species\" data-toc-modified-id=\"Scaled-All-Species-4.3\"><span class=\"toc-item-num\">4.3&nbsp;&nbsp;</span>Scaled All Species</a></span></li><li><span><a href=\"#Scaled-Three-Species\" data-toc-modified-id=\"Scaled-Three-Species-4.4\"><span class=\"toc-item-num\">4.4&nbsp;&nbsp;</span>Scaled Three Species</a></span></li></ul></li><li><span><a href=\"#XGBoost\" data-toc-modified-id=\"XGBoost-5\"><span class=\"toc-item-num\">5&nbsp;&nbsp;</span>XGBoost</a></span><ul class=\"toc-item\"><li><span><a href=\"#All-Species-Classifier\" data-toc-modified-id=\"All-Species-Classifier-5.1\"><span class=\"toc-item-num\">5.1&nbsp;&nbsp;</span>All Species Classifier</a></span></li><li><span><a href=\"#Three-Species-Classifier\" data-toc-modified-id=\"Three-Species-Classifier-5.2\"><span class=\"toc-item-num\">5.2&nbsp;&nbsp;</span>Three Species Classifier</a></span></li></ul></li><li><span><a href=\"#Logistic-Regression\" data-toc-modified-id=\"Logistic-Regression-6\"><span class=\"toc-item-num\">6&nbsp;&nbsp;</span>Logistic Regression</a></span><ul class=\"toc-item\"><li><span><a href=\"#All-Species\" data-toc-modified-id=\"All-Species-6.1\"><span class=\"toc-item-num\">6.1&nbsp;&nbsp;</span>All Species</a></span></li><li><span><a href=\"#Three-Species\" data-toc-modified-id=\"Three-Species-6.2\"><span class=\"toc-item-num\">6.2&nbsp;&nbsp;</span>Three Species</a></span></li><li><span><a href=\"#Scaled-All-Species\" data-toc-modified-id=\"Scaled-All-Species-6.3\"><span class=\"toc-item-num\">6.3&nbsp;&nbsp;</span>Scaled All Species</a></span></li><li><span><a href=\"#Scaled-Three-Species\" data-toc-modified-id=\"Scaled-Three-Species-6.4\"><span class=\"toc-item-num\">6.4&nbsp;&nbsp;</span>Scaled Three Species</a></span></li></ul></li><li><span><a href=\"#Model-By-Match-Ratio\" data-toc-modified-id=\"Model-By-Match-Ratio-7\"><span class=\"toc-item-num\">7&nbsp;&nbsp;</span>Model By Match Ratio</a></span><ul class=\"toc-item\"><li><span><a href=\"#Original-Dataframe-With-Match-Ratios\" data-toc-modified-id=\"Original-Dataframe-With-Match-Ratios-7.1\"><span class=\"toc-item-num\">7.1&nbsp;&nbsp;</span>Original Dataframe With Match Ratios</a></span><ul class=\"toc-item\"><li><span><a href=\"#Kaleidoscope-Pro-Accuracy-With-All-Species\" data-toc-modified-id=\"Kaleidoscope-Pro-Accuracy-With-All-Species-7.1.1\"><span class=\"toc-item-num\">7.1.1&nbsp;&nbsp;</span>Kaleidoscope Pro Accuracy With All Species</a></span></li><li><span><a href=\"#Kaleidoscope-Pro-Accuracy-All-Species-With-NoID-Removed\" data-toc-modified-id=\"Kaleidoscope-Pro-Accuracy-All-Species-With-NoID-Removed-7.1.2\"><span class=\"toc-item-num\">7.1.2&nbsp;&nbsp;</span>Kaleidoscope Pro Accuracy All Species With NoID Removed</a></span></li><li><span><a href=\"#Kaleidoscope-Pro-Accuracy-Three-Species-With-NoID-Removed\" data-toc-modified-id=\"Kaleidoscope-Pro-Accuracy-Three-Species-With-NoID-Removed-7.1.3\"><span class=\"toc-item-num\">7.1.3&nbsp;&nbsp;</span>Kaleidoscope Pro Accuracy Three Species With NoID Removed</a></span></li></ul></li></ul></li><li><span><a href=\"#Final-Random-Forest-Model\" data-toc-modified-id=\"Final-Random-Forest-Model-8\"><span class=\"toc-item-num\">8&nbsp;&nbsp;</span>Final Random Forest Model</a></span><ul class=\"toc-item\"><li><span><a href=\"#RF-Test-Data\" data-toc-modified-id=\"RF-Test-Data-8.1\"><span class=\"toc-item-num\">8.1&nbsp;&nbsp;</span>RF Test Data</a></span><ul class=\"toc-item\"><li><span><a href=\"#Model-Test-Data-All-Species\" data-toc-modified-id=\"Model-Test-Data-All-Species-8.1.1\"><span class=\"toc-item-num\">8.1.1&nbsp;&nbsp;</span>Model Test Data All Species</a></span></li><li><span><a href=\"#Model-Test-Data-All-Species-and-NoID-Removed\" data-toc-modified-id=\"Model-Test-Data-All-Species-and-NoID-Removed-8.1.2\"><span class=\"toc-item-num\">8.1.2&nbsp;&nbsp;</span>Model Test Data All Species and NoID Removed</a></span></li><li><span><a href=\"#Model-Test-Data-Three-Species-and-NoID-Removed\" data-toc-modified-id=\"Model-Test-Data-Three-Species-and-NoID-Removed-8.1.3\"><span class=\"toc-item-num\">8.1.3&nbsp;&nbsp;</span>Model Test Data Three Species and NoID Removed</a></span></li></ul></li><li><span><a href=\"#RF-All-Data\" data-toc-modified-id=\"RF-All-Data-8.2\"><span class=\"toc-item-num\">8.2&nbsp;&nbsp;</span>RF All Data</a></span><ul class=\"toc-item\"><li><span><a href=\"#Model-All-Data-All-Species\" data-toc-modified-id=\"Model-All-Data-All-Species-8.2.1\"><span class=\"toc-item-num\">8.2.1&nbsp;&nbsp;</span>Model All Data All Species</a></span></li><li><span><a href=\"#Model-All-Data-With-All-Species-and-NoID-Removed\" data-toc-modified-id=\"Model-All-Data-With-All-Species-and-NoID-Removed-8.2.2\"><span class=\"toc-item-num\">8.2.2&nbsp;&nbsp;</span>Model All Data With All Species and NoID Removed</a></span></li><li><span><a href=\"#Model-All-Data-With-Three-Species-and-NoID-Removed\" data-toc-modified-id=\"Model-All-Data-With-Three-Species-and-NoID-Removed-8.2.3\"><span class=\"toc-item-num\">8.2.3&nbsp;&nbsp;</span>Model All Data With Three Species and NoID Removed</a></span></li></ul></li><li><span><a href=\"#Graphing-Accuracy\" data-toc-modified-id=\"Graphing-Accuracy-8.3\"><span class=\"toc-item-num\">8.3&nbsp;&nbsp;</span>Graphing Accuracy</a></span></li></ul></li><li><span><a href=\"#RF-Test-Data\" data-toc-modified-id=\"RF-Test-Data-9\"><span class=\"toc-item-num\">9&nbsp;&nbsp;</span>RF Test Data</a></span><ul class=\"toc-item\"><li><span><a href=\"#Accuracy-By-Match-Ratio\" data-toc-modified-id=\"Accuracy-By-Match-Ratio-9.1\"><span class=\"toc-item-num\">9.1&nbsp;&nbsp;</span>Accuracy By Match Ratio</a></span></li></ul></li></ul></div>"
   ]
  },
  {
   "cell_type": "code",
   "execution_count": 1,
   "metadata": {},
   "outputs": [
    {
     "name": "stderr",
     "output_type": "stream",
     "text": [
      "C:\\Users\\matta\\anaconda3\\lib\\site-packages\\dask\\config.py:131: YAMLLoadWarning: calling yaml.load() without Loader=... is deprecated, as the default Loader is unsafe. Please read https://msg.pyyaml.org/load for full details.\n",
      "  data = yaml.load(f.read()) or {}\n"
     ]
    }
   ],
   "source": [
    "import pandas as pd\n",
    "import numpy as np\n",
    "import seaborn as sns\n",
    "from sklearn.model_selection import train_test_split, cross_validate, GridSearchCV, RandomizedSearchCV\n",
    "from sklearn.preprocessing import RobustScaler\n",
    "from sklearn.dummy import DummyClassifier\n",
    "from sklearn.ensemble import RandomForestClassifier\n",
    "from sklearn.neighbors import KNeighborsClassifier\n",
    "from sklearn.metrics import classification_report, confusion_matrix, roc_curve, fbeta_score, auc, roc_auc_score, accuracy_score, precision_score, f1_score, recall_score\n",
    "from xgboost import XGBClassifier\n",
    "from sklearn.linear_model import LogisticRegression\n",
    "import matplotlib.pyplot as plt"
   ]
  },
  {
   "cell_type": "markdown",
   "metadata": {},
   "source": [
    "## Loading, Splitting, and Scaling Data"
   ]
  },
  {
   "cell_type": "code",
   "execution_count": 2,
   "metadata": {},
   "outputs": [],
   "source": [
    "three_spp = pd.read_csv('three_species_df.csv')\n",
    "all_spp = pd.read_csv('all_species_df.csv')"
   ]
  },
  {
   "cell_type": "code",
   "execution_count": 3,
   "metadata": {},
   "outputs": [],
   "source": [
    "#Test-train split for all species dataframe\n",
    "X_train, X_test, y_train, y_test = train_test_split(all_spp.drop(columns='Spp'), \n",
    "                                                    all_spp.Spp, test_size=0.3, \n",
    "                                                    random_state=42)"
   ]
  },
  {
   "cell_type": "code",
   "execution_count": 4,
   "metadata": {},
   "outputs": [],
   "source": [
    "#Test-train split for three species dataframe\n",
    "X_train3, X_test3, y_train3, y_test3 = train_test_split(three_spp.drop(columns='Spp'), \n",
    "                                                    three_spp.Spp, test_size=0.3, \n",
    "                                                    random_state=42)"
   ]
  },
  {
   "cell_type": "code",
   "execution_count": 5,
   "metadata": {},
   "outputs": [],
   "source": [
    "#Scaled data\n",
    "scaler_all = RobustScaler().fit(X_train)\n",
    "X_train_scaled = scaler_all.transform(X_train)\n",
    "X_test_scaled = scaler_all.transform(X_test)"
   ]
  },
  {
   "cell_type": "code",
   "execution_count": 6,
   "metadata": {},
   "outputs": [],
   "source": [
    "#Scaled three species\n",
    "scaler3 = RobustScaler().fit(X_train3)\n",
    "X_train_scaled3 = scaler3.transform(X_train3)\n",
    "X_test_scaled3 = scaler3.transform(X_test3)"
   ]
  },
  {
   "cell_type": "code",
   "execution_count": 7,
   "metadata": {},
   "outputs": [],
   "source": [
    "#High multicollinear features removed\n",
    "M_X_train = X_train.drop(columns = ['Fmax', 'Fmin', 'Fk'])\n",
    "M_X_test = X_test.drop(columns = ['Fmax', 'Fmin', 'Fk'])"
   ]
  },
  {
   "cell_type": "code",
   "execution_count": 8,
   "metadata": {},
   "outputs": [],
   "source": [
    "M_X_train3 = X_train3.drop(columns = ['Fmax', 'Fmin', 'Fk'])\n",
    "M_X_test3 = X_test3.drop(columns = ['Fmax', 'Fmin', 'Fk'])"
   ]
  },
  {
   "cell_type": "markdown",
   "metadata": {},
   "source": [
    "## Dummy Classifier"
   ]
  },
  {
   "cell_type": "markdown",
   "metadata": {},
   "source": [
    "Dummy classifier coarried out in various methods to determine accuracy by random chance"
   ]
  },
  {
   "cell_type": "markdown",
   "metadata": {},
   "source": [
    "### All Species"
   ]
  },
  {
   "cell_type": "code",
   "execution_count": 9,
   "metadata": {},
   "outputs": [
    {
     "data": {
      "text/plain": [
       "0.30427350427350425"
      ]
     },
     "execution_count": 9,
     "metadata": {},
     "output_type": "execute_result"
    }
   ],
   "source": [
    "dummy = DummyClassifier(strategy = 'most_frequent', random_state = 42)\n",
    "dummy.fit(X_train, y_train)\n",
    "dummy.score(X_test, y_test)"
   ]
  },
  {
   "cell_type": "code",
   "execution_count": 10,
   "metadata": {},
   "outputs": [
    {
     "data": {
      "text/plain": [
       "0.2"
      ]
     },
     "execution_count": 10,
     "metadata": {},
     "output_type": "execute_result"
    }
   ],
   "source": [
    "dummy = DummyClassifier(strategy = 'stratified', random_state = 42)\n",
    "dummy.fit(X_train, y_train)\n",
    "dummy.score(X_test, y_test)"
   ]
  },
  {
   "cell_type": "code",
   "execution_count": 11,
   "metadata": {},
   "outputs": [
    {
     "data": {
      "text/plain": [
       "0.046723646723646726"
      ]
     },
     "execution_count": 11,
     "metadata": {},
     "output_type": "execute_result"
    }
   ],
   "source": [
    "dummy = DummyClassifier(strategy = 'uniform', random_state = 42)\n",
    "dummy.fit(X_train, y_train)\n",
    "dummy.score(X_test, y_test)"
   ]
  },
  {
   "cell_type": "markdown",
   "metadata": {},
   "source": [
    "### Three Species"
   ]
  },
  {
   "cell_type": "code",
   "execution_count": 12,
   "metadata": {},
   "outputs": [
    {
     "data": {
      "text/plain": [
       "0.4666666666666667"
      ]
     },
     "execution_count": 12,
     "metadata": {},
     "output_type": "execute_result"
    }
   ],
   "source": [
    "dummy = DummyClassifier(strategy = 'most_frequent', random_state = 42)\n",
    "dummy.fit(X_train3, y_train3)\n",
    "dummy.score(X_test3, y_test3)"
   ]
  },
  {
   "cell_type": "code",
   "execution_count": 13,
   "metadata": {},
   "outputs": [
    {
     "data": {
      "text/plain": [
       "0.3418803418803419"
      ]
     },
     "execution_count": 13,
     "metadata": {},
     "output_type": "execute_result"
    }
   ],
   "source": [
    "dummy = DummyClassifier(strategy = 'stratified', random_state = 42)\n",
    "dummy.fit(X_train3, y_train3)\n",
    "dummy.score(X_test3, y_test3)"
   ]
  },
  {
   "cell_type": "code",
   "execution_count": 14,
   "metadata": {},
   "outputs": [
    {
     "data": {
      "text/plain": [
       "0.2638176638176638"
      ]
     },
     "execution_count": 14,
     "metadata": {},
     "output_type": "execute_result"
    }
   ],
   "source": [
    "dummy = DummyClassifier(strategy = 'uniform', random_state = 42)\n",
    "dummy.fit(X_train3, y_train3)\n",
    "dummy.score(X_test3, y_test3)"
   ]
  },
  {
   "cell_type": "markdown",
   "metadata": {},
   "source": [
    "All dummy classifiers have very low accuracy for classification.  47% was highest."
   ]
  },
  {
   "cell_type": "markdown",
   "metadata": {},
   "source": [
    "## Random Forest Classifier"
   ]
  },
  {
   "cell_type": "code",
   "execution_count": 15,
   "metadata": {},
   "outputs": [],
   "source": [
    "#from sklearn.ensemble import RandomForestClassifier"
   ]
  },
  {
   "cell_type": "markdown",
   "metadata": {},
   "source": [
    "Random forest classifier carried out using the below parameters in the final grid search CV.  Other grid search CV's had n_estimators between 100 and 750 with best parameters generally between 180 and 220.  Max_features was carried out for auto, sqrt, and log2, with auto consistently being the best.  Max_depth was carried out for 2 through 11 with 11 being determined to be the best but only slightly (and likely insignificantly) better than 10. Criterion was carried out for gini and entropy, with gini typically being better but occasionally entropy being better.  "
   ]
  },
  {
   "cell_type": "code",
   "execution_count": 15,
   "metadata": {},
   "outputs": [],
   "source": [
    "RF_param_grid = {'n_estimators': [200, 220, 240, 260, 280],\n",
    "             'max_features': ['auto', 'sqrt', 'log2'],\n",
    "             'max_depth' : [9, 10, 11],\n",
    "             'criterion' :['gini', 'entropy']}\n",
    "rfc = RandomForestClassifier(random_state = 42)\n",
    "#'max_features': ['auto', 'sqrt', 'log2']"
   ]
  },
  {
   "cell_type": "markdown",
   "metadata": {},
   "source": [
    "### All Species Classifier"
   ]
  },
  {
   "cell_type": "code",
   "execution_count": 17,
   "metadata": {},
   "outputs": [
    {
     "name": "stderr",
     "output_type": "stream",
     "text": [
      "C:\\Users\\matta\\anaconda3\\lib\\site-packages\\sklearn\\model_selection\\_split.py:670: UserWarning: The least populated class in y has only 1 members, which is less than n_splits=5.\n",
      "  warnings.warn((\"The least populated class in y has only %d\"\n"
     ]
    },
    {
     "data": {
      "text/plain": [
       "GridSearchCV(cv=5, estimator=RandomForestClassifier(random_state=42),\n",
       "             param_grid={'criterion': ['gini', 'entropy'],\n",
       "                         'max_depth': [9, 10, 11], 'max_features': ['auto'],\n",
       "                         'n_estimators': [200, 220, 240]})"
      ]
     },
     "execution_count": 17,
     "metadata": {},
     "output_type": "execute_result"
    }
   ],
   "source": [
    "forest_cv_all= GridSearchCV(rfc, RF_param_grid, cv=5)\n",
    "forest_cv_all.fit(X_train, y_train)"
   ]
  },
  {
   "cell_type": "code",
   "execution_count": 18,
   "metadata": {},
   "outputs": [
    {
     "name": "stdout",
     "output_type": "stream",
     "text": [
      "Best score: 0.6629200736780199\n",
      "Best parameters: {'criterion': 'gini', 'max_depth': 11, 'max_features': 'auto', 'n_estimators': 220}\n"
     ]
    }
   ],
   "source": [
    "print('Best score:', forest_cv_all.best_score_)\n",
    "print('Best parameters:', forest_cv_all.best_params_)"
   ]
  },
  {
   "cell_type": "code",
   "execution_count": 20,
   "metadata": {},
   "outputs": [
    {
     "name": "stdout",
     "output_type": "stream",
     "text": [
      "Training accuracy:  0.8825109916951637\n",
      "Test set accuracy:  0.6609686609686609\n"
     ]
    }
   ],
   "source": [
    "print('Training accuracy: ', forest_cv_all.score(X_train, y_train))\n",
    "print('Test set accuracy: ', forest_cv_all.score(X_test, y_test))"
   ]
  },
  {
   "cell_type": "code",
   "execution_count": 74,
   "metadata": {},
   "outputs": [
    {
     "name": "stdout",
     "output_type": "stream",
     "text": [
      "Fbeta weighted:  0.6346742754372907\n",
      "Fbeta micro:  0.6609686609686609\n"
     ]
    }
   ],
   "source": [
    "RF_y_pred_all = forest_cv_all.predict(X_test)\n",
    "#print('Training roc auc: ', roc_auc_score(y_test, RF_y_pred_all, multi_class='ovo'))\n",
    "print('Fbeta weighted: ', fbeta_score(y_test, RF_y_pred_all, beta=1, average='weighted'))\n",
    "print('Fbeta micro: ', fbeta_score(y_test, RF_y_pred_all, beta=1, average='micro'))"
   ]
  },
  {
   "cell_type": "code",
   "execution_count": 75,
   "metadata": {},
   "outputs": [
    {
     "name": "stdout",
     "output_type": "stream",
     "text": [
      "[[  8   0   0   0   0   0   2   0   0   0   0   0   0   0   0  19   0  20]\n",
      " [  0   5   1   0   0   0   0   0   0   0   0   0   0   0   0   1   0   0]\n",
      " [  0   0   3   0   2   0   0   0   0   0   0   0   0   0   0   7   0   0]\n",
      " [  0   0   0   2   0   0   0   0   0   0   0   0   0   2   0  14   4   0]\n",
      " [  0   0   0   0  39   0   0   0   0   0   0   0   0   0   0  26   0  29]\n",
      " [  0   0   0   0   0  15   0   0   0   0   0   0   0   0   0   8   0  62]\n",
      " [  0   0   0   0   0   0  22   0   0   0   0   0   0   0   0  15   0   3]\n",
      " [  0   0   0   0   0   0   0   5   0   0   0   0   0   7   0   5   0   0]\n",
      " [  0   0   0   0   0   0   0   0   1   0   0   0   0   0   0   0   0   0]\n",
      " [  0   0   0   0   0   0   0   0   0   0   0   0   0   0   0   2   0   0]\n",
      " [  0   0   0   0   0   0   0   0   0   0   2   0   0   0   0   0   0   0]\n",
      " [  0   0   0   0   0   0   0   0   0   0   0   0   0   0   0   2   0   0]\n",
      " [  0   0   0   0   0   0   0   0   0   0   0   0   0   0   0   5   0   0]\n",
      " [  0   0   0   0   0   0   0   4   0   0   0   0   0 207   0  19   1   0]\n",
      " [  0   0   0   0   1   0   0   0   0   0   0   0   0   0   1   3   0   0]\n",
      " [  3   3   1   0   9   5   6   7   0   0   1   0   0  31   0 222   9 179]\n",
      " [  0   0   0   0   0   0   0   0   0   0   0   0   0   1   0  13 155   2]\n",
      " [  2   0   0   0   2   3   2   0   0   0   0   0   0   0   0  52   0 473]]\n",
      "              precision    recall  f1-score   support\n",
      "\n",
      "      EPTFUS       0.62      0.16      0.26        49\n",
      "      EUMPER       0.62      0.71      0.67         7\n",
      "      EUMUND       0.60      0.25      0.35        12\n",
      "      LASBLO       1.00      0.09      0.17        22\n",
      "      LASCIN       0.74      0.41      0.53        94\n",
      "      LASNOC       0.65      0.18      0.28        85\n",
      "      LASXAN       0.69      0.55      0.61        40\n",
      "      MYOCAL       0.31      0.29      0.30        17\n",
      "      MYOCIL       1.00      1.00      1.00         1\n",
      "      MYOOCC       0.00      0.00      0.00         2\n",
      "      MYOTHY       0.67      1.00      0.80         2\n",
      "      MYOVEL       0.00      0.00      0.00         2\n",
      "      MYOVOL       0.00      0.00      0.00         5\n",
      "      MYOYUM       0.83      0.90      0.86       231\n",
      "      NYCFEM       1.00      0.20      0.33         5\n",
      "        NoID       0.54      0.47      0.50       476\n",
      "      PARHES       0.92      0.91      0.91       171\n",
      "      TADBRA       0.62      0.89      0.73       534\n",
      "\n",
      "    accuracy                           0.66      1755\n",
      "   macro avg       0.60      0.44      0.46      1755\n",
      "weighted avg       0.66      0.66      0.63      1755\n",
      "\n"
     ]
    },
    {
     "name": "stderr",
     "output_type": "stream",
     "text": [
      "C:\\Users\\matta\\anaconda3\\lib\\site-packages\\sklearn\\metrics\\_classification.py:1221: UndefinedMetricWarning: Precision and F-score are ill-defined and being set to 0.0 in labels with no predicted samples. Use `zero_division` parameter to control this behavior.\n",
      "  _warn_prf(average, modifier, msg_start, len(result))\n"
     ]
    }
   ],
   "source": [
    "print(confusion_matrix(y_test, RF_y_pred_all))\n",
    "print(classification_report(y_test, RF_y_pred_all))"
   ]
  },
  {
   "cell_type": "markdown",
   "metadata": {},
   "source": [
    "### Three Species Classifier"
   ]
  },
  {
   "cell_type": "markdown",
   "metadata": {},
   "source": [
    "Very similar to all species classifier except max depth was determined to be best at 9 and criterion was determined to be best with gini."
   ]
  },
  {
   "cell_type": "code",
   "execution_count": 10,
   "metadata": {},
   "outputs": [
    {
     "data": {
      "text/plain": [
       "GridSearchCV(cv=5, estimator=RandomForestClassifier(random_state=42),\n",
       "             param_grid={'criterion': ['gini', 'entropy'],\n",
       "                         'max_depth': [9, 10, 11], 'max_features': ['auto'],\n",
       "                         'n_estimators': [200, 220, 240]})"
      ]
     },
     "execution_count": 10,
     "metadata": {},
     "output_type": "execute_result"
    }
   ],
   "source": [
    "forest_cv3= GridSearchCV(rfc, RF_param_grid, cv=5)\n",
    "forest_cv3.fit(X_train3, y_train3)"
   ]
  },
  {
   "cell_type": "code",
   "execution_count": 14,
   "metadata": {},
   "outputs": [
    {
     "name": "stdout",
     "output_type": "stream",
     "text": [
      "Best score: 0.7589077860471504\n",
      "Best parameters: {'criterion': 'gini', 'max_depth': 9, 'max_features': 'auto', 'n_estimators': 220}\n"
     ]
    }
   ],
   "source": [
    "print('Best score:', forest_cv3.best_score_)\n",
    "print('Best parameters:', forest_cv3.best_params_)"
   ]
  },
  {
   "cell_type": "code",
   "execution_count": 16,
   "metadata": {},
   "outputs": [
    {
     "name": "stdout",
     "output_type": "stream",
     "text": [
      "0.8690766976062531\n",
      "0.7612535612535613\n"
     ]
    }
   ],
   "source": [
    "print(forest_cv3.score(X_train3, y_train3))\n",
    "print(forest_cv3.score(X_test3, y_test3))"
   ]
  },
  {
   "cell_type": "code",
   "execution_count": 18,
   "metadata": {},
   "outputs": [
    {
     "name": "stdout",
     "output_type": "stream",
     "text": [
      "[[202   1   0  28]\n",
      " [  0 155   1  15]\n",
      " [  0   0 428 106]\n",
      " [ 31  11 226 551]]\n",
      "              precision    recall  f1-score   support\n",
      "\n",
      "      MYOYUM       0.87      0.87      0.87       231\n",
      "      PARHES       0.93      0.91      0.92       171\n",
      "      TADBRA       0.65      0.80      0.72       534\n",
      "       other       0.79      0.67      0.73       819\n",
      "\n",
      "    accuracy                           0.76      1755\n",
      "   macro avg       0.81      0.81      0.81      1755\n",
      "weighted avg       0.77      0.76      0.76      1755\n",
      "\n"
     ]
    }
   ],
   "source": [
    "RF_y_pred3 = forest_cv3.predict(X_test3)\n",
    "print(confusion_matrix(y_test3, RF_y_pred3))\n",
    "print(classification_report(y_test3, RF_y_pred3))"
   ]
  },
  {
   "cell_type": "markdown",
   "metadata": {},
   "source": [
    "### Multicollinear features removed- All Species"
   ]
  },
  {
   "cell_type": "code",
   "execution_count": null,
   "metadata": {},
   "outputs": [],
   "source": []
  },
  {
   "cell_type": "code",
   "execution_count": 16,
   "metadata": {},
   "outputs": [
    {
     "name": "stderr",
     "output_type": "stream",
     "text": [
      "C:\\Users\\matta\\anaconda3\\lib\\site-packages\\sklearn\\model_selection\\_split.py:670: UserWarning: The least populated class in y has only 1 members, which is less than n_splits=5.\n",
      "  warnings.warn((\"The least populated class in y has only %d\"\n"
     ]
    },
    {
     "data": {
      "text/plain": [
       "GridSearchCV(cv=5, estimator=RandomForestClassifier(random_state=42),\n",
       "             param_grid={'criterion': ['gini', 'entropy'],\n",
       "                         'max_depth': [9, 10, 11],\n",
       "                         'max_features': ['auto', 'sqrt', 'log2'],\n",
       "                         'n_estimators': [200, 220, 240, 260, 280]})"
      ]
     },
     "execution_count": 16,
     "metadata": {},
     "output_type": "execute_result"
    }
   ],
   "source": [
    "M_forest_cv_all= GridSearchCV(rfc, RF_param_grid, cv=5)\n",
    "M_forest_cv_all.fit(M_X_train, y_train)"
   ]
  },
  {
   "cell_type": "code",
   "execution_count": 17,
   "metadata": {},
   "outputs": [
    {
     "name": "stdout",
     "output_type": "stream",
     "text": [
      "Best score: 0.6514417666006909\n",
      "Best parameters: {'criterion': 'entropy', 'max_depth': 11, 'max_features': 'auto', 'n_estimators': 240}\n"
     ]
    }
   ],
   "source": [
    "print('Best score:', M_forest_cv_all.best_score_)\n",
    "print('Best parameters:', M_forest_cv_all.best_params_)"
   ]
  },
  {
   "cell_type": "code",
   "execution_count": 18,
   "metadata": {},
   "outputs": [
    {
     "name": "stdout",
     "output_type": "stream",
     "text": [
      "0.9020517830972155\n",
      "0.6461538461538462\n"
     ]
    }
   ],
   "source": [
    "print(M_forest_cv_all.score(M_X_train, y_train))\n",
    "print(M_forest_cv_all.score(M_X_test, y_test))"
   ]
  },
  {
   "cell_type": "code",
   "execution_count": 19,
   "metadata": {},
   "outputs": [
    {
     "name": "stdout",
     "output_type": "stream",
     "text": [
      "Confusion matrix: [[  7   0   0   0   0   0   3   0   0   0   0   0   0   0   0  24   0  15]\n",
      " [  0   5   0   0   0   0   0   0   0   0   0   0   0   0   0   2   0   0]\n",
      " [  0   0   3   0   1   0   0   0   0   0   0   0   0   0   0   8   0   0]\n",
      " [  0   0   0   3   0   0   0   0   0   0   0   0   0   2   0  11   6   0]\n",
      " [  0   0   1   0  32   1   0   0   0   0   0   0   0   0   0  31   0  29]\n",
      " [  0   0   0   0   0  13   0   0   0   0   0   0   0   0   0   9   0  63]\n",
      " [  0   0   0   0   0   0  20   0   0   0   0   0   0   0   0  17   0   3]\n",
      " [  0   0   0   0   0   0   0   4   0   0   0   0   0   8   0   5   0   0]\n",
      " [  0   0   0   0   0   0   0   0   1   0   0   0   0   0   0   0   0   0]\n",
      " [  0   0   0   0   0   0   0   0   0   0   0   0   0   0   0   2   0   0]\n",
      " [  0   0   0   0   0   0   0   0   0   0   2   0   0   0   0   0   0   0]\n",
      " [  0   0   0   0   0   0   0   0   0   0   0   0   0   0   0   2   0   0]\n",
      " [  0   0   0   0   0   0   0   0   0   0   0   0   0   0   0   5   0   0]\n",
      " [  0   0   0   0   0   0   0   2   0   0   0   0   0 210   0  18   1   0]\n",
      " [  0   0   0   0   1   0   0   0   0   0   0   0   0   0   1   3   0   0]\n",
      " [  3   3   2   0   8   9   4   7   0   0   0   0   0  32   0 214   9 185]\n",
      " [  0   0   0   0   0   0   1   0   0   0   0   0   0   1   0  11 156   2]\n",
      " [  2   0   0   0   4   1   2   0   0   0   0   0   0   0   0  62   0 463]]\n",
      "Classification report:               precision    recall  f1-score   support\n",
      "\n",
      "      EPTFUS       0.58      0.14      0.23        49\n",
      "      EUMPER       0.62      0.71      0.67         7\n",
      "      EUMUND       0.50      0.25      0.33        12\n",
      "      LASBLO       1.00      0.14      0.24        22\n",
      "      LASCIN       0.70      0.34      0.46        94\n",
      "      LASNOC       0.54      0.15      0.24        85\n",
      "      LASXAN       0.67      0.50      0.57        40\n",
      "      MYOCAL       0.31      0.24      0.27        17\n",
      "      MYOCIL       1.00      1.00      1.00         1\n",
      "      MYOOCC       0.00      0.00      0.00         2\n",
      "      MYOTHY       1.00      1.00      1.00         2\n",
      "      MYOVEL       0.00      0.00      0.00         2\n",
      "      MYOVOL       0.00      0.00      0.00         5\n",
      "      MYOYUM       0.83      0.91      0.87       231\n",
      "      NYCFEM       1.00      0.20      0.33         5\n",
      "        NoID       0.50      0.45      0.48       476\n",
      "      PARHES       0.91      0.91      0.91       171\n",
      "      TADBRA       0.61      0.87      0.72       534\n",
      "\n",
      "    accuracy                           0.65      1755\n",
      "   macro avg       0.60      0.43      0.46      1755\n",
      "weighted avg       0.64      0.65      0.62      1755\n",
      "\n"
     ]
    },
    {
     "name": "stderr",
     "output_type": "stream",
     "text": [
      "C:\\Users\\matta\\anaconda3\\lib\\site-packages\\sklearn\\metrics\\_classification.py:1221: UndefinedMetricWarning: Precision and F-score are ill-defined and being set to 0.0 in labels with no predicted samples. Use `zero_division` parameter to control this behavior.\n",
      "  _warn_prf(average, modifier, msg_start, len(result))\n"
     ]
    }
   ],
   "source": [
    "RF_y_pred_all_M = M_forest_cv_all.predict(M_X_test)\n",
    "print('Confusion matrix:', confusion_matrix(y_test, RF_y_pred_all_M))\n",
    "print('Classification report:', classification_report(y_test, RF_y_pred_all_M))"
   ]
  },
  {
   "cell_type": "markdown",
   "metadata": {},
   "source": [
    "### Multicollinear features removed- Three Species"
   ]
  },
  {
   "cell_type": "code",
   "execution_count": 20,
   "metadata": {},
   "outputs": [
    {
     "data": {
      "text/plain": [
       "GridSearchCV(cv=5, estimator=RandomForestClassifier(random_state=42),\n",
       "             param_grid={'criterion': ['gini', 'entropy'],\n",
       "                         'max_depth': [9, 10, 11],\n",
       "                         'max_features': ['auto', 'sqrt', 'log2'],\n",
       "                         'n_estimators': [200, 220, 240, 260, 280]})"
      ]
     },
     "execution_count": 20,
     "metadata": {},
     "output_type": "execute_result"
    }
   ],
   "source": [
    "M_forest_cv_3 = GridSearchCV(rfc, RF_param_grid, cv=5)\n",
    "M_forest_cv_3.fit(M_X_train3, y_train3)"
   ]
  },
  {
   "cell_type": "code",
   "execution_count": 21,
   "metadata": {},
   "outputs": [
    {
     "name": "stdout",
     "output_type": "stream",
     "text": [
      "Best score: 0.7493884545229289\n",
      "Best parameters: {'criterion': 'gini', 'max_depth': 10, 'max_features': 'auto', 'n_estimators': 220}\n"
     ]
    }
   ],
   "source": [
    "print('Best score:', M_forest_cv_3.best_score_)\n",
    "print('Best parameters:', M_forest_cv_3.best_params_)"
   ]
  },
  {
   "cell_type": "code",
   "execution_count": 22,
   "metadata": {},
   "outputs": [
    {
     "name": "stdout",
     "output_type": "stream",
     "text": [
      "0.8878847093307279\n",
      "0.7504273504273504\n"
     ]
    }
   ],
   "source": [
    "print(M_forest_cv_3.score(M_X_train3, y_train3))\n",
    "print(M_forest_cv_3.score(M_X_test3, y_test3))"
   ]
  },
  {
   "cell_type": "code",
   "execution_count": 23,
   "metadata": {},
   "outputs": [
    {
     "name": "stdout",
     "output_type": "stream",
     "text": [
      "[[202   1   0  28]\n",
      " [  1 150   2  18]\n",
      " [  0   0 421 113]\n",
      " [ 33   7 235 544]]\n",
      "              precision    recall  f1-score   support\n",
      "\n",
      "      MYOYUM       0.86      0.87      0.87       231\n",
      "      PARHES       0.95      0.88      0.91       171\n",
      "      TADBRA       0.64      0.79      0.71       534\n",
      "       other       0.77      0.66      0.71       819\n",
      "\n",
      "    accuracy                           0.75      1755\n",
      "   macro avg       0.80      0.80      0.80      1755\n",
      "weighted avg       0.76      0.75      0.75      1755\n",
      "\n"
     ]
    }
   ],
   "source": [
    "RF_y_pred_3_M = M_forest_cv_3.predict(M_X_test3)\n",
    "print(confusion_matrix(y_test3, RF_y_pred_3_M))\n",
    "print(classification_report(y_test3, RF_y_pred_3_M))"
   ]
  },
  {
   "cell_type": "markdown",
   "metadata": {},
   "source": [
    "## KNN"
   ]
  },
  {
   "cell_type": "code",
   "execution_count": 60,
   "metadata": {},
   "outputs": [],
   "source": [
    "#from sklearn.neighbors import KNeighborsClassifier"
   ]
  },
  {
   "cell_type": "code",
   "execution_count": 89,
   "metadata": {},
   "outputs": [],
   "source": [
    "knn_params = {'n_neighbors':np.arange(1,50), \n",
    "             'weights': ['uniform', 'distance'], \n",
    "             'metric': ['euclidean', 'manhattan']}\n",
    "knn = KNeighborsClassifier()"
   ]
  },
  {
   "cell_type": "markdown",
   "metadata": {},
   "source": [
    "### All Species"
   ]
  },
  {
   "cell_type": "code",
   "execution_count": 147,
   "metadata": {},
   "outputs": [
    {
     "name": "stderr",
     "output_type": "stream",
     "text": [
      "C:\\Users\\matta\\anaconda3\\lib\\site-packages\\sklearn\\model_selection\\_split.py:670: UserWarning: The least populated class in y has only 1 members, which is less than n_splits=5.\n",
      "  warnings.warn((\"The least populated class in y has only %d\"\n"
     ]
    },
    {
     "data": {
      "text/plain": [
       "GridSearchCV(cv=5, estimator=KNeighborsClassifier(),\n",
       "             param_grid={'metric': ['euclidean', 'manhattan'],\n",
       "                         'n_neighbors': array([ 1,  2,  3,  4,  5,  6,  7,  8,  9, 10, 11, 12, 13, 14, 15, 16, 17,\n",
       "       18, 19, 20, 21, 22, 23, 24, 25, 26, 27, 28, 29, 30, 31, 32, 33, 34,\n",
       "       35, 36, 37, 38, 39, 40, 41, 42, 43, 44, 45, 46, 47, 48, 49]),\n",
       "                         'weights': ['uniform', 'distance']})"
      ]
     },
     "execution_count": 147,
     "metadata": {},
     "output_type": "execute_result"
    }
   ],
   "source": [
    "knn_cv_all= GridSearchCV(knn, knn_params, cv=5)\n",
    "knn_cv_all.fit(X_train, y_train)"
   ]
  },
  {
   "cell_type": "code",
   "execution_count": 148,
   "metadata": {},
   "outputs": [
    {
     "name": "stdout",
     "output_type": "stream",
     "text": [
      "Best Score:0.610404482776121\n",
      "Best Parameters: {'metric': 'manhattan', 'n_neighbors': 15, 'weights': 'distance'}\n"
     ]
    }
   ],
   "source": [
    "print(\"Best Score:\" + str(knn_cv_all.best_score_))\n",
    "print(\"Best Parameters: \" + str(knn_cv_all.best_params_))"
   ]
  },
  {
   "cell_type": "code",
   "execution_count": 149,
   "metadata": {},
   "outputs": [
    {
     "name": "stdout",
     "output_type": "stream",
     "text": [
      "1.0\n",
      "0.6028490028490029\n"
     ]
    }
   ],
   "source": [
    "print(knn_cv_all.score(X_train, y_train))\n",
    "print(knn_cv_all.score(X_test, y_test))"
   ]
  },
  {
   "cell_type": "code",
   "execution_count": 150,
   "metadata": {},
   "outputs": [
    {
     "name": "stdout",
     "output_type": "stream",
     "text": [
      "Confusion matrix: [[  7   0   0   0   0   0   3   0   0   0   0   0   0   0   0  14   0  25]\n",
      " [  0   5   0   0   0   0   0   0   0   0   0   0   0   0   0   2   0   0]\n",
      " [  0   0   0   0   2   0   0   0   0   0   0   0   0   0   0  10   0   0]\n",
      " [  0   0   0   2   0   0   0   0   0   0   0   0   0   6   0   7   6   1]\n",
      " [  0   0   0   0  26   1   0   0   0   0   0   0   0   0   0  25   0  42]\n",
      " [  1   0   0   0   0   7   0   0   0   0   0   0   0   0   0   8   0  69]\n",
      " [  1   0   0   0   0   0   9   0   0   0   0   0   0   0   0  19   1  10]\n",
      " [  0   0   0   0   0   0   0   0   0   0   0   0   0  12   0   4   1   0]\n",
      " [  0   0   0   0   0   0   0   0   0   0   0   0   0   1   0   0   0   0]\n",
      " [  0   0   0   0   0   0   0   0   0   0   0   0   0   0   0   2   0   0]\n",
      " [  0   0   0   0   0   0   0   0   0   0   2   0   0   0   0   0   0   0]\n",
      " [  0   0   0   0   0   0   0   0   0   0   0   0   0   2   0   0   0   0]\n",
      " [  0   0   0   0   0   0   0   0   0   0   0   0   0   1   0   4   0   0]\n",
      " [  0   0   0   0   0   0   0   2   0   0   0   0   0 206   0  18   4   1]\n",
      " [  0   0   0   0   0   0   0   0   0   0   0   0   0   0   1   3   0   1]\n",
      " [  5   4   0   0   9   4   2   1   0   0   0   0   0  47   0 175  11 218]\n",
      " [  0   0   0   0   0   0   0   0   0   0   0   0   0   2   0   9 158   2]\n",
      " [  6   0   0   0   6   5   1   0   0   0   0   0   0   1   0  55   0 460]]\n",
      "Classification report:               precision    recall  f1-score   support\n",
      "\n",
      "      EPTFUS       0.35      0.14      0.20        49\n",
      "      EUMPER       0.56      0.71      0.63         7\n",
      "      EUMUND       0.00      0.00      0.00        12\n",
      "      LASBLO       1.00      0.09      0.17        22\n",
      "      LASCIN       0.60      0.28      0.38        94\n",
      "      LASNOC       0.41      0.08      0.14        85\n",
      "      LASXAN       0.60      0.23      0.33        40\n",
      "      MYOCAL       0.00      0.00      0.00        17\n",
      "      MYOCIL       0.00      0.00      0.00         1\n",
      "      MYOOCC       0.00      0.00      0.00         2\n",
      "      MYOTHY       1.00      1.00      1.00         2\n",
      "      MYOVEL       0.00      0.00      0.00         2\n",
      "      MYOVOL       0.00      0.00      0.00         5\n",
      "      MYOYUM       0.74      0.89      0.81       231\n",
      "      NYCFEM       1.00      0.20      0.33         5\n",
      "        NoID       0.49      0.37      0.42       476\n",
      "      PARHES       0.87      0.92      0.90       171\n",
      "      TADBRA       0.55      0.86      0.67       534\n",
      "\n",
      "    accuracy                           0.60      1755\n",
      "   macro avg       0.45      0.32      0.33      1755\n",
      "weighted avg       0.58      0.60      0.56      1755\n",
      "\n"
     ]
    },
    {
     "name": "stderr",
     "output_type": "stream",
     "text": [
      "C:\\Users\\matta\\anaconda3\\lib\\site-packages\\sklearn\\metrics\\_classification.py:1221: UndefinedMetricWarning: Precision and F-score are ill-defined and being set to 0.0 in labels with no predicted samples. Use `zero_division` parameter to control this behavior.\n",
      "  _warn_prf(average, modifier, msg_start, len(result))\n"
     ]
    }
   ],
   "source": [
    "knn_y_pred_all = knn_cv_all.predict(X_test)\n",
    "print('Confusion matrix:', confusion_matrix(y_test, knn_y_pred_all))\n",
    "print('Classification report:', classification_report(y_test, knn_y_pred_all))"
   ]
  },
  {
   "cell_type": "markdown",
   "metadata": {},
   "source": [
    "### Three Species"
   ]
  },
  {
   "cell_type": "code",
   "execution_count": 94,
   "metadata": {},
   "outputs": [
    {
     "data": {
      "text/plain": [
       "GridSearchCV(cv=5, estimator=KNeighborsClassifier(),\n",
       "             param_grid={'metric': ['euclidean', 'manhattan'],\n",
       "                         'n_neighbors': array([ 1,  2,  3,  4,  5,  6,  7,  8,  9, 10, 11, 12, 13, 14, 15, 16, 17,\n",
       "       18, 19, 20, 21, 22, 23, 24, 25, 26, 27, 28, 29, 30, 31, 32, 33, 34,\n",
       "       35, 36, 37, 38, 39, 40, 41, 42, 43, 44, 45, 46, 47, 48, 49]),\n",
       "                         'weights': ['uniform', 'distance']})"
      ]
     },
     "execution_count": 94,
     "metadata": {},
     "output_type": "execute_result"
    }
   ],
   "source": [
    "knn_cv3= GridSearchCV(knn, knn_params, cv=5)\n",
    "knn_cv3.fit(X_train3, y_train3)"
   ]
  },
  {
   "cell_type": "code",
   "execution_count": 95,
   "metadata": {},
   "outputs": [
    {
     "name": "stdout",
     "output_type": "stream",
     "text": [
      "Best Score:0.7147030638473183\n",
      "Best Parameters: {'metric': 'manhattan', 'n_neighbors': 23, 'weights': 'distance'}\n"
     ]
    }
   ],
   "source": [
    "print(\"Best Score:\" + str(knn_cv3.best_score_))\n",
    "print(\"Best Parameters: \" + str(knn_cv3.best_params_))"
   ]
  },
  {
   "cell_type": "code",
   "execution_count": 100,
   "metadata": {},
   "outputs": [
    {
     "name": "stdout",
     "output_type": "stream",
     "text": [
      "1.0\n",
      "0.7037037037037037\n"
     ]
    }
   ],
   "source": [
    "print(knn_cv3.score(X_train3, y_train3))\n",
    "print(knn_cv3.score(X_test3, y_test3))"
   ]
  },
  {
   "cell_type": "code",
   "execution_count": 97,
   "metadata": {},
   "outputs": [
    {
     "name": "stdout",
     "output_type": "stream",
     "text": [
      "[[195   4   1  31]\n",
      " [  2 156   1  12]\n",
      " [  0   0 422 112]\n",
      " [ 59  14 284 462]]\n",
      "              precision    recall  f1-score   support\n",
      "\n",
      "      MYOYUM       0.76      0.84      0.80       231\n",
      "      PARHES       0.90      0.91      0.90       171\n",
      "      TADBRA       0.60      0.79      0.68       534\n",
      "       other       0.75      0.56      0.64       819\n",
      "\n",
      "    accuracy                           0.70      1755\n",
      "   macro avg       0.75      0.78      0.76      1755\n",
      "weighted avg       0.72      0.70      0.70      1755\n",
      "\n"
     ]
    }
   ],
   "source": [
    "knn_y_pred3 = knn_cv3.predict(X_test3)\n",
    "print(confusion_matrix(y_test3, knn_y_pred3))\n",
    "print(classification_report(y_test3, knn_y_pred3))"
   ]
  },
  {
   "cell_type": "markdown",
   "metadata": {},
   "source": [
    "### Scaled All Species"
   ]
  },
  {
   "cell_type": "code",
   "execution_count": 129,
   "metadata": {},
   "outputs": [
    {
     "name": "stderr",
     "output_type": "stream",
     "text": [
      "C:\\Users\\matta\\anaconda3\\lib\\site-packages\\sklearn\\model_selection\\_split.py:670: UserWarning: The least populated class in y has only 1 members, which is less than n_splits=5.\n",
      "  warnings.warn((\"The least populated class in y has only %d\"\n"
     ]
    },
    {
     "data": {
      "text/plain": [
       "GridSearchCV(cv=5, estimator=KNeighborsClassifier(),\n",
       "             param_grid={'metric': ['euclidean', 'manhattan'],\n",
       "                         'n_neighbors': array([ 1,  2,  3,  4,  5,  6,  7,  8,  9, 10, 11, 12, 13, 14, 15, 16, 17,\n",
       "       18, 19, 20, 21, 22, 23, 24, 25, 26, 27, 28, 29, 30, 31, 32, 33, 34,\n",
       "       35, 36, 37, 38, 39, 40, 41, 42, 43, 44, 45, 46, 47, 48, 49]),\n",
       "                         'weights': ['uniform', 'distance']})"
      ]
     },
     "execution_count": 129,
     "metadata": {},
     "output_type": "execute_result"
    }
   ],
   "source": [
    "knn_cv_all_scaled = GridSearchCV(knn, knn_params, cv=5)\n",
    "knn_cv_all_scaled.fit(X_train_scaled, y_train)"
   ]
  },
  {
   "cell_type": "code",
   "execution_count": 130,
   "metadata": {},
   "outputs": [
    {
     "name": "stdout",
     "output_type": "stream",
     "text": [
      "Best Score:0.6426478710097292\n",
      "Best Parameters: {'metric': 'manhattan', 'n_neighbors': 19, 'weights': 'distance'}\n"
     ]
    }
   ],
   "source": [
    "print(\"Best Score:\" + str(knn_cv_all_scaled.best_score_))\n",
    "print(\"Best Parameters: \" + str(knn_cv_all_scaled.best_params_))"
   ]
  },
  {
   "cell_type": "code",
   "execution_count": 131,
   "metadata": {},
   "outputs": [
    {
     "name": "stdout",
     "output_type": "stream",
     "text": [
      "1.0\n",
      "0.6336182336182337\n"
     ]
    }
   ],
   "source": [
    "print(knn_cv_all_scaled.score(X_train_scaled, y_train))\n",
    "print(knn_cv_all_scaled.score(X_test_scaled, y_test))"
   ]
  },
  {
   "cell_type": "code",
   "execution_count": 132,
   "metadata": {},
   "outputs": [
    {
     "name": "stdout",
     "output_type": "stream",
     "text": [
      "Confusion matrix: [[  0   0   0   0   0   0   0   0   0   0   0   0   0  49   0   0   0   0]\n",
      " [  0   0   0   0   0   0   0   0   0   0   0   0   0   5   0   0   2   0]\n",
      " [  0   0   0   0   0   0   0   0   0   0   0   0   0   6   0   1   5   0]\n",
      " [  0   0   0   0   0   0   0   0   0   0   0   0   0  22   0   0   0   0]\n",
      " [  0   0   0   0   0   0   0   0   0   0   0   0   0  90   0   0   4   0]\n",
      " [  0   0   0   0   0   0   0   0   0   0   0   0   0  80   0   0   5   0]\n",
      " [  0   0   0   0   0   0   0   0   0   0   0   0   0  40   0   0   0   0]\n",
      " [  0   0   0   0   0   0   0   0   0   0   0   0   0  17   0   0   0   0]\n",
      " [  0   0   0   0   0   0   0   0   0   0   0   0   0   1   0   0   0   0]\n",
      " [  0   0   0   0   0   0   0   0   0   0   0   0   0   2   0   0   0   0]\n",
      " [  0   0   0   0   0   0   0   0   0   0   0   0   0   2   0   0   0   0]\n",
      " [  0   0   0   0   0   0   0   0   0   0   0   0   0   2   0   0   0   0]\n",
      " [  0   0   0   0   0   0   0   0   0   0   0   0   0   5   0   0   0   0]\n",
      " [  0   0   0   0   0   0   0   0   0   0   0   0   0 231   0   0   0   0]\n",
      " [  0   0   0   0   0   0   0   0   0   0   0   0   0   5   0   0   0   0]\n",
      " [  0   0   0   0   0   0   0   0   0   0   0   0   0 423   0   0  53   0]\n",
      " [  0   0   0   0   0   0   0   0   0   0   0   0   0 171   0   0   0   0]\n",
      " [  0   0   0   0   0   0   0   0   0   0   0   0   0 509   0   0  25   0]]\n",
      "Classification report:               precision    recall  f1-score   support\n",
      "\n",
      "      EPTFUS       0.00      0.00      0.00        49\n",
      "      EUMPER       0.00      0.00      0.00         7\n",
      "      EUMUND       0.00      0.00      0.00        12\n",
      "      LASBLO       0.00      0.00      0.00        22\n",
      "      LASCIN       0.00      0.00      0.00        94\n",
      "      LASNOC       0.00      0.00      0.00        85\n",
      "      LASXAN       0.00      0.00      0.00        40\n",
      "      MYOCAL       0.00      0.00      0.00        17\n",
      "      MYOCIL       0.00      0.00      0.00         1\n",
      "      MYOOCC       0.00      0.00      0.00         2\n",
      "      MYOTHY       0.00      0.00      0.00         2\n",
      "      MYOVEL       0.00      0.00      0.00         2\n",
      "      MYOVOL       0.00      0.00      0.00         5\n",
      "      MYOYUM       0.14      1.00      0.24       231\n",
      "      NYCFEM       0.00      0.00      0.00         5\n",
      "        NoID       0.00      0.00      0.00       476\n",
      "      PARHES       0.00      0.00      0.00       171\n",
      "      TADBRA       0.00      0.00      0.00       534\n",
      "\n",
      "    accuracy                           0.13      1755\n",
      "   macro avg       0.01      0.06      0.01      1755\n",
      "weighted avg       0.02      0.13      0.03      1755\n",
      "\n"
     ]
    },
    {
     "name": "stderr",
     "output_type": "stream",
     "text": [
      "C:\\Users\\matta\\anaconda3\\lib\\site-packages\\sklearn\\metrics\\_classification.py:1221: UndefinedMetricWarning: Precision and F-score are ill-defined and being set to 0.0 in labels with no predicted samples. Use `zero_division` parameter to control this behavior.\n",
      "  _warn_prf(average, modifier, msg_start, len(result))\n"
     ]
    }
   ],
   "source": [
    "knn_y_pred_all_scaled = knn_cv_all_scaled.predict(X_test)\n",
    "print('Confusion matrix:', confusion_matrix(y_test, knn_y_pred_all_scaled))\n",
    "print('Classification report:', classification_report(y_test, knn_y_pred_all_scaled))"
   ]
  },
  {
   "cell_type": "markdown",
   "metadata": {},
   "source": [
    "### Scaled Three Species"
   ]
  },
  {
   "cell_type": "code",
   "execution_count": 133,
   "metadata": {},
   "outputs": [
    {
     "data": {
      "text/plain": [
       "GridSearchCV(cv=5, estimator=KNeighborsClassifier(),\n",
       "             param_grid={'metric': ['euclidean', 'manhattan'],\n",
       "                         'n_neighbors': array([ 1,  2,  3,  4,  5,  6,  7,  8,  9, 10, 11, 12, 13, 14, 15, 16, 17,\n",
       "       18, 19, 20, 21, 22, 23, 24, 25, 26, 27, 28, 29, 30, 31, 32, 33, 34,\n",
       "       35, 36, 37, 38, 39, 40, 41, 42, 43, 44, 45, 46, 47, 48, 49]),\n",
       "                         'weights': ['uniform', 'distance']})"
      ]
     },
     "execution_count": 133,
     "metadata": {},
     "output_type": "execute_result"
    }
   ],
   "source": [
    "knn_cv_all_scaled3 = GridSearchCV(knn, knn_params, cv=5)\n",
    "knn_cv_all_scaled3.fit(X_train_scaled3, y_train3)"
   ]
  },
  {
   "cell_type": "code",
   "execution_count": 134,
   "metadata": {},
   "outputs": [
    {
     "name": "stdout",
     "output_type": "stream",
     "text": [
      "Best Score:0.7420573721307218\n",
      "Best Parameters: {'metric': 'manhattan', 'n_neighbors': 16, 'weights': 'distance'}\n"
     ]
    }
   ],
   "source": [
    "print(\"Best Score:\" + str(knn_cv_all_scaled3.best_score_))\n",
    "print(\"Best Parameters: \" + str(knn_cv_all_scaled3.best_params_))"
   ]
  },
  {
   "cell_type": "code",
   "execution_count": 135,
   "metadata": {},
   "outputs": [
    {
     "name": "stdout",
     "output_type": "stream",
     "text": [
      "1.0\n",
      "0.7424501424501424\n"
     ]
    }
   ],
   "source": [
    "print(knn_cv_all_scaled3.score(X_train_scaled3, y_train3))\n",
    "print(knn_cv_all_scaled3.score(X_test_scaled3, y_test3))"
   ]
  },
  {
   "cell_type": "code",
   "execution_count": 136,
   "metadata": {},
   "outputs": [
    {
     "name": "stdout",
     "output_type": "stream",
     "text": [
      "Confusion matrix: [[231   0   0   0]\n",
      " [171   0   0   0]\n",
      " [507  25   0   2]\n",
      " [745  67   0   7]]\n",
      "Classification report:               precision    recall  f1-score   support\n",
      "\n",
      "      MYOYUM       0.14      1.00      0.25       231\n",
      "      PARHES       0.00      0.00      0.00       171\n",
      "      TADBRA       0.00      0.00      0.00       534\n",
      "       other       0.78      0.01      0.02       819\n",
      "\n",
      "    accuracy                           0.14      1755\n",
      "   macro avg       0.23      0.25      0.07      1755\n",
      "weighted avg       0.38      0.14      0.04      1755\n",
      "\n"
     ]
    },
    {
     "name": "stderr",
     "output_type": "stream",
     "text": [
      "C:\\Users\\matta\\anaconda3\\lib\\site-packages\\sklearn\\metrics\\_classification.py:1221: UndefinedMetricWarning: Precision and F-score are ill-defined and being set to 0.0 in labels with no predicted samples. Use `zero_division` parameter to control this behavior.\n",
      "  _warn_prf(average, modifier, msg_start, len(result))\n"
     ]
    }
   ],
   "source": [
    "knn_y_pred_all_scaled3 = knn_cv_all_scaled3.predict(X_test3)\n",
    "print('Confusion matrix:', confusion_matrix(y_test3, knn_y_pred_all_scaled3))\n",
    "print('Classification report:', classification_report(y_test3, knn_y_pred_all_scaled3))"
   ]
  },
  {
   "cell_type": "markdown",
   "metadata": {},
   "source": [
    "## XGBoost"
   ]
  },
  {
   "cell_type": "code",
   "execution_count": 58,
   "metadata": {},
   "outputs": [],
   "source": [
    "xgb = XGBClassifier(random_state = 42)\n",
    "xgb_params = {'n_estimators' : [20, 100], \n",
    "              'learning_rates' : [0.05, 0.1], \n",
    "              'max_features' : [3, 4, 5]}"
   ]
  },
  {
   "cell_type": "markdown",
   "metadata": {},
   "source": [
    "### All Species Classifier"
   ]
  },
  {
   "cell_type": "code",
   "execution_count": 59,
   "metadata": {},
   "outputs": [
    {
     "name": "stderr",
     "output_type": "stream",
     "text": [
      "C:\\Users\\matta\\anaconda3\\lib\\site-packages\\sklearn\\model_selection\\_split.py:670: UserWarning: The least populated class in y has only 1 members, which is less than n_splits=5.\n",
      "  warnings.warn((\"The least populated class in y has only %d\"\n",
      "C:\\Users\\matta\\anaconda3\\lib\\site-packages\\xgboost\\sklearn.py:888: UserWarning: The use of label encoder in XGBClassifier is deprecated and will be removed in a future release. To remove this warning, do the following: 1) Pass option use_label_encoder=False when constructing XGBClassifier object; and 2) Encode your labels (y) as integers starting with 0, i.e. 0, 1, 2, ..., [num_class - 1].\n",
      "  warnings.warn(label_encoder_deprecation_msg, UserWarning)\n"
     ]
    },
    {
     "name": "stdout",
     "output_type": "stream",
     "text": [
      "[17:51:39] WARNING: C:/Users/Administrator/workspace/xgboost-win64_release_1.3.0/src/learner.cc:541: \n",
      "Parameters: { learning_rates, max_features } might not be used.\n",
      "\n",
      "  This may not be accurate due to some parameters are only used in language bindings but\n",
      "  passed down to XGBoost core.  Or some parameters are not used but slip through this\n",
      "  verification. Please open an issue if you find above cases.\n",
      "\n",
      "\n",
      "[17:51:39] WARNING: C:/Users/Administrator/workspace/xgboost-win64_release_1.3.0/src/learner.cc:1061: Starting in XGBoost 1.3.0, the default evaluation metric used with the objective 'multi:softprob' was changed from 'merror' to 'mlogloss'. Explicitly set eval_metric if you'd like to restore the old behavior.\n",
      "[17:51:40] WARNING: C:/Users/Administrator/workspace/xgboost-win64_release_1.3.0/src/learner.cc:541: \n",
      "Parameters: { learning_rates, max_features } might not be used.\n",
      "\n",
      "  This may not be accurate due to some parameters are only used in language bindings but\n",
      "  passed down to XGBoost core.  Or some parameters are not used but slip through this\n",
      "  verification. Please open an issue if you find above cases.\n",
      "\n",
      "\n",
      "[17:51:40] WARNING: C:/Users/Administrator/workspace/xgboost-win64_release_1.3.0/src/learner.cc:1061: Starting in XGBoost 1.3.0, the default evaluation metric used with the objective 'multi:softprob' was changed from 'merror' to 'mlogloss'. Explicitly set eval_metric if you'd like to restore the old behavior.\n",
      "[17:51:42] WARNING: C:/Users/Administrator/workspace/xgboost-win64_release_1.3.0/src/learner.cc:541: \n",
      "Parameters: { learning_rates, max_features } might not be used.\n",
      "\n",
      "  This may not be accurate due to some parameters are only used in language bindings but\n",
      "  passed down to XGBoost core.  Or some parameters are not used but slip through this\n",
      "  verification. Please open an issue if you find above cases.\n",
      "\n",
      "\n",
      "[17:51:42] WARNING: C:/Users/Administrator/workspace/xgboost-win64_release_1.3.0/src/learner.cc:1061: Starting in XGBoost 1.3.0, the default evaluation metric used with the objective 'multi:softprob' was changed from 'merror' to 'mlogloss'. Explicitly set eval_metric if you'd like to restore the old behavior.\n",
      "[17:51:43] WARNING: C:/Users/Administrator/workspace/xgboost-win64_release_1.3.0/src/learner.cc:541: \n",
      "Parameters: { learning_rates, max_features } might not be used.\n",
      "\n",
      "  This may not be accurate due to some parameters are only used in language bindings but\n",
      "  passed down to XGBoost core.  Or some parameters are not used but slip through this\n",
      "  verification. Please open an issue if you find above cases.\n",
      "\n",
      "\n",
      "[17:51:43] WARNING: C:/Users/Administrator/workspace/xgboost-win64_release_1.3.0/src/learner.cc:1061: Starting in XGBoost 1.3.0, the default evaluation metric used with the objective 'multi:softprob' was changed from 'merror' to 'mlogloss'. Explicitly set eval_metric if you'd like to restore the old behavior.\n",
      "[17:51:44] WARNING: C:/Users/Administrator/workspace/xgboost-win64_release_1.3.0/src/learner.cc:541: \n",
      "Parameters: { learning_rates, max_features } might not be used.\n",
      "\n",
      "  This may not be accurate due to some parameters are only used in language bindings but\n",
      "  passed down to XGBoost core.  Or some parameters are not used but slip through this\n",
      "  verification. Please open an issue if you find above cases.\n",
      "\n",
      "\n",
      "[17:51:44] WARNING: C:/Users/Administrator/workspace/xgboost-win64_release_1.3.0/src/learner.cc:1061: Starting in XGBoost 1.3.0, the default evaluation metric used with the objective 'multi:softprob' was changed from 'merror' to 'mlogloss'. Explicitly set eval_metric if you'd like to restore the old behavior.\n",
      "[17:51:45] WARNING: C:/Users/Administrator/workspace/xgboost-win64_release_1.3.0/src/learner.cc:541: \n",
      "Parameters: { learning_rates, max_features } might not be used.\n",
      "\n",
      "  This may not be accurate due to some parameters are only used in language bindings but\n",
      "  passed down to XGBoost core.  Or some parameters are not used but slip through this\n",
      "  verification. Please open an issue if you find above cases.\n",
      "\n",
      "\n",
      "[17:51:45] WARNING: C:/Users/Administrator/workspace/xgboost-win64_release_1.3.0/src/learner.cc:1061: Starting in XGBoost 1.3.0, the default evaluation metric used with the objective 'multi:softprob' was changed from 'merror' to 'mlogloss'. Explicitly set eval_metric if you'd like to restore the old behavior.\n",
      "[17:51:49] WARNING: C:/Users/Administrator/workspace/xgboost-win64_release_1.3.0/src/learner.cc:541: \n",
      "Parameters: { learning_rates, max_features } might not be used.\n",
      "\n",
      "  This may not be accurate due to some parameters are only used in language bindings but\n",
      "  passed down to XGBoost core.  Or some parameters are not used but slip through this\n",
      "  verification. Please open an issue if you find above cases.\n",
      "\n",
      "\n",
      "[17:51:49] WARNING: C:/Users/Administrator/workspace/xgboost-win64_release_1.3.0/src/learner.cc:1061: Starting in XGBoost 1.3.0, the default evaluation metric used with the objective 'multi:softprob' was changed from 'merror' to 'mlogloss'. Explicitly set eval_metric if you'd like to restore the old behavior.\n",
      "[17:51:54] WARNING: C:/Users/Administrator/workspace/xgboost-win64_release_1.3.0/src/learner.cc:541: \n",
      "Parameters: { learning_rates, max_features } might not be used.\n",
      "\n",
      "  This may not be accurate due to some parameters are only used in language bindings but\n",
      "  passed down to XGBoost core.  Or some parameters are not used but slip through this\n",
      "  verification. Please open an issue if you find above cases.\n",
      "\n",
      "\n",
      "[17:51:54] WARNING: C:/Users/Administrator/workspace/xgboost-win64_release_1.3.0/src/learner.cc:1061: Starting in XGBoost 1.3.0, the default evaluation metric used with the objective 'multi:softprob' was changed from 'merror' to 'mlogloss'. Explicitly set eval_metric if you'd like to restore the old behavior.\n",
      "[17:52:00] WARNING: C:/Users/Administrator/workspace/xgboost-win64_release_1.3.0/src/learner.cc:541: \n",
      "Parameters: { learning_rates, max_features } might not be used.\n",
      "\n",
      "  This may not be accurate due to some parameters are only used in language bindings but\n",
      "  passed down to XGBoost core.  Or some parameters are not used but slip through this\n",
      "  verification. Please open an issue if you find above cases.\n",
      "\n",
      "\n",
      "[17:52:00] WARNING: C:/Users/Administrator/workspace/xgboost-win64_release_1.3.0/src/learner.cc:1061: Starting in XGBoost 1.3.0, the default evaluation metric used with the objective 'multi:softprob' was changed from 'merror' to 'mlogloss'. Explicitly set eval_metric if you'd like to restore the old behavior.\n",
      "[17:52:05] WARNING: C:/Users/Administrator/workspace/xgboost-win64_release_1.3.0/src/learner.cc:541: \n",
      "Parameters: { learning_rates, max_features } might not be used.\n",
      "\n",
      "  This may not be accurate due to some parameters are only used in language bindings but\n",
      "  passed down to XGBoost core.  Or some parameters are not used but slip through this\n",
      "  verification. Please open an issue if you find above cases.\n",
      "\n",
      "\n",
      "[17:52:05] WARNING: C:/Users/Administrator/workspace/xgboost-win64_release_1.3.0/src/learner.cc:1061: Starting in XGBoost 1.3.0, the default evaluation metric used with the objective 'multi:softprob' was changed from 'merror' to 'mlogloss'. Explicitly set eval_metric if you'd like to restore the old behavior.\n",
      "[17:52:09] WARNING: C:/Users/Administrator/workspace/xgboost-win64_release_1.3.0/src/learner.cc:541: \n",
      "Parameters: { learning_rates, max_features } might not be used.\n",
      "\n",
      "  This may not be accurate due to some parameters are only used in language bindings but\n",
      "  passed down to XGBoost core.  Or some parameters are not used but slip through this\n",
      "  verification. Please open an issue if you find above cases.\n",
      "\n",
      "\n",
      "[17:52:09] WARNING: C:/Users/Administrator/workspace/xgboost-win64_release_1.3.0/src/learner.cc:1061: Starting in XGBoost 1.3.0, the default evaluation metric used with the objective 'multi:softprob' was changed from 'merror' to 'mlogloss'. Explicitly set eval_metric if you'd like to restore the old behavior.\n",
      "[17:52:11] WARNING: C:/Users/Administrator/workspace/xgboost-win64_release_1.3.0/src/learner.cc:541: \n",
      "Parameters: { learning_rates, max_features } might not be used.\n",
      "\n",
      "  This may not be accurate due to some parameters are only used in language bindings but\n",
      "  passed down to XGBoost core.  Or some parameters are not used but slip through this\n",
      "  verification. Please open an issue if you find above cases.\n",
      "\n",
      "\n",
      "[17:52:11] WARNING: C:/Users/Administrator/workspace/xgboost-win64_release_1.3.0/src/learner.cc:1061: Starting in XGBoost 1.3.0, the default evaluation metric used with the objective 'multi:softprob' was changed from 'merror' to 'mlogloss'. Explicitly set eval_metric if you'd like to restore the old behavior.\n"
     ]
    },
    {
     "name": "stdout",
     "output_type": "stream",
     "text": [
      "[17:52:12] WARNING: C:/Users/Administrator/workspace/xgboost-win64_release_1.3.0/src/learner.cc:541: \n",
      "Parameters: { learning_rates, max_features } might not be used.\n",
      "\n",
      "  This may not be accurate due to some parameters are only used in language bindings but\n",
      "  passed down to XGBoost core.  Or some parameters are not used but slip through this\n",
      "  verification. Please open an issue if you find above cases.\n",
      "\n",
      "\n",
      "[17:52:12] WARNING: C:/Users/Administrator/workspace/xgboost-win64_release_1.3.0/src/learner.cc:1061: Starting in XGBoost 1.3.0, the default evaluation metric used with the objective 'multi:softprob' was changed from 'merror' to 'mlogloss'. Explicitly set eval_metric if you'd like to restore the old behavior.\n",
      "[17:52:13] WARNING: C:/Users/Administrator/workspace/xgboost-win64_release_1.3.0/src/learner.cc:541: \n",
      "Parameters: { learning_rates, max_features } might not be used.\n",
      "\n",
      "  This may not be accurate due to some parameters are only used in language bindings but\n",
      "  passed down to XGBoost core.  Or some parameters are not used but slip through this\n",
      "  verification. Please open an issue if you find above cases.\n",
      "\n",
      "\n",
      "[17:52:13] WARNING: C:/Users/Administrator/workspace/xgboost-win64_release_1.3.0/src/learner.cc:1061: Starting in XGBoost 1.3.0, the default evaluation metric used with the objective 'multi:softprob' was changed from 'merror' to 'mlogloss'. Explicitly set eval_metric if you'd like to restore the old behavior.\n",
      "[17:52:15] WARNING: C:/Users/Administrator/workspace/xgboost-win64_release_1.3.0/src/learner.cc:541: \n",
      "Parameters: { learning_rates, max_features } might not be used.\n",
      "\n",
      "  This may not be accurate due to some parameters are only used in language bindings but\n",
      "  passed down to XGBoost core.  Or some parameters are not used but slip through this\n",
      "  verification. Please open an issue if you find above cases.\n",
      "\n",
      "\n",
      "[17:52:15] WARNING: C:/Users/Administrator/workspace/xgboost-win64_release_1.3.0/src/learner.cc:1061: Starting in XGBoost 1.3.0, the default evaluation metric used with the objective 'multi:softprob' was changed from 'merror' to 'mlogloss'. Explicitly set eval_metric if you'd like to restore the old behavior.\n",
      "[17:52:16] WARNING: C:/Users/Administrator/workspace/xgboost-win64_release_1.3.0/src/learner.cc:541: \n",
      "Parameters: { learning_rates, max_features } might not be used.\n",
      "\n",
      "  This may not be accurate due to some parameters are only used in language bindings but\n",
      "  passed down to XGBoost core.  Or some parameters are not used but slip through this\n",
      "  verification. Please open an issue if you find above cases.\n",
      "\n",
      "\n",
      "[17:52:16] WARNING: C:/Users/Administrator/workspace/xgboost-win64_release_1.3.0/src/learner.cc:1061: Starting in XGBoost 1.3.0, the default evaluation metric used with the objective 'multi:softprob' was changed from 'merror' to 'mlogloss'. Explicitly set eval_metric if you'd like to restore the old behavior.\n",
      "[17:52:21] WARNING: C:/Users/Administrator/workspace/xgboost-win64_release_1.3.0/src/learner.cc:541: \n",
      "Parameters: { learning_rates, max_features } might not be used.\n",
      "\n",
      "  This may not be accurate due to some parameters are only used in language bindings but\n",
      "  passed down to XGBoost core.  Or some parameters are not used but slip through this\n",
      "  verification. Please open an issue if you find above cases.\n",
      "\n",
      "\n",
      "[17:52:21] WARNING: C:/Users/Administrator/workspace/xgboost-win64_release_1.3.0/src/learner.cc:1061: Starting in XGBoost 1.3.0, the default evaluation metric used with the objective 'multi:softprob' was changed from 'merror' to 'mlogloss'. Explicitly set eval_metric if you'd like to restore the old behavior.\n",
      "[17:52:26] WARNING: C:/Users/Administrator/workspace/xgboost-win64_release_1.3.0/src/learner.cc:541: \n",
      "Parameters: { learning_rates, max_features } might not be used.\n",
      "\n",
      "  This may not be accurate due to some parameters are only used in language bindings but\n",
      "  passed down to XGBoost core.  Or some parameters are not used but slip through this\n",
      "  verification. Please open an issue if you find above cases.\n",
      "\n",
      "\n",
      "[17:52:26] WARNING: C:/Users/Administrator/workspace/xgboost-win64_release_1.3.0/src/learner.cc:1061: Starting in XGBoost 1.3.0, the default evaluation metric used with the objective 'multi:softprob' was changed from 'merror' to 'mlogloss'. Explicitly set eval_metric if you'd like to restore the old behavior.\n",
      "[17:52:31] WARNING: C:/Users/Administrator/workspace/xgboost-win64_release_1.3.0/src/learner.cc:541: \n",
      "Parameters: { learning_rates, max_features } might not be used.\n",
      "\n",
      "  This may not be accurate due to some parameters are only used in language bindings but\n",
      "  passed down to XGBoost core.  Or some parameters are not used but slip through this\n",
      "  verification. Please open an issue if you find above cases.\n",
      "\n",
      "\n",
      "[17:52:32] WARNING: C:/Users/Administrator/workspace/xgboost-win64_release_1.3.0/src/learner.cc:1061: Starting in XGBoost 1.3.0, the default evaluation metric used with the objective 'multi:softprob' was changed from 'merror' to 'mlogloss'. Explicitly set eval_metric if you'd like to restore the old behavior.\n",
      "[17:52:37] WARNING: C:/Users/Administrator/workspace/xgboost-win64_release_1.3.0/src/learner.cc:541: \n",
      "Parameters: { learning_rates, max_features } might not be used.\n",
      "\n",
      "  This may not be accurate due to some parameters are only used in language bindings but\n",
      "  passed down to XGBoost core.  Or some parameters are not used but slip through this\n",
      "  verification. Please open an issue if you find above cases.\n",
      "\n",
      "\n",
      "[17:52:37] WARNING: C:/Users/Administrator/workspace/xgboost-win64_release_1.3.0/src/learner.cc:1061: Starting in XGBoost 1.3.0, the default evaluation metric used with the objective 'multi:softprob' was changed from 'merror' to 'mlogloss'. Explicitly set eval_metric if you'd like to restore the old behavior.\n",
      "[17:52:41] WARNING: C:/Users/Administrator/workspace/xgboost-win64_release_1.3.0/src/learner.cc:541: \n",
      "Parameters: { learning_rates, max_features } might not be used.\n",
      "\n",
      "  This may not be accurate due to some parameters are only used in language bindings but\n",
      "  passed down to XGBoost core.  Or some parameters are not used but slip through this\n",
      "  verification. Please open an issue if you find above cases.\n",
      "\n",
      "\n",
      "[17:52:41] WARNING: C:/Users/Administrator/workspace/xgboost-win64_release_1.3.0/src/learner.cc:1061: Starting in XGBoost 1.3.0, the default evaluation metric used with the objective 'multi:softprob' was changed from 'merror' to 'mlogloss'. Explicitly set eval_metric if you'd like to restore the old behavior.\n",
      "[17:52:42] WARNING: C:/Users/Administrator/workspace/xgboost-win64_release_1.3.0/src/learner.cc:541: \n",
      "Parameters: { learning_rates, max_features } might not be used.\n",
      "\n",
      "  This may not be accurate due to some parameters are only used in language bindings but\n",
      "  passed down to XGBoost core.  Or some parameters are not used but slip through this\n",
      "  verification. Please open an issue if you find above cases.\n",
      "\n",
      "\n",
      "[17:52:42] WARNING: C:/Users/Administrator/workspace/xgboost-win64_release_1.3.0/src/learner.cc:1061: Starting in XGBoost 1.3.0, the default evaluation metric used with the objective 'multi:softprob' was changed from 'merror' to 'mlogloss'. Explicitly set eval_metric if you'd like to restore the old behavior.\n",
      "[17:52:43] WARNING: C:/Users/Administrator/workspace/xgboost-win64_release_1.3.0/src/learner.cc:541: \n",
      "Parameters: { learning_rates, max_features } might not be used.\n",
      "\n",
      "  This may not be accurate due to some parameters are only used in language bindings but\n",
      "  passed down to XGBoost core.  Or some parameters are not used but slip through this\n",
      "  verification. Please open an issue if you find above cases.\n",
      "\n",
      "\n",
      "[17:52:43] WARNING: C:/Users/Administrator/workspace/xgboost-win64_release_1.3.0/src/learner.cc:1061: Starting in XGBoost 1.3.0, the default evaluation metric used with the objective 'multi:softprob' was changed from 'merror' to 'mlogloss'. Explicitly set eval_metric if you'd like to restore the old behavior.\n",
      "[17:52:45] WARNING: C:/Users/Administrator/workspace/xgboost-win64_release_1.3.0/src/learner.cc:541: \n",
      "Parameters: { learning_rates, max_features } might not be used.\n",
      "\n",
      "  This may not be accurate due to some parameters are only used in language bindings but\n",
      "  passed down to XGBoost core.  Or some parameters are not used but slip through this\n",
      "  verification. Please open an issue if you find above cases.\n",
      "\n",
      "\n",
      "[17:52:45] WARNING: C:/Users/Administrator/workspace/xgboost-win64_release_1.3.0/src/learner.cc:1061: Starting in XGBoost 1.3.0, the default evaluation metric used with the objective 'multi:softprob' was changed from 'merror' to 'mlogloss'. Explicitly set eval_metric if you'd like to restore the old behavior.\n"
     ]
    },
    {
     "name": "stdout",
     "output_type": "stream",
     "text": [
      "[17:52:46] WARNING: C:/Users/Administrator/workspace/xgboost-win64_release_1.3.0/src/learner.cc:541: \n",
      "Parameters: { learning_rates, max_features } might not be used.\n",
      "\n",
      "  This may not be accurate due to some parameters are only used in language bindings but\n",
      "  passed down to XGBoost core.  Or some parameters are not used but slip through this\n",
      "  verification. Please open an issue if you find above cases.\n",
      "\n",
      "\n",
      "[17:52:46] WARNING: C:/Users/Administrator/workspace/xgboost-win64_release_1.3.0/src/learner.cc:1061: Starting in XGBoost 1.3.0, the default evaluation metric used with the objective 'multi:softprob' was changed from 'merror' to 'mlogloss'. Explicitly set eval_metric if you'd like to restore the old behavior.\n",
      "[17:52:47] WARNING: C:/Users/Administrator/workspace/xgboost-win64_release_1.3.0/src/learner.cc:541: \n",
      "Parameters: { learning_rates, max_features } might not be used.\n",
      "\n",
      "  This may not be accurate due to some parameters are only used in language bindings but\n",
      "  passed down to XGBoost core.  Or some parameters are not used but slip through this\n",
      "  verification. Please open an issue if you find above cases.\n",
      "\n",
      "\n",
      "[17:52:48] WARNING: C:/Users/Administrator/workspace/xgboost-win64_release_1.3.0/src/learner.cc:1061: Starting in XGBoost 1.3.0, the default evaluation metric used with the objective 'multi:softprob' was changed from 'merror' to 'mlogloss'. Explicitly set eval_metric if you'd like to restore the old behavior.\n",
      "[17:52:52] WARNING: C:/Users/Administrator/workspace/xgboost-win64_release_1.3.0/src/learner.cc:541: \n",
      "Parameters: { learning_rates, max_features } might not be used.\n",
      "\n",
      "  This may not be accurate due to some parameters are only used in language bindings but\n",
      "  passed down to XGBoost core.  Or some parameters are not used but slip through this\n",
      "  verification. Please open an issue if you find above cases.\n",
      "\n",
      "\n",
      "[17:52:53] WARNING: C:/Users/Administrator/workspace/xgboost-win64_release_1.3.0/src/learner.cc:1061: Starting in XGBoost 1.3.0, the default evaluation metric used with the objective 'multi:softprob' was changed from 'merror' to 'mlogloss'. Explicitly set eval_metric if you'd like to restore the old behavior.\n",
      "[17:52:57] WARNING: C:/Users/Administrator/workspace/xgboost-win64_release_1.3.0/src/learner.cc:541: \n",
      "Parameters: { learning_rates, max_features } might not be used.\n",
      "\n",
      "  This may not be accurate due to some parameters are only used in language bindings but\n",
      "  passed down to XGBoost core.  Or some parameters are not used but slip through this\n",
      "  verification. Please open an issue if you find above cases.\n",
      "\n",
      "\n",
      "[17:52:58] WARNING: C:/Users/Administrator/workspace/xgboost-win64_release_1.3.0/src/learner.cc:1061: Starting in XGBoost 1.3.0, the default evaluation metric used with the objective 'multi:softprob' was changed from 'merror' to 'mlogloss'. Explicitly set eval_metric if you'd like to restore the old behavior.\n",
      "[17:53:02] WARNING: C:/Users/Administrator/workspace/xgboost-win64_release_1.3.0/src/learner.cc:541: \n",
      "Parameters: { learning_rates, max_features } might not be used.\n",
      "\n",
      "  This may not be accurate due to some parameters are only used in language bindings but\n",
      "  passed down to XGBoost core.  Or some parameters are not used but slip through this\n",
      "  verification. Please open an issue if you find above cases.\n",
      "\n",
      "\n",
      "[17:53:02] WARNING: C:/Users/Administrator/workspace/xgboost-win64_release_1.3.0/src/learner.cc:1061: Starting in XGBoost 1.3.0, the default evaluation metric used with the objective 'multi:softprob' was changed from 'merror' to 'mlogloss'. Explicitly set eval_metric if you'd like to restore the old behavior.\n",
      "[17:53:07] WARNING: C:/Users/Administrator/workspace/xgboost-win64_release_1.3.0/src/learner.cc:541: \n",
      "Parameters: { learning_rates, max_features } might not be used.\n",
      "\n",
      "  This may not be accurate due to some parameters are only used in language bindings but\n",
      "  passed down to XGBoost core.  Or some parameters are not used but slip through this\n",
      "  verification. Please open an issue if you find above cases.\n",
      "\n",
      "\n",
      "[17:53:07] WARNING: C:/Users/Administrator/workspace/xgboost-win64_release_1.3.0/src/learner.cc:1061: Starting in XGBoost 1.3.0, the default evaluation metric used with the objective 'multi:softprob' was changed from 'merror' to 'mlogloss'. Explicitly set eval_metric if you'd like to restore the old behavior.\n",
      "[17:53:13] WARNING: C:/Users/Administrator/workspace/xgboost-win64_release_1.3.0/src/learner.cc:541: \n",
      "Parameters: { learning_rates, max_features } might not be used.\n",
      "\n",
      "  This may not be accurate due to some parameters are only used in language bindings but\n",
      "  passed down to XGBoost core.  Or some parameters are not used but slip through this\n",
      "  verification. Please open an issue if you find above cases.\n",
      "\n",
      "\n",
      "[17:53:13] WARNING: C:/Users/Administrator/workspace/xgboost-win64_release_1.3.0/src/learner.cc:1061: Starting in XGBoost 1.3.0, the default evaluation metric used with the objective 'multi:softprob' was changed from 'merror' to 'mlogloss'. Explicitly set eval_metric if you'd like to restore the old behavior.\n",
      "[17:53:14] WARNING: C:/Users/Administrator/workspace/xgboost-win64_release_1.3.0/src/learner.cc:541: \n",
      "Parameters: { learning_rates, max_features } might not be used.\n",
      "\n",
      "  This may not be accurate due to some parameters are only used in language bindings but\n",
      "  passed down to XGBoost core.  Or some parameters are not used but slip through this\n",
      "  verification. Please open an issue if you find above cases.\n",
      "\n",
      "\n",
      "[17:53:14] WARNING: C:/Users/Administrator/workspace/xgboost-win64_release_1.3.0/src/learner.cc:1061: Starting in XGBoost 1.3.0, the default evaluation metric used with the objective 'multi:softprob' was changed from 'merror' to 'mlogloss'. Explicitly set eval_metric if you'd like to restore the old behavior.\n",
      "[17:53:16] WARNING: C:/Users/Administrator/workspace/xgboost-win64_release_1.3.0/src/learner.cc:541: \n",
      "Parameters: { learning_rates, max_features } might not be used.\n",
      "\n",
      "  This may not be accurate due to some parameters are only used in language bindings but\n",
      "  passed down to XGBoost core.  Or some parameters are not used but slip through this\n",
      "  verification. Please open an issue if you find above cases.\n",
      "\n",
      "\n",
      "[17:53:16] WARNING: C:/Users/Administrator/workspace/xgboost-win64_release_1.3.0/src/learner.cc:1061: Starting in XGBoost 1.3.0, the default evaluation metric used with the objective 'multi:softprob' was changed from 'merror' to 'mlogloss'. Explicitly set eval_metric if you'd like to restore the old behavior.\n",
      "[17:53:17] WARNING: C:/Users/Administrator/workspace/xgboost-win64_release_1.3.0/src/learner.cc:541: \n",
      "Parameters: { learning_rates, max_features } might not be used.\n",
      "\n",
      "  This may not be accurate due to some parameters are only used in language bindings but\n",
      "  passed down to XGBoost core.  Or some parameters are not used but slip through this\n",
      "  verification. Please open an issue if you find above cases.\n",
      "\n",
      "\n",
      "[17:53:17] WARNING: C:/Users/Administrator/workspace/xgboost-win64_release_1.3.0/src/learner.cc:1061: Starting in XGBoost 1.3.0, the default evaluation metric used with the objective 'multi:softprob' was changed from 'merror' to 'mlogloss'. Explicitly set eval_metric if you'd like to restore the old behavior.\n",
      "[17:53:19] WARNING: C:/Users/Administrator/workspace/xgboost-win64_release_1.3.0/src/learner.cc:541: \n",
      "Parameters: { learning_rates, max_features } might not be used.\n",
      "\n",
      "  This may not be accurate due to some parameters are only used in language bindings but\n",
      "  passed down to XGBoost core.  Or some parameters are not used but slip through this\n",
      "  verification. Please open an issue if you find above cases.\n",
      "\n",
      "\n",
      "[17:53:19] WARNING: C:/Users/Administrator/workspace/xgboost-win64_release_1.3.0/src/learner.cc:1061: Starting in XGBoost 1.3.0, the default evaluation metric used with the objective 'multi:softprob' was changed from 'merror' to 'mlogloss'. Explicitly set eval_metric if you'd like to restore the old behavior.\n",
      "[17:53:20] WARNING: C:/Users/Administrator/workspace/xgboost-win64_release_1.3.0/src/learner.cc:541: \n",
      "Parameters: { learning_rates, max_features } might not be used.\n",
      "\n",
      "  This may not be accurate due to some parameters are only used in language bindings but\n",
      "  passed down to XGBoost core.  Or some parameters are not used but slip through this\n",
      "  verification. Please open an issue if you find above cases.\n",
      "\n",
      "\n",
      "[17:53:20] WARNING: C:/Users/Administrator/workspace/xgboost-win64_release_1.3.0/src/learner.cc:1061: Starting in XGBoost 1.3.0, the default evaluation metric used with the objective 'multi:softprob' was changed from 'merror' to 'mlogloss'. Explicitly set eval_metric if you'd like to restore the old behavior.\n"
     ]
    },
    {
     "name": "stdout",
     "output_type": "stream",
     "text": [
      "[17:53:25] WARNING: C:/Users/Administrator/workspace/xgboost-win64_release_1.3.0/src/learner.cc:541: \n",
      "Parameters: { learning_rates, max_features } might not be used.\n",
      "\n",
      "  This may not be accurate due to some parameters are only used in language bindings but\n",
      "  passed down to XGBoost core.  Or some parameters are not used but slip through this\n",
      "  verification. Please open an issue if you find above cases.\n",
      "\n",
      "\n",
      "[17:53:25] WARNING: C:/Users/Administrator/workspace/xgboost-win64_release_1.3.0/src/learner.cc:1061: Starting in XGBoost 1.3.0, the default evaluation metric used with the objective 'multi:softprob' was changed from 'merror' to 'mlogloss'. Explicitly set eval_metric if you'd like to restore the old behavior.\n",
      "[17:53:29] WARNING: C:/Users/Administrator/workspace/xgboost-win64_release_1.3.0/src/learner.cc:541: \n",
      "Parameters: { learning_rates, max_features } might not be used.\n",
      "\n",
      "  This may not be accurate due to some parameters are only used in language bindings but\n",
      "  passed down to XGBoost core.  Or some parameters are not used but slip through this\n",
      "  verification. Please open an issue if you find above cases.\n",
      "\n",
      "\n",
      "[17:53:30] WARNING: C:/Users/Administrator/workspace/xgboost-win64_release_1.3.0/src/learner.cc:1061: Starting in XGBoost 1.3.0, the default evaluation metric used with the objective 'multi:softprob' was changed from 'merror' to 'mlogloss'. Explicitly set eval_metric if you'd like to restore the old behavior.\n",
      "[17:53:34] WARNING: C:/Users/Administrator/workspace/xgboost-win64_release_1.3.0/src/learner.cc:541: \n",
      "Parameters: { learning_rates, max_features } might not be used.\n",
      "\n",
      "  This may not be accurate due to some parameters are only used in language bindings but\n",
      "  passed down to XGBoost core.  Or some parameters are not used but slip through this\n",
      "  verification. Please open an issue if you find above cases.\n",
      "\n",
      "\n",
      "[17:53:34] WARNING: C:/Users/Administrator/workspace/xgboost-win64_release_1.3.0/src/learner.cc:1061: Starting in XGBoost 1.3.0, the default evaluation metric used with the objective 'multi:softprob' was changed from 'merror' to 'mlogloss'. Explicitly set eval_metric if you'd like to restore the old behavior.\n",
      "[17:53:38] WARNING: C:/Users/Administrator/workspace/xgboost-win64_release_1.3.0/src/learner.cc:541: \n",
      "Parameters: { learning_rates, max_features } might not be used.\n",
      "\n",
      "  This may not be accurate due to some parameters are only used in language bindings but\n",
      "  passed down to XGBoost core.  Or some parameters are not used but slip through this\n",
      "  verification. Please open an issue if you find above cases.\n",
      "\n",
      "\n",
      "[17:53:38] WARNING: C:/Users/Administrator/workspace/xgboost-win64_release_1.3.0/src/learner.cc:1061: Starting in XGBoost 1.3.0, the default evaluation metric used with the objective 'multi:softprob' was changed from 'merror' to 'mlogloss'. Explicitly set eval_metric if you'd like to restore the old behavior.\n",
      "[17:53:43] WARNING: C:/Users/Administrator/workspace/xgboost-win64_release_1.3.0/src/learner.cc:541: \n",
      "Parameters: { learning_rates, max_features } might not be used.\n",
      "\n",
      "  This may not be accurate due to some parameters are only used in language bindings but\n",
      "  passed down to XGBoost core.  Or some parameters are not used but slip through this\n",
      "  verification. Please open an issue if you find above cases.\n",
      "\n",
      "\n",
      "[17:53:43] WARNING: C:/Users/Administrator/workspace/xgboost-win64_release_1.3.0/src/learner.cc:1061: Starting in XGBoost 1.3.0, the default evaluation metric used with the objective 'multi:softprob' was changed from 'merror' to 'mlogloss'. Explicitly set eval_metric if you'd like to restore the old behavior.\n",
      "[17:53:44] WARNING: C:/Users/Administrator/workspace/xgboost-win64_release_1.3.0/src/learner.cc:541: \n",
      "Parameters: { learning_rates, max_features } might not be used.\n",
      "\n",
      "  This may not be accurate due to some parameters are only used in language bindings but\n",
      "  passed down to XGBoost core.  Or some parameters are not used but slip through this\n",
      "  verification. Please open an issue if you find above cases.\n",
      "\n",
      "\n",
      "[17:53:44] WARNING: C:/Users/Administrator/workspace/xgboost-win64_release_1.3.0/src/learner.cc:1061: Starting in XGBoost 1.3.0, the default evaluation metric used with the objective 'multi:softprob' was changed from 'merror' to 'mlogloss'. Explicitly set eval_metric if you'd like to restore the old behavior.\n",
      "[17:53:46] WARNING: C:/Users/Administrator/workspace/xgboost-win64_release_1.3.0/src/learner.cc:541: \n",
      "Parameters: { learning_rates, max_features } might not be used.\n",
      "\n",
      "  This may not be accurate due to some parameters are only used in language bindings but\n",
      "  passed down to XGBoost core.  Or some parameters are not used but slip through this\n",
      "  verification. Please open an issue if you find above cases.\n",
      "\n",
      "\n",
      "[17:53:46] WARNING: C:/Users/Administrator/workspace/xgboost-win64_release_1.3.0/src/learner.cc:1061: Starting in XGBoost 1.3.0, the default evaluation metric used with the objective 'multi:softprob' was changed from 'merror' to 'mlogloss'. Explicitly set eval_metric if you'd like to restore the old behavior.\n",
      "[17:53:47] WARNING: C:/Users/Administrator/workspace/xgboost-win64_release_1.3.0/src/learner.cc:541: \n",
      "Parameters: { learning_rates, max_features } might not be used.\n",
      "\n",
      "  This may not be accurate due to some parameters are only used in language bindings but\n",
      "  passed down to XGBoost core.  Or some parameters are not used but slip through this\n",
      "  verification. Please open an issue if you find above cases.\n",
      "\n",
      "\n",
      "[17:53:47] WARNING: C:/Users/Administrator/workspace/xgboost-win64_release_1.3.0/src/learner.cc:1061: Starting in XGBoost 1.3.0, the default evaluation metric used with the objective 'multi:softprob' was changed from 'merror' to 'mlogloss'. Explicitly set eval_metric if you'd like to restore the old behavior.\n",
      "[17:53:49] WARNING: C:/Users/Administrator/workspace/xgboost-win64_release_1.3.0/src/learner.cc:541: \n",
      "Parameters: { learning_rates, max_features } might not be used.\n",
      "\n",
      "  This may not be accurate due to some parameters are only used in language bindings but\n",
      "  passed down to XGBoost core.  Or some parameters are not used but slip through this\n",
      "  verification. Please open an issue if you find above cases.\n",
      "\n",
      "\n",
      "[17:53:49] WARNING: C:/Users/Administrator/workspace/xgboost-win64_release_1.3.0/src/learner.cc:1061: Starting in XGBoost 1.3.0, the default evaluation metric used with the objective 'multi:softprob' was changed from 'merror' to 'mlogloss'. Explicitly set eval_metric if you'd like to restore the old behavior.\n",
      "[17:53:50] WARNING: C:/Users/Administrator/workspace/xgboost-win64_release_1.3.0/src/learner.cc:541: \n",
      "Parameters: { learning_rates, max_features } might not be used.\n",
      "\n",
      "  This may not be accurate due to some parameters are only used in language bindings but\n",
      "  passed down to XGBoost core.  Or some parameters are not used but slip through this\n",
      "  verification. Please open an issue if you find above cases.\n",
      "\n",
      "\n",
      "[17:53:51] WARNING: C:/Users/Administrator/workspace/xgboost-win64_release_1.3.0/src/learner.cc:1061: Starting in XGBoost 1.3.0, the default evaluation metric used with the objective 'multi:softprob' was changed from 'merror' to 'mlogloss'. Explicitly set eval_metric if you'd like to restore the old behavior.\n",
      "[17:53:56] WARNING: C:/Users/Administrator/workspace/xgboost-win64_release_1.3.0/src/learner.cc:541: \n",
      "Parameters: { learning_rates, max_features } might not be used.\n",
      "\n",
      "  This may not be accurate due to some parameters are only used in language bindings but\n",
      "  passed down to XGBoost core.  Or some parameters are not used but slip through this\n",
      "  verification. Please open an issue if you find above cases.\n",
      "\n",
      "\n",
      "[17:53:56] WARNING: C:/Users/Administrator/workspace/xgboost-win64_release_1.3.0/src/learner.cc:1061: Starting in XGBoost 1.3.0, the default evaluation metric used with the objective 'multi:softprob' was changed from 'merror' to 'mlogloss'. Explicitly set eval_metric if you'd like to restore the old behavior.\n",
      "[17:54:01] WARNING: C:/Users/Administrator/workspace/xgboost-win64_release_1.3.0/src/learner.cc:541: \n",
      "Parameters: { learning_rates, max_features } might not be used.\n",
      "\n",
      "  This may not be accurate due to some parameters are only used in language bindings but\n",
      "  passed down to XGBoost core.  Or some parameters are not used but slip through this\n",
      "  verification. Please open an issue if you find above cases.\n",
      "\n",
      "\n",
      "[17:54:01] WARNING: C:/Users/Administrator/workspace/xgboost-win64_release_1.3.0/src/learner.cc:1061: Starting in XGBoost 1.3.0, the default evaluation metric used with the objective 'multi:softprob' was changed from 'merror' to 'mlogloss'. Explicitly set eval_metric if you'd like to restore the old behavior.\n"
     ]
    },
    {
     "name": "stdout",
     "output_type": "stream",
     "text": [
      "[17:54:05] WARNING: C:/Users/Administrator/workspace/xgboost-win64_release_1.3.0/src/learner.cc:541: \n",
      "Parameters: { learning_rates, max_features } might not be used.\n",
      "\n",
      "  This may not be accurate due to some parameters are only used in language bindings but\n",
      "  passed down to XGBoost core.  Or some parameters are not used but slip through this\n",
      "  verification. Please open an issue if you find above cases.\n",
      "\n",
      "\n",
      "[17:54:05] WARNING: C:/Users/Administrator/workspace/xgboost-win64_release_1.3.0/src/learner.cc:1061: Starting in XGBoost 1.3.0, the default evaluation metric used with the objective 'multi:softprob' was changed from 'merror' to 'mlogloss'. Explicitly set eval_metric if you'd like to restore the old behavior.\n",
      "[17:54:10] WARNING: C:/Users/Administrator/workspace/xgboost-win64_release_1.3.0/src/learner.cc:541: \n",
      "Parameters: { learning_rates, max_features } might not be used.\n",
      "\n",
      "  This may not be accurate due to some parameters are only used in language bindings but\n",
      "  passed down to XGBoost core.  Or some parameters are not used but slip through this\n",
      "  verification. Please open an issue if you find above cases.\n",
      "\n",
      "\n",
      "[17:54:10] WARNING: C:/Users/Administrator/workspace/xgboost-win64_release_1.3.0/src/learner.cc:1061: Starting in XGBoost 1.3.0, the default evaluation metric used with the objective 'multi:softprob' was changed from 'merror' to 'mlogloss'. Explicitly set eval_metric if you'd like to restore the old behavior.\n",
      "[17:54:14] WARNING: C:/Users/Administrator/workspace/xgboost-win64_release_1.3.0/src/learner.cc:541: \n",
      "Parameters: { learning_rates, max_features } might not be used.\n",
      "\n",
      "  This may not be accurate due to some parameters are only used in language bindings but\n",
      "  passed down to XGBoost core.  Or some parameters are not used but slip through this\n",
      "  verification. Please open an issue if you find above cases.\n",
      "\n",
      "\n",
      "[17:54:14] WARNING: C:/Users/Administrator/workspace/xgboost-win64_release_1.3.0/src/learner.cc:1061: Starting in XGBoost 1.3.0, the default evaluation metric used with the objective 'multi:softprob' was changed from 'merror' to 'mlogloss'. Explicitly set eval_metric if you'd like to restore the old behavior.\n",
      "[17:54:16] WARNING: C:/Users/Administrator/workspace/xgboost-win64_release_1.3.0/src/learner.cc:541: \n",
      "Parameters: { learning_rates, max_features } might not be used.\n",
      "\n",
      "  This may not be accurate due to some parameters are only used in language bindings but\n",
      "  passed down to XGBoost core.  Or some parameters are not used but slip through this\n",
      "  verification. Please open an issue if you find above cases.\n",
      "\n",
      "\n",
      "[17:54:16] WARNING: C:/Users/Administrator/workspace/xgboost-win64_release_1.3.0/src/learner.cc:1061: Starting in XGBoost 1.3.0, the default evaluation metric used with the objective 'multi:softprob' was changed from 'merror' to 'mlogloss'. Explicitly set eval_metric if you'd like to restore the old behavior.\n",
      "[17:54:17] WARNING: C:/Users/Administrator/workspace/xgboost-win64_release_1.3.0/src/learner.cc:541: \n",
      "Parameters: { learning_rates, max_features } might not be used.\n",
      "\n",
      "  This may not be accurate due to some parameters are only used in language bindings but\n",
      "  passed down to XGBoost core.  Or some parameters are not used but slip through this\n",
      "  verification. Please open an issue if you find above cases.\n",
      "\n",
      "\n",
      "[17:54:17] WARNING: C:/Users/Administrator/workspace/xgboost-win64_release_1.3.0/src/learner.cc:1061: Starting in XGBoost 1.3.0, the default evaluation metric used with the objective 'multi:softprob' was changed from 'merror' to 'mlogloss'. Explicitly set eval_metric if you'd like to restore the old behavior.\n",
      "[17:54:19] WARNING: C:/Users/Administrator/workspace/xgboost-win64_release_1.3.0/src/learner.cc:541: \n",
      "Parameters: { learning_rates, max_features } might not be used.\n",
      "\n",
      "  This may not be accurate due to some parameters are only used in language bindings but\n",
      "  passed down to XGBoost core.  Or some parameters are not used but slip through this\n",
      "  verification. Please open an issue if you find above cases.\n",
      "\n",
      "\n",
      "[17:54:19] WARNING: C:/Users/Administrator/workspace/xgboost-win64_release_1.3.0/src/learner.cc:1061: Starting in XGBoost 1.3.0, the default evaluation metric used with the objective 'multi:softprob' was changed from 'merror' to 'mlogloss'. Explicitly set eval_metric if you'd like to restore the old behavior.\n",
      "[17:54:20] WARNING: C:/Users/Administrator/workspace/xgboost-win64_release_1.3.0/src/learner.cc:541: \n",
      "Parameters: { learning_rates, max_features } might not be used.\n",
      "\n",
      "  This may not be accurate due to some parameters are only used in language bindings but\n",
      "  passed down to XGBoost core.  Or some parameters are not used but slip through this\n",
      "  verification. Please open an issue if you find above cases.\n",
      "\n",
      "\n",
      "[17:54:20] WARNING: C:/Users/Administrator/workspace/xgboost-win64_release_1.3.0/src/learner.cc:1061: Starting in XGBoost 1.3.0, the default evaluation metric used with the objective 'multi:softprob' was changed from 'merror' to 'mlogloss'. Explicitly set eval_metric if you'd like to restore the old behavior.\n",
      "[17:54:21] WARNING: C:/Users/Administrator/workspace/xgboost-win64_release_1.3.0/src/learner.cc:541: \n",
      "Parameters: { learning_rates, max_features } might not be used.\n",
      "\n",
      "  This may not be accurate due to some parameters are only used in language bindings but\n",
      "  passed down to XGBoost core.  Or some parameters are not used but slip through this\n",
      "  verification. Please open an issue if you find above cases.\n",
      "\n",
      "\n",
      "[17:54:22] WARNING: C:/Users/Administrator/workspace/xgboost-win64_release_1.3.0/src/learner.cc:1061: Starting in XGBoost 1.3.0, the default evaluation metric used with the objective 'multi:softprob' was changed from 'merror' to 'mlogloss'. Explicitly set eval_metric if you'd like to restore the old behavior.\n",
      "[17:54:26] WARNING: C:/Users/Administrator/workspace/xgboost-win64_release_1.3.0/src/learner.cc:541: \n",
      "Parameters: { learning_rates, max_features } might not be used.\n",
      "\n",
      "  This may not be accurate due to some parameters are only used in language bindings but\n",
      "  passed down to XGBoost core.  Or some parameters are not used but slip through this\n",
      "  verification. Please open an issue if you find above cases.\n",
      "\n",
      "\n",
      "[17:54:26] WARNING: C:/Users/Administrator/workspace/xgboost-win64_release_1.3.0/src/learner.cc:1061: Starting in XGBoost 1.3.0, the default evaluation metric used with the objective 'multi:softprob' was changed from 'merror' to 'mlogloss'. Explicitly set eval_metric if you'd like to restore the old behavior.\n",
      "[17:54:32] WARNING: C:/Users/Administrator/workspace/xgboost-win64_release_1.3.0/src/learner.cc:541: \n",
      "Parameters: { learning_rates, max_features } might not be used.\n",
      "\n",
      "  This may not be accurate due to some parameters are only used in language bindings but\n",
      "  passed down to XGBoost core.  Or some parameters are not used but slip through this\n",
      "  verification. Please open an issue if you find above cases.\n",
      "\n",
      "\n",
      "[17:54:32] WARNING: C:/Users/Administrator/workspace/xgboost-win64_release_1.3.0/src/learner.cc:1061: Starting in XGBoost 1.3.0, the default evaluation metric used with the objective 'multi:softprob' was changed from 'merror' to 'mlogloss'. Explicitly set eval_metric if you'd like to restore the old behavior.\n",
      "[17:54:36] WARNING: C:/Users/Administrator/workspace/xgboost-win64_release_1.3.0/src/learner.cc:541: \n",
      "Parameters: { learning_rates, max_features } might not be used.\n",
      "\n",
      "  This may not be accurate due to some parameters are only used in language bindings but\n",
      "  passed down to XGBoost core.  Or some parameters are not used but slip through this\n",
      "  verification. Please open an issue if you find above cases.\n",
      "\n",
      "\n",
      "[17:54:36] WARNING: C:/Users/Administrator/workspace/xgboost-win64_release_1.3.0/src/learner.cc:1061: Starting in XGBoost 1.3.0, the default evaluation metric used with the objective 'multi:softprob' was changed from 'merror' to 'mlogloss'. Explicitly set eval_metric if you'd like to restore the old behavior.\n",
      "[17:54:41] WARNING: C:/Users/Administrator/workspace/xgboost-win64_release_1.3.0/src/learner.cc:541: \n",
      "Parameters: { learning_rates, max_features } might not be used.\n",
      "\n",
      "  This may not be accurate due to some parameters are only used in language bindings but\n",
      "  passed down to XGBoost core.  Or some parameters are not used but slip through this\n",
      "  verification. Please open an issue if you find above cases.\n",
      "\n",
      "\n",
      "[17:54:42] WARNING: C:/Users/Administrator/workspace/xgboost-win64_release_1.3.0/src/learner.cc:1061: Starting in XGBoost 1.3.0, the default evaluation metric used with the objective 'multi:softprob' was changed from 'merror' to 'mlogloss'. Explicitly set eval_metric if you'd like to restore the old behavior.\n"
     ]
    },
    {
     "name": "stdout",
     "output_type": "stream",
     "text": [
      "[17:54:47] WARNING: C:/Users/Administrator/workspace/xgboost-win64_release_1.3.0/src/learner.cc:541: \n",
      "Parameters: { learning_rates, max_features } might not be used.\n",
      "\n",
      "  This may not be accurate due to some parameters are only used in language bindings but\n",
      "  passed down to XGBoost core.  Or some parameters are not used but slip through this\n",
      "  verification. Please open an issue if you find above cases.\n",
      "\n",
      "\n",
      "[17:54:47] WARNING: C:/Users/Administrator/workspace/xgboost-win64_release_1.3.0/src/learner.cc:1061: Starting in XGBoost 1.3.0, the default evaluation metric used with the objective 'multi:softprob' was changed from 'merror' to 'mlogloss'. Explicitly set eval_metric if you'd like to restore the old behavior.\n"
     ]
    },
    {
     "data": {
      "text/plain": [
       "GridSearchCV(cv=5,\n",
       "             estimator=XGBClassifier(base_score=None, booster=None,\n",
       "                                     colsample_bylevel=None,\n",
       "                                     colsample_bynode=None,\n",
       "                                     colsample_bytree=None, gamma=None,\n",
       "                                     gpu_id=None, importance_type='gain',\n",
       "                                     interaction_constraints=None,\n",
       "                                     learning_rate=None, max_delta_step=None,\n",
       "                                     max_depth=None, min_child_weight=None,\n",
       "                                     missing=nan, monotone_constraints=None,\n",
       "                                     n_estimators=100, n_jobs=None,\n",
       "                                     num_parallel_tree=None, random_state=42,\n",
       "                                     reg_alpha=None, reg_lambda=None,\n",
       "                                     scale_pos_weight=None, subsample=None,\n",
       "                                     tree_method=None, validate_parameters=None,\n",
       "                                     verbosity=None),\n",
       "             param_grid={'learning_rates': [0.05, 0.1],\n",
       "                         'max_features': [3, 4, 5], 'n_estimators': [20, 100]})"
      ]
     },
     "execution_count": 59,
     "metadata": {},
     "output_type": "execute_result"
    }
   ],
   "source": [
    "xgb_cv_all = GridSearchCV(xgb, xgb_params, cv=5)\n",
    "xgb_cv_all.fit(X_train, y_train)"
   ]
  },
  {
   "cell_type": "code",
   "execution_count": 60,
   "metadata": {},
   "outputs": [
    {
     "name": "stdout",
     "output_type": "stream",
     "text": [
      "Best Score:0.6507061805350314\n",
      "Best Parameters: {'learning_rates': 0.05, 'max_features': 3, 'n_estimators': 20}\n"
     ]
    }
   ],
   "source": [
    "print(\"Best Score:\" + str(xgb_cv_all.best_score_))\n",
    "print(\"Best Parameters: \" + str(xgb_cv_all.best_params_))"
   ]
  },
  {
   "cell_type": "code",
   "execution_count": 61,
   "metadata": {},
   "outputs": [
    {
     "name": "stdout",
     "output_type": "stream",
     "text": [
      "0.8600390815828041\n",
      "0.6472934472934473\n"
     ]
    }
   ],
   "source": [
    "print(xgb_cv_all.score(X_train, y_train))\n",
    "print(xgb_cv_all.score(X_test, y_test))"
   ]
  },
  {
   "cell_type": "code",
   "execution_count": 31,
   "metadata": {},
   "outputs": [
    {
     "name": "stdout",
     "output_type": "stream",
     "text": [
      "[[  7   0   0   0   1   1   2   0   0   0   0   0   0   0   0   0  26   0\n",
      "   12]\n",
      " [  0   5   0   0   0   0   0   0   0   0   0   0   0   0   0   0   2   0\n",
      "    0]\n",
      " [  0   0   3   0   3   0   0   0   0   0   0   0   0   0   0   0   6   0\n",
      "    0]\n",
      " [  0   0   0   5   0   0   1   0   0   0   0   0   0   0   2   0  11   3\n",
      "    0]\n",
      " [  0   0   0   0  39   0   0   0   0   0   0   0   0   0   0   0  32   0\n",
      "   23]\n",
      " [  1   0   0   0   1  20   0   0   0   0   0   0   0   0   0   0  13   0\n",
      "   50]\n",
      " [  0   0   0   0   0   0  21   0   0   0   0   0   0   0   0   0  14   0\n",
      "    5]\n",
      " [  0   0   0   0   0   0   0   4   0   0   0   0   0   0   5   0   8   0\n",
      "    0]\n",
      " [  0   0   0   0   0   0   0   0   0   0   0   0   0   0   1   0   0   0\n",
      "    0]\n",
      " [  0   0   0   0   0   0   0   0   0   0   0   0   0   0   0   0   0   0\n",
      "    0]\n",
      " [  0   0   0   0   0   0   0   0   0   0   0   0   0   0   0   0   2   0\n",
      "    0]\n",
      " [  0   0   0   0   0   0   0   0   0   0   0   2   0   0   0   0   0   0\n",
      "    0]\n",
      " [  0   0   0   0   0   0   0   0   0   0   0   0   0   0   0   0   2   0\n",
      "    0]\n",
      " [  0   0   0   0   0   0   0   0   0   1   0   0   0   0   0   0   4   0\n",
      "    0]\n",
      " [  0   0   0   0   0   0   0   7   0   0   0   0   0   0 199   0  24   1\n",
      "    0]\n",
      " [  0   0   0   0   0   0   0   0   0   0   0   0   0   0   0   0   5   0\n",
      "    0]\n",
      " [  3   3   3   0  14  13   4  16   0   0   0   1   0   0  29   0 213   7\n",
      "  170]\n",
      " [  0   0   0   0   0   0   0   0   0   0   0   0   0   0   2   0  10 158\n",
      "    1]\n",
      " [  4   0   0   0   8   2   3   0   0   0   0   0   0   0   0   0  57   0\n",
      "  460]]\n",
      "              precision    recall  f1-score   support\n",
      "\n",
      "      EPTFUS       0.47      0.14      0.22        49\n",
      "      EUMPER       0.62      0.71      0.67         7\n",
      "      EUMUND       0.50      0.25      0.33        12\n",
      "      LASBLO       1.00      0.23      0.37        22\n",
      "      LASCIN       0.59      0.41      0.49        94\n",
      "      LASNOC       0.56      0.24      0.33        85\n",
      "      LASXAN       0.68      0.53      0.59        40\n",
      "      MYOCAL       0.15      0.24      0.18        17\n",
      "      MYOCIL       0.00      0.00      0.00         1\n",
      "      MYOEVO       0.00      0.00      0.00         0\n",
      "      MYOOCC       0.00      0.00      0.00         2\n",
      "      MYOTHY       0.67      1.00      0.80         2\n",
      "      MYOVEL       0.00      0.00      0.00         2\n",
      "      MYOVOL       0.00      0.00      0.00         5\n",
      "      MYOYUM       0.84      0.86      0.85       231\n",
      "      NYCFEM       0.00      0.00      0.00         5\n",
      "        NoID       0.50      0.45      0.47       476\n",
      "      PARHES       0.93      0.92      0.93       171\n",
      "      TADBRA       0.64      0.86      0.73       534\n",
      "\n",
      "    accuracy                           0.65      1755\n",
      "   macro avg       0.43      0.36      0.37      1755\n",
      "weighted avg       0.64      0.65      0.63      1755\n",
      "\n"
     ]
    },
    {
     "name": "stderr",
     "output_type": "stream",
     "text": [
      "C:\\Users\\matta\\anaconda3\\lib\\site-packages\\sklearn\\metrics\\_classification.py:1221: UndefinedMetricWarning: Precision and F-score are ill-defined and being set to 0.0 in labels with no predicted samples. Use `zero_division` parameter to control this behavior.\n",
      "  _warn_prf(average, modifier, msg_start, len(result))\n",
      "C:\\Users\\matta\\anaconda3\\lib\\site-packages\\sklearn\\metrics\\_classification.py:1221: UndefinedMetricWarning: Recall and F-score are ill-defined and being set to 0.0 in labels with no true samples. Use `zero_division` parameter to control this behavior.\n",
      "  _warn_prf(average, modifier, msg_start, len(result))\n"
     ]
    }
   ],
   "source": [
    "xgb_y_pred_all = xgb_cv_all.predict(X_test)\n",
    "print(confusion_matrix(y_test, xgb_y_pred_all))\n",
    "print(classification_report(y_test, xgb_y_pred_all))"
   ]
  },
  {
   "cell_type": "markdown",
   "metadata": {},
   "source": [
    "### Three Species Classifier"
   ]
  },
  {
   "cell_type": "code",
   "execution_count": 125,
   "metadata": {},
   "outputs": [
    {
     "name": "stderr",
     "output_type": "stream",
     "text": [
      "C:\\Users\\matta\\anaconda3\\lib\\site-packages\\xgboost\\sklearn.py:888: UserWarning: The use of label encoder in XGBClassifier is deprecated and will be removed in a future release. To remove this warning, do the following: 1) Pass option use_label_encoder=False when constructing XGBClassifier object; and 2) Encode your labels (y) as integers starting with 0, i.e. 0, 1, 2, ..., [num_class - 1].\n",
      "  warnings.warn(label_encoder_deprecation_msg, UserWarning)\n"
     ]
    },
    {
     "name": "stdout",
     "output_type": "stream",
     "text": [
      "[19:12:25] WARNING: C:/Users/Administrator/workspace/xgboost-win64_release_1.3.0/src/learner.cc:541: \n",
      "Parameters: { learning_rates, max_features } might not be used.\n",
      "\n",
      "  This may not be accurate due to some parameters are only used in language bindings but\n",
      "  passed down to XGBoost core.  Or some parameters are not used but slip through this\n",
      "  verification. Please open an issue if you find above cases.\n",
      "\n",
      "\n",
      "[19:12:25] WARNING: C:/Users/Administrator/workspace/xgboost-win64_release_1.3.0/src/learner.cc:1061: Starting in XGBoost 1.3.0, the default evaluation metric used with the objective 'multi:softprob' was changed from 'merror' to 'mlogloss'. Explicitly set eval_metric if you'd like to restore the old behavior.\n",
      "[19:12:26] WARNING: C:/Users/Administrator/workspace/xgboost-win64_release_1.3.0/src/learner.cc:541: \n",
      "Parameters: { learning_rates, max_features } might not be used.\n",
      "\n",
      "  This may not be accurate due to some parameters are only used in language bindings but\n",
      "  passed down to XGBoost core.  Or some parameters are not used but slip through this\n",
      "  verification. Please open an issue if you find above cases.\n",
      "\n",
      "\n",
      "[19:12:26] WARNING: C:/Users/Administrator/workspace/xgboost-win64_release_1.3.0/src/learner.cc:1061: Starting in XGBoost 1.3.0, the default evaluation metric used with the objective 'multi:softprob' was changed from 'merror' to 'mlogloss'. Explicitly set eval_metric if you'd like to restore the old behavior.\n",
      "[19:12:26] WARNING: C:/Users/Administrator/workspace/xgboost-win64_release_1.3.0/src/learner.cc:541: \n",
      "Parameters: { learning_rates, max_features } might not be used.\n",
      "\n",
      "  This may not be accurate due to some parameters are only used in language bindings but\n",
      "  passed down to XGBoost core.  Or some parameters are not used but slip through this\n",
      "  verification. Please open an issue if you find above cases.\n",
      "\n",
      "\n",
      "[19:12:26] WARNING: C:/Users/Administrator/workspace/xgboost-win64_release_1.3.0/src/learner.cc:1061: Starting in XGBoost 1.3.0, the default evaluation metric used with the objective 'multi:softprob' was changed from 'merror' to 'mlogloss'. Explicitly set eval_metric if you'd like to restore the old behavior.\n",
      "[19:12:26] WARNING: C:/Users/Administrator/workspace/xgboost-win64_release_1.3.0/src/learner.cc:541: \n",
      "Parameters: { learning_rates, max_features } might not be used.\n",
      "\n",
      "  This may not be accurate due to some parameters are only used in language bindings but\n",
      "  passed down to XGBoost core.  Or some parameters are not used but slip through this\n",
      "  verification. Please open an issue if you find above cases.\n",
      "\n",
      "\n",
      "[19:12:26] WARNING: C:/Users/Administrator/workspace/xgboost-win64_release_1.3.0/src/learner.cc:1061: Starting in XGBoost 1.3.0, the default evaluation metric used with the objective 'multi:softprob' was changed from 'merror' to 'mlogloss'. Explicitly set eval_metric if you'd like to restore the old behavior.\n",
      "[19:12:27] WARNING: C:/Users/Administrator/workspace/xgboost-win64_release_1.3.0/src/learner.cc:541: \n",
      "Parameters: { learning_rates, max_features } might not be used.\n",
      "\n",
      "  This may not be accurate due to some parameters are only used in language bindings but\n",
      "  passed down to XGBoost core.  Or some parameters are not used but slip through this\n",
      "  verification. Please open an issue if you find above cases.\n",
      "\n",
      "\n",
      "[19:12:27] WARNING: C:/Users/Administrator/workspace/xgboost-win64_release_1.3.0/src/learner.cc:1061: Starting in XGBoost 1.3.0, the default evaluation metric used with the objective 'multi:softprob' was changed from 'merror' to 'mlogloss'. Explicitly set eval_metric if you'd like to restore the old behavior.\n",
      "[19:12:27] WARNING: C:/Users/Administrator/workspace/xgboost-win64_release_1.3.0/src/learner.cc:541: \n",
      "Parameters: { learning_rates, max_features } might not be used.\n",
      "\n",
      "  This may not be accurate due to some parameters are only used in language bindings but\n",
      "  passed down to XGBoost core.  Or some parameters are not used but slip through this\n",
      "  verification. Please open an issue if you find above cases.\n",
      "\n",
      "\n",
      "[19:12:27] WARNING: C:/Users/Administrator/workspace/xgboost-win64_release_1.3.0/src/learner.cc:1061: Starting in XGBoost 1.3.0, the default evaluation metric used with the objective 'multi:softprob' was changed from 'merror' to 'mlogloss'. Explicitly set eval_metric if you'd like to restore the old behavior.\n",
      "[19:12:28] WARNING: C:/Users/Administrator/workspace/xgboost-win64_release_1.3.0/src/learner.cc:541: \n",
      "Parameters: { learning_rates, max_features } might not be used.\n",
      "\n",
      "  This may not be accurate due to some parameters are only used in language bindings but\n",
      "  passed down to XGBoost core.  Or some parameters are not used but slip through this\n",
      "  verification. Please open an issue if you find above cases.\n",
      "\n",
      "\n",
      "[19:12:28] WARNING: C:/Users/Administrator/workspace/xgboost-win64_release_1.3.0/src/learner.cc:1061: Starting in XGBoost 1.3.0, the default evaluation metric used with the objective 'multi:softprob' was changed from 'merror' to 'mlogloss'. Explicitly set eval_metric if you'd like to restore the old behavior.\n",
      "[19:12:28] WARNING: C:/Users/Administrator/workspace/xgboost-win64_release_1.3.0/src/learner.cc:541: \n",
      "Parameters: { learning_rates, max_features } might not be used.\n",
      "\n",
      "  This may not be accurate due to some parameters are only used in language bindings but\n",
      "  passed down to XGBoost core.  Or some parameters are not used but slip through this\n",
      "  verification. Please open an issue if you find above cases.\n",
      "\n",
      "\n",
      "[19:12:28] WARNING: C:/Users/Administrator/workspace/xgboost-win64_release_1.3.0/src/learner.cc:1061: Starting in XGBoost 1.3.0, the default evaluation metric used with the objective 'multi:softprob' was changed from 'merror' to 'mlogloss'. Explicitly set eval_metric if you'd like to restore the old behavior.\n",
      "[19:12:28] WARNING: C:/Users/Administrator/workspace/xgboost-win64_release_1.3.0/src/learner.cc:541: \n",
      "Parameters: { learning_rates, max_features } might not be used.\n",
      "\n",
      "  This may not be accurate due to some parameters are only used in language bindings but\n",
      "  passed down to XGBoost core.  Or some parameters are not used but slip through this\n",
      "  verification. Please open an issue if you find above cases.\n",
      "\n",
      "\n",
      "[19:12:28] WARNING: C:/Users/Administrator/workspace/xgboost-win64_release_1.3.0/src/learner.cc:1061: Starting in XGBoost 1.3.0, the default evaluation metric used with the objective 'multi:softprob' was changed from 'merror' to 'mlogloss'. Explicitly set eval_metric if you'd like to restore the old behavior.\n",
      "[19:12:29] WARNING: C:/Users/Administrator/workspace/xgboost-win64_release_1.3.0/src/learner.cc:541: \n",
      "Parameters: { learning_rates, max_features } might not be used.\n",
      "\n",
      "  This may not be accurate due to some parameters are only used in language bindings but\n",
      "  passed down to XGBoost core.  Or some parameters are not used but slip through this\n",
      "  verification. Please open an issue if you find above cases.\n",
      "\n",
      "\n",
      "[19:12:29] WARNING: C:/Users/Administrator/workspace/xgboost-win64_release_1.3.0/src/learner.cc:1061: Starting in XGBoost 1.3.0, the default evaluation metric used with the objective 'multi:softprob' was changed from 'merror' to 'mlogloss'. Explicitly set eval_metric if you'd like to restore the old behavior.\n",
      "[19:12:29] WARNING: C:/Users/Administrator/workspace/xgboost-win64_release_1.3.0/src/learner.cc:541: \n",
      "Parameters: { learning_rates, max_features } might not be used.\n",
      "\n",
      "  This may not be accurate due to some parameters are only used in language bindings but\n",
      "  passed down to XGBoost core.  Or some parameters are not used but slip through this\n",
      "  verification. Please open an issue if you find above cases.\n",
      "\n",
      "\n",
      "[19:12:29] WARNING: C:/Users/Administrator/workspace/xgboost-win64_release_1.3.0/src/learner.cc:1061: Starting in XGBoost 1.3.0, the default evaluation metric used with the objective 'multi:softprob' was changed from 'merror' to 'mlogloss'. Explicitly set eval_metric if you'd like to restore the old behavior.\n",
      "[19:12:30] WARNING: C:/Users/Administrator/workspace/xgboost-win64_release_1.3.0/src/learner.cc:541: \n",
      "Parameters: { learning_rates, max_features } might not be used.\n",
      "\n",
      "  This may not be accurate due to some parameters are only used in language bindings but\n",
      "  passed down to XGBoost core.  Or some parameters are not used but slip through this\n",
      "  verification. Please open an issue if you find above cases.\n",
      "\n",
      "\n",
      "[19:12:30] WARNING: C:/Users/Administrator/workspace/xgboost-win64_release_1.3.0/src/learner.cc:1061: Starting in XGBoost 1.3.0, the default evaluation metric used with the objective 'multi:softprob' was changed from 'merror' to 'mlogloss'. Explicitly set eval_metric if you'd like to restore the old behavior.\n"
     ]
    },
    {
     "name": "stdout",
     "output_type": "stream",
     "text": [
      "[19:12:30] WARNING: C:/Users/Administrator/workspace/xgboost-win64_release_1.3.0/src/learner.cc:541: \n",
      "Parameters: { learning_rates, max_features } might not be used.\n",
      "\n",
      "  This may not be accurate due to some parameters are only used in language bindings but\n",
      "  passed down to XGBoost core.  Or some parameters are not used but slip through this\n",
      "  verification. Please open an issue if you find above cases.\n",
      "\n",
      "\n",
      "[19:12:30] WARNING: C:/Users/Administrator/workspace/xgboost-win64_release_1.3.0/src/learner.cc:1061: Starting in XGBoost 1.3.0, the default evaluation metric used with the objective 'multi:softprob' was changed from 'merror' to 'mlogloss'. Explicitly set eval_metric if you'd like to restore the old behavior.\n",
      "[19:12:31] WARNING: C:/Users/Administrator/workspace/xgboost-win64_release_1.3.0/src/learner.cc:541: \n",
      "Parameters: { learning_rates, max_features } might not be used.\n",
      "\n",
      "  This may not be accurate due to some parameters are only used in language bindings but\n",
      "  passed down to XGBoost core.  Or some parameters are not used but slip through this\n",
      "  verification. Please open an issue if you find above cases.\n",
      "\n",
      "\n",
      "[19:12:31] WARNING: C:/Users/Administrator/workspace/xgboost-win64_release_1.3.0/src/learner.cc:1061: Starting in XGBoost 1.3.0, the default evaluation metric used with the objective 'multi:softprob' was changed from 'merror' to 'mlogloss'. Explicitly set eval_metric if you'd like to restore the old behavior.\n",
      "[19:12:31] WARNING: C:/Users/Administrator/workspace/xgboost-win64_release_1.3.0/src/learner.cc:541: \n",
      "Parameters: { learning_rates, max_features } might not be used.\n",
      "\n",
      "  This may not be accurate due to some parameters are only used in language bindings but\n",
      "  passed down to XGBoost core.  Or some parameters are not used but slip through this\n",
      "  verification. Please open an issue if you find above cases.\n",
      "\n",
      "\n",
      "[19:12:31] WARNING: C:/Users/Administrator/workspace/xgboost-win64_release_1.3.0/src/learner.cc:1061: Starting in XGBoost 1.3.0, the default evaluation metric used with the objective 'multi:softprob' was changed from 'merror' to 'mlogloss'. Explicitly set eval_metric if you'd like to restore the old behavior.\n",
      "[19:12:32] WARNING: C:/Users/Administrator/workspace/xgboost-win64_release_1.3.0/src/learner.cc:541: \n",
      "Parameters: { learning_rates, max_features } might not be used.\n",
      "\n",
      "  This may not be accurate due to some parameters are only used in language bindings but\n",
      "  passed down to XGBoost core.  Or some parameters are not used but slip through this\n",
      "  verification. Please open an issue if you find above cases.\n",
      "\n",
      "\n",
      "[19:12:32] WARNING: C:/Users/Administrator/workspace/xgboost-win64_release_1.3.0/src/learner.cc:1061: Starting in XGBoost 1.3.0, the default evaluation metric used with the objective 'multi:softprob' was changed from 'merror' to 'mlogloss'. Explicitly set eval_metric if you'd like to restore the old behavior.\n",
      "[19:12:32] WARNING: C:/Users/Administrator/workspace/xgboost-win64_release_1.3.0/src/learner.cc:541: \n",
      "Parameters: { learning_rates, max_features } might not be used.\n",
      "\n",
      "  This may not be accurate due to some parameters are only used in language bindings but\n",
      "  passed down to XGBoost core.  Or some parameters are not used but slip through this\n",
      "  verification. Please open an issue if you find above cases.\n",
      "\n",
      "\n",
      "[19:12:32] WARNING: C:/Users/Administrator/workspace/xgboost-win64_release_1.3.0/src/learner.cc:1061: Starting in XGBoost 1.3.0, the default evaluation metric used with the objective 'multi:softprob' was changed from 'merror' to 'mlogloss'. Explicitly set eval_metric if you'd like to restore the old behavior.\n",
      "[19:12:33] WARNING: C:/Users/Administrator/workspace/xgboost-win64_release_1.3.0/src/learner.cc:541: \n",
      "Parameters: { learning_rates, max_features } might not be used.\n",
      "\n",
      "  This may not be accurate due to some parameters are only used in language bindings but\n",
      "  passed down to XGBoost core.  Or some parameters are not used but slip through this\n",
      "  verification. Please open an issue if you find above cases.\n",
      "\n",
      "\n",
      "[19:12:33] WARNING: C:/Users/Administrator/workspace/xgboost-win64_release_1.3.0/src/learner.cc:1061: Starting in XGBoost 1.3.0, the default evaluation metric used with the objective 'multi:softprob' was changed from 'merror' to 'mlogloss'. Explicitly set eval_metric if you'd like to restore the old behavior.\n",
      "[19:12:33] WARNING: C:/Users/Administrator/workspace/xgboost-win64_release_1.3.0/src/learner.cc:541: \n",
      "Parameters: { learning_rates, max_features } might not be used.\n",
      "\n",
      "  This may not be accurate due to some parameters are only used in language bindings but\n",
      "  passed down to XGBoost core.  Or some parameters are not used but slip through this\n",
      "  verification. Please open an issue if you find above cases.\n",
      "\n",
      "\n",
      "[19:12:33] WARNING: C:/Users/Administrator/workspace/xgboost-win64_release_1.3.0/src/learner.cc:1061: Starting in XGBoost 1.3.0, the default evaluation metric used with the objective 'multi:softprob' was changed from 'merror' to 'mlogloss'. Explicitly set eval_metric if you'd like to restore the old behavior.\n",
      "[19:12:34] WARNING: C:/Users/Administrator/workspace/xgboost-win64_release_1.3.0/src/learner.cc:541: \n",
      "Parameters: { learning_rates, max_features } might not be used.\n",
      "\n",
      "  This may not be accurate due to some parameters are only used in language bindings but\n",
      "  passed down to XGBoost core.  Or some parameters are not used but slip through this\n",
      "  verification. Please open an issue if you find above cases.\n",
      "\n",
      "\n",
      "[19:12:34] WARNING: C:/Users/Administrator/workspace/xgboost-win64_release_1.3.0/src/learner.cc:1061: Starting in XGBoost 1.3.0, the default evaluation metric used with the objective 'multi:softprob' was changed from 'merror' to 'mlogloss'. Explicitly set eval_metric if you'd like to restore the old behavior.\n",
      "[19:12:34] WARNING: C:/Users/Administrator/workspace/xgboost-win64_release_1.3.0/src/learner.cc:541: \n",
      "Parameters: { learning_rates, max_features } might not be used.\n",
      "\n",
      "  This may not be accurate due to some parameters are only used in language bindings but\n",
      "  passed down to XGBoost core.  Or some parameters are not used but slip through this\n",
      "  verification. Please open an issue if you find above cases.\n",
      "\n",
      "\n",
      "[19:12:34] WARNING: C:/Users/Administrator/workspace/xgboost-win64_release_1.3.0/src/learner.cc:1061: Starting in XGBoost 1.3.0, the default evaluation metric used with the objective 'multi:softprob' was changed from 'merror' to 'mlogloss'. Explicitly set eval_metric if you'd like to restore the old behavior.\n",
      "[19:12:34] WARNING: C:/Users/Administrator/workspace/xgboost-win64_release_1.3.0/src/learner.cc:541: \n",
      "Parameters: { learning_rates, max_features } might not be used.\n",
      "\n",
      "  This may not be accurate due to some parameters are only used in language bindings but\n",
      "  passed down to XGBoost core.  Or some parameters are not used but slip through this\n",
      "  verification. Please open an issue if you find above cases.\n",
      "\n",
      "\n",
      "[19:12:34] WARNING: C:/Users/Administrator/workspace/xgboost-win64_release_1.3.0/src/learner.cc:1061: Starting in XGBoost 1.3.0, the default evaluation metric used with the objective 'multi:softprob' was changed from 'merror' to 'mlogloss'. Explicitly set eval_metric if you'd like to restore the old behavior.\n",
      "[19:12:35] WARNING: C:/Users/Administrator/workspace/xgboost-win64_release_1.3.0/src/learner.cc:541: \n",
      "Parameters: { learning_rates, max_features } might not be used.\n",
      "\n",
      "  This may not be accurate due to some parameters are only used in language bindings but\n",
      "  passed down to XGBoost core.  Or some parameters are not used but slip through this\n",
      "  verification. Please open an issue if you find above cases.\n",
      "\n",
      "\n",
      "[19:12:35] WARNING: C:/Users/Administrator/workspace/xgboost-win64_release_1.3.0/src/learner.cc:1061: Starting in XGBoost 1.3.0, the default evaluation metric used with the objective 'multi:softprob' was changed from 'merror' to 'mlogloss'. Explicitly set eval_metric if you'd like to restore the old behavior.\n",
      "[19:12:35] WARNING: C:/Users/Administrator/workspace/xgboost-win64_release_1.3.0/src/learner.cc:541: \n",
      "Parameters: { learning_rates, max_features } might not be used.\n",
      "\n",
      "  This may not be accurate due to some parameters are only used in language bindings but\n",
      "  passed down to XGBoost core.  Or some parameters are not used but slip through this\n",
      "  verification. Please open an issue if you find above cases.\n",
      "\n",
      "\n",
      "[19:12:35] WARNING: C:/Users/Administrator/workspace/xgboost-win64_release_1.3.0/src/learner.cc:1061: Starting in XGBoost 1.3.0, the default evaluation metric used with the objective 'multi:softprob' was changed from 'merror' to 'mlogloss'. Explicitly set eval_metric if you'd like to restore the old behavior.\n"
     ]
    },
    {
     "name": "stdout",
     "output_type": "stream",
     "text": [
      "[19:12:35] WARNING: C:/Users/Administrator/workspace/xgboost-win64_release_1.3.0/src/learner.cc:541: \n",
      "Parameters: { learning_rates, max_features } might not be used.\n",
      "\n",
      "  This may not be accurate due to some parameters are only used in language bindings but\n",
      "  passed down to XGBoost core.  Or some parameters are not used but slip through this\n",
      "  verification. Please open an issue if you find above cases.\n",
      "\n",
      "\n",
      "[19:12:35] WARNING: C:/Users/Administrator/workspace/xgboost-win64_release_1.3.0/src/learner.cc:1061: Starting in XGBoost 1.3.0, the default evaluation metric used with the objective 'multi:softprob' was changed from 'merror' to 'mlogloss'. Explicitly set eval_metric if you'd like to restore the old behavior.\n",
      "[19:12:36] WARNING: C:/Users/Administrator/workspace/xgboost-win64_release_1.3.0/src/learner.cc:541: \n",
      "Parameters: { learning_rates, max_features } might not be used.\n",
      "\n",
      "  This may not be accurate due to some parameters are only used in language bindings but\n",
      "  passed down to XGBoost core.  Or some parameters are not used but slip through this\n",
      "  verification. Please open an issue if you find above cases.\n",
      "\n",
      "\n",
      "[19:12:36] WARNING: C:/Users/Administrator/workspace/xgboost-win64_release_1.3.0/src/learner.cc:1061: Starting in XGBoost 1.3.0, the default evaluation metric used with the objective 'multi:softprob' was changed from 'merror' to 'mlogloss'. Explicitly set eval_metric if you'd like to restore the old behavior.\n",
      "[19:12:36] WARNING: C:/Users/Administrator/workspace/xgboost-win64_release_1.3.0/src/learner.cc:541: \n",
      "Parameters: { learning_rates, max_features } might not be used.\n",
      "\n",
      "  This may not be accurate due to some parameters are only used in language bindings but\n",
      "  passed down to XGBoost core.  Or some parameters are not used but slip through this\n",
      "  verification. Please open an issue if you find above cases.\n",
      "\n",
      "\n",
      "[19:12:36] WARNING: C:/Users/Administrator/workspace/xgboost-win64_release_1.3.0/src/learner.cc:1061: Starting in XGBoost 1.3.0, the default evaluation metric used with the objective 'multi:softprob' was changed from 'merror' to 'mlogloss'. Explicitly set eval_metric if you'd like to restore the old behavior.\n",
      "[19:12:36] WARNING: C:/Users/Administrator/workspace/xgboost-win64_release_1.3.0/src/learner.cc:541: \n",
      "Parameters: { learning_rates, max_features } might not be used.\n",
      "\n",
      "  This may not be accurate due to some parameters are only used in language bindings but\n",
      "  passed down to XGBoost core.  Or some parameters are not used but slip through this\n",
      "  verification. Please open an issue if you find above cases.\n",
      "\n",
      "\n",
      "[19:12:36] WARNING: C:/Users/Administrator/workspace/xgboost-win64_release_1.3.0/src/learner.cc:1061: Starting in XGBoost 1.3.0, the default evaluation metric used with the objective 'multi:softprob' was changed from 'merror' to 'mlogloss'. Explicitly set eval_metric if you'd like to restore the old behavior.\n",
      "[19:12:37] WARNING: C:/Users/Administrator/workspace/xgboost-win64_release_1.3.0/src/learner.cc:541: \n",
      "Parameters: { learning_rates, max_features } might not be used.\n",
      "\n",
      "  This may not be accurate due to some parameters are only used in language bindings but\n",
      "  passed down to XGBoost core.  Or some parameters are not used but slip through this\n",
      "  verification. Please open an issue if you find above cases.\n",
      "\n",
      "\n",
      "[19:12:37] WARNING: C:/Users/Administrator/workspace/xgboost-win64_release_1.3.0/src/learner.cc:1061: Starting in XGBoost 1.3.0, the default evaluation metric used with the objective 'multi:softprob' was changed from 'merror' to 'mlogloss'. Explicitly set eval_metric if you'd like to restore the old behavior.\n",
      "[19:12:37] WARNING: C:/Users/Administrator/workspace/xgboost-win64_release_1.3.0/src/learner.cc:541: \n",
      "Parameters: { learning_rates, max_features } might not be used.\n",
      "\n",
      "  This may not be accurate due to some parameters are only used in language bindings but\n",
      "  passed down to XGBoost core.  Or some parameters are not used but slip through this\n",
      "  verification. Please open an issue if you find above cases.\n",
      "\n",
      "\n",
      "[19:12:37] WARNING: C:/Users/Administrator/workspace/xgboost-win64_release_1.3.0/src/learner.cc:1061: Starting in XGBoost 1.3.0, the default evaluation metric used with the objective 'multi:softprob' was changed from 'merror' to 'mlogloss'. Explicitly set eval_metric if you'd like to restore the old behavior.\n",
      "[19:12:37] WARNING: C:/Users/Administrator/workspace/xgboost-win64_release_1.3.0/src/learner.cc:541: \n",
      "Parameters: { learning_rates, max_features } might not be used.\n",
      "\n",
      "  This may not be accurate due to some parameters are only used in language bindings but\n",
      "  passed down to XGBoost core.  Or some parameters are not used but slip through this\n",
      "  verification. Please open an issue if you find above cases.\n",
      "\n",
      "\n",
      "[19:12:38] WARNING: C:/Users/Administrator/workspace/xgboost-win64_release_1.3.0/src/learner.cc:1061: Starting in XGBoost 1.3.0, the default evaluation metric used with the objective 'multi:softprob' was changed from 'merror' to 'mlogloss'. Explicitly set eval_metric if you'd like to restore the old behavior.\n"
     ]
    },
    {
     "data": {
      "text/plain": [
       "GridSearchCV(cv=5,\n",
       "             estimator=XGBClassifier(base_score=None, booster=None,\n",
       "                                     colsample_bylevel=None,\n",
       "                                     colsample_bynode=None,\n",
       "                                     colsample_bytree=None, gamma=None,\n",
       "                                     gpu_id=None, importance_type='gain',\n",
       "                                     interaction_constraints=None,\n",
       "                                     learning_rate=None, max_delta_step=None,\n",
       "                                     max_depth=None, min_child_weight=None,\n",
       "                                     missing=nan, monotone_constraints=None,\n",
       "                                     n_estimators=100, n_jobs=None,\n",
       "                                     num_parallel_tree=None, random_state=42,\n",
       "                                     reg_alpha=None, reg_lambda=None,\n",
       "                                     scale_pos_weight=None, subsample=None,\n",
       "                                     tree_method=None, validate_parameters=None,\n",
       "                                     verbosity=None),\n",
       "             param_grid={'learning_rates': [0.05, 0.1, 0.25, 0.5, 0.75, 1],\n",
       "                         'max_features': [2], 'n_estimators': [20]})"
      ]
     },
     "execution_count": 125,
     "metadata": {},
     "output_type": "execute_result"
    }
   ],
   "source": [
    "xgb_cv3 = GridSearchCV(xgb, xgb_params, cv=5)\n",
    "xgb_cv3.fit(X_train3, y_train3)"
   ]
  },
  {
   "cell_type": "code",
   "execution_count": 126,
   "metadata": {},
   "outputs": [
    {
     "name": "stdout",
     "output_type": "stream",
     "text": [
      "Best Score:0.7579315821369611\n",
      "Best Parameters: {'learning_rates': 0.05, 'max_features': 2, 'n_estimators': 20}\n"
     ]
    }
   ],
   "source": [
    "print(\"Best Score:\" + str(xgb_cv3.best_score_))\n",
    "print(\"Best Parameters: \" + str(xgb_cv3.best_params_))"
   ]
  },
  {
   "cell_type": "code",
   "execution_count": 127,
   "metadata": {},
   "outputs": [
    {
     "name": "stdout",
     "output_type": "stream",
     "text": [
      "0.8915486077186126\n",
      "0.7566951566951567\n"
     ]
    }
   ],
   "source": [
    "print(xgb_cv3.score(X_train3, y_train3))\n",
    "print(xgb_cv3.score(X_test3, y_test3))"
   ]
  },
  {
   "cell_type": "code",
   "execution_count": 128,
   "metadata": {},
   "outputs": [
    {
     "name": "stdout",
     "output_type": "stream",
     "text": [
      "[[197   1   0  33]\n",
      " [  1 152   0  18]\n",
      " [  0   0 423 111]\n",
      " [ 35   8 220 556]]\n",
      "              precision    recall  f1-score   support\n",
      "\n",
      "      MYOYUM       0.85      0.85      0.85       231\n",
      "      PARHES       0.94      0.89      0.92       171\n",
      "      TADBRA       0.66      0.79      0.72       534\n",
      "       other       0.77      0.68      0.72       819\n",
      "\n",
      "    accuracy                           0.76      1755\n",
      "   macro avg       0.81      0.80      0.80      1755\n",
      "weighted avg       0.76      0.76      0.76      1755\n",
      "\n"
     ]
    }
   ],
   "source": [
    "xgb_y_pred3 = xgb_cv3.predict(X_test3)\n",
    "print(confusion_matrix(y_test3, xgb_y_pred3))\n",
    "print(classification_report(y_test3, xgb_y_pred3))"
   ]
  },
  {
   "cell_type": "markdown",
   "metadata": {},
   "source": [
    "## Logistic Regression"
   ]
  },
  {
   "cell_type": "code",
   "execution_count": 44,
   "metadata": {},
   "outputs": [],
   "source": [
    "from sklearn.linear_model import LogisticRegression"
   ]
  },
  {
   "cell_type": "code",
   "execution_count": 71,
   "metadata": {},
   "outputs": [],
   "source": [
    "logReg = LogisticRegression(multi_class='multinomial', solver='lbfgs', max_iter=200, random_state=42)\n",
    "log_params = {'penalty': ['l1', 'l2', 'none'], \n",
    "              'C' : [0.001, 0.1, 1, 10, 100]}"
   ]
  },
  {
   "cell_type": "markdown",
   "metadata": {},
   "source": [
    "### All Species"
   ]
  },
  {
   "cell_type": "code",
   "execution_count": 72,
   "metadata": {},
   "outputs": [
    {
     "name": "stderr",
     "output_type": "stream",
     "text": [
      "C:\\Users\\matta\\anaconda3\\lib\\site-packages\\sklearn\\model_selection\\_split.py:670: UserWarning: The least populated class in y has only 1 members, which is less than n_splits=5.\n",
      "  warnings.warn((\"The least populated class in y has only %d\"\n"
     ]
    },
    {
     "name": "stdout",
     "output_type": "stream",
     "text": [
      "0.5333333333333333\n"
     ]
    },
    {
     "name": "stderr",
     "output_type": "stream",
     "text": [
      "C:\\Users\\matta\\anaconda3\\lib\\site-packages\\sklearn\\linear_model\\_logistic.py:762: ConvergenceWarning: lbfgs failed to converge (status=1):\n",
      "STOP: TOTAL NO. of ITERATIONS REACHED LIMIT.\n",
      "\n",
      "Increase the number of iterations (max_iter) or scale the data as shown in:\n",
      "    https://scikit-learn.org/stable/modules/preprocessing.html\n",
      "Please also refer to the documentation for alternative solver options:\n",
      "    https://scikit-learn.org/stable/modules/linear_model.html#logistic-regression\n",
      "  n_iter_i = _check_optimize_result(\n"
     ]
    }
   ],
   "source": [
    "logReg_cv_all = GridSearchCV(logReg, log_params, n_jobs=5, cv=5)\n",
    "logReg_cv_all.fit(X_train, y_train)\n",
    "\n",
    "print(accuracy_score(logReg_cv_all.predict(X_test), y_test))"
   ]
  },
  {
   "cell_type": "code",
   "execution_count": 73,
   "metadata": {},
   "outputs": [
    {
     "name": "stdout",
     "output_type": "stream",
     "text": [
      "Best Score:0.564975176955617\n",
      "Best Parameters: {'C': 0.1, 'penalty': 'l2'}\n"
     ]
    }
   ],
   "source": [
    "print(\"Best Score:\" + str(logReg_cv_all.best_score_))\n",
    "print(\"Best Parameters: \" + str(logReg_cv_all.best_params_))"
   ]
  },
  {
   "cell_type": "code",
   "execution_count": 74,
   "metadata": {},
   "outputs": [
    {
     "name": "stdout",
     "output_type": "stream",
     "text": [
      "0.563019052271617\n",
      "0.5333333333333333\n"
     ]
    }
   ],
   "source": [
    "print(logReg_cv_all.score(X_train, y_train))\n",
    "print(logReg_cv_all.score(X_test, y_test))"
   ]
  },
  {
   "cell_type": "code",
   "execution_count": 75,
   "metadata": {},
   "outputs": [
    {
     "name": "stdout",
     "output_type": "stream",
     "text": [
      "[[  7   0   0   0   0   0   0   0   0   0   0   0   0   0   0  26   0  16]\n",
      " [  0   2   0   0   5   0   0   0   0   0   0   0   0   0   0   0   0   0]\n",
      " [  0   0   0   0   5   0   0   0   0   0   0   0   0   0   0   3   0   4]\n",
      " [  0   0   0   0   0   0   0   0   0   0   0   0   0   6   0  10   6   0]\n",
      " [  0   0   0   0   5   0   1   0   0   0   0   0   0   0   0  10   0  78]\n",
      " [  0   0   0   0   0   0   0   0   0   0   0   0   0   0   0  10   1  74]\n",
      " [  2   0   0   0   0   0   3   0   0   0   0   0   0   0   0  19   3  13]\n",
      " [  0   0   0   0   0   0   0   0   0   0   0   0   0  14   0   3   0   0]\n",
      " [  0   0   0   0   0   0   0   0   0   0   0   0   0   1   0   0   0   0]\n",
      " [  0   0   0   0   0   0   0   1   0   0   0   0   0   0   0   1   0   0]\n",
      " [  0   0   0   0   0   0   0   0   0   0   2   0   0   0   0   0   0   0]\n",
      " [  0   0   0   0   0   0   0   0   0   0   0   0   0   1   0   1   0   0]\n",
      " [  1   0   0   0   0   0   0   0   0   0   0   0   0   3   0   1   0   0]\n",
      " [  0   0   0   0   0   0   0   1   0   0   0   0   0 213   0  11   6   0]\n",
      " [  0   0   0   0   1   0   0   0   0   0   0   0   0   0   0   2   0   2]\n",
      " [  4   4   1   0   7   1   0   0   0   0   1   0   1  56   0 120  33 248]\n",
      " [  0   0   0   0   0   0   0   0   0   0   0   0   0   1   0  30 140   0]\n",
      " [  0   0   0   0   2   0   0   0   0   0   0   0   0   0   0  80   8 444]]\n",
      "              precision    recall  f1-score   support\n",
      "\n",
      "      EPTFUS       0.50      0.14      0.22        49\n",
      "      EUMPER       0.33      0.29      0.31         7\n",
      "      EUMUND       0.00      0.00      0.00        12\n",
      "      LASBLO       0.00      0.00      0.00        22\n",
      "      LASCIN       0.20      0.05      0.08        94\n",
      "      LASNOC       0.00      0.00      0.00        85\n",
      "      LASXAN       0.75      0.07      0.14        40\n",
      "      MYOCAL       0.00      0.00      0.00        17\n",
      "      MYOCIL       0.00      0.00      0.00         1\n",
      "      MYOOCC       0.00      0.00      0.00         2\n",
      "      MYOTHY       0.67      1.00      0.80         2\n",
      "      MYOVEL       0.00      0.00      0.00         2\n",
      "      MYOVOL       0.00      0.00      0.00         5\n",
      "      MYOYUM       0.72      0.92      0.81       231\n",
      "      NYCFEM       0.00      0.00      0.00         5\n",
      "        NoID       0.37      0.25      0.30       476\n",
      "      PARHES       0.71      0.82      0.76       171\n",
      "      TADBRA       0.51      0.83      0.63       534\n",
      "\n",
      "    accuracy                           0.53      1755\n",
      "   macro avg       0.26      0.24      0.22      1755\n",
      "weighted avg       0.46      0.53      0.47      1755\n",
      "\n"
     ]
    },
    {
     "name": "stderr",
     "output_type": "stream",
     "text": [
      "C:\\Users\\matta\\anaconda3\\lib\\site-packages\\sklearn\\metrics\\_classification.py:1221: UndefinedMetricWarning: Precision and F-score are ill-defined and being set to 0.0 in labels with no predicted samples. Use `zero_division` parameter to control this behavior.\n",
      "  _warn_prf(average, modifier, msg_start, len(result))\n"
     ]
    }
   ],
   "source": [
    "logReg_y_pred_all = logReg_cv_all.predict(X_test)\n",
    "print(confusion_matrix(y_test, logReg_y_pred_all))\n",
    "print(classification_report(y_test, logReg_y_pred_all))"
   ]
  },
  {
   "cell_type": "markdown",
   "metadata": {},
   "source": [
    "### Three Species"
   ]
  },
  {
   "cell_type": "code",
   "execution_count": 76,
   "metadata": {},
   "outputs": [
    {
     "name": "stdout",
     "output_type": "stream",
     "text": [
      "0.6245014245014245\n"
     ]
    },
    {
     "name": "stderr",
     "output_type": "stream",
     "text": [
      "C:\\Users\\matta\\anaconda3\\lib\\site-packages\\sklearn\\linear_model\\_logistic.py:762: ConvergenceWarning: lbfgs failed to converge (status=1):\n",
      "STOP: TOTAL NO. of ITERATIONS REACHED LIMIT.\n",
      "\n",
      "Increase the number of iterations (max_iter) or scale the data as shown in:\n",
      "    https://scikit-learn.org/stable/modules/preprocessing.html\n",
      "Please also refer to the documentation for alternative solver options:\n",
      "    https://scikit-learn.org/stable/modules/linear_model.html#logistic-regression\n",
      "  n_iter_i = _check_optimize_result(\n"
     ]
    }
   ],
   "source": [
    "logReg_cv3 = GridSearchCV(logReg, log_params, n_jobs=5, cv=5)\n",
    "logReg_cv3.fit(X_train3, y_train3)\n",
    "\n",
    "print(accuracy_score(logReg_cv3.predict(X_test3), y_test3))"
   ]
  },
  {
   "cell_type": "code",
   "execution_count": 77,
   "metadata": {},
   "outputs": [
    {
     "name": "stdout",
     "output_type": "stream",
     "text": [
      "Best score: 0.6155356732373848\n",
      "Best Parameters: {'C': 100, 'penalty': 'l2'}\n"
     ]
    }
   ],
   "source": [
    "print(\"Best score: \" + str(logReg_cv3.best_score_))\n",
    "print(\"Best Parameters: \" + str(logReg_cv3.best_params_))"
   ]
  },
  {
   "cell_type": "code",
   "execution_count": 78,
   "metadata": {},
   "outputs": [
    {
     "name": "stdout",
     "output_type": "stream",
     "text": [
      "0.621152906692721\n",
      "0.6245014245014245\n"
     ]
    }
   ],
   "source": [
    "print(logReg_cv3.score(X_train3, y_train3))\n",
    "print(logReg_cv3.score(X_test3, y_test3))"
   ]
  },
  {
   "cell_type": "code",
   "execution_count": 79,
   "metadata": {},
   "outputs": [
    {
     "name": "stdout",
     "output_type": "stream",
     "text": [
      "[[201   5   0  25]\n",
      " [  0 134   0  37]\n",
      " [  0   6 302 226]\n",
      " [ 65  32 263 459]]\n",
      "              precision    recall  f1-score   support\n",
      "\n",
      "      MYOYUM       0.76      0.87      0.81       231\n",
      "      PARHES       0.76      0.78      0.77       171\n",
      "      TADBRA       0.53      0.57      0.55       534\n",
      "       other       0.61      0.56      0.59       819\n",
      "\n",
      "    accuracy                           0.62      1755\n",
      "   macro avg       0.67      0.69      0.68      1755\n",
      "weighted avg       0.62      0.62      0.62      1755\n",
      "\n"
     ]
    }
   ],
   "source": [
    "logReg_y_pred3 = logReg_cv3.predict(X_test3)\n",
    "print(confusion_matrix(y_test3, logReg_y_pred3))\n",
    "print(classification_report(y_test3, logReg_y_pred3))"
   ]
  },
  {
   "cell_type": "markdown",
   "metadata": {},
   "source": [
    "### Scaled All Species"
   ]
  },
  {
   "cell_type": "code",
   "execution_count": 138,
   "metadata": {},
   "outputs": [
    {
     "name": "stderr",
     "output_type": "stream",
     "text": [
      "C:\\Users\\matta\\anaconda3\\lib\\site-packages\\sklearn\\model_selection\\_split.py:670: UserWarning: The least populated class in y has only 1 members, which is less than n_splits=5.\n",
      "  warnings.warn((\"The least populated class in y has only %d\"\n",
      "C:\\Users\\matta\\anaconda3\\lib\\site-packages\\sklearn\\linear_model\\_logistic.py:1320: UserWarning: Setting penalty='none' will ignore the C and l1_ratio parameters\n",
      "  warnings.warn(\n"
     ]
    },
    {
     "name": "stdout",
     "output_type": "stream",
     "text": [
      "0.5726495726495726\n"
     ]
    },
    {
     "name": "stderr",
     "output_type": "stream",
     "text": [
      "C:\\Users\\matta\\anaconda3\\lib\\site-packages\\sklearn\\linear_model\\_logistic.py:762: ConvergenceWarning: lbfgs failed to converge (status=1):\n",
      "STOP: TOTAL NO. of ITERATIONS REACHED LIMIT.\n",
      "\n",
      "Increase the number of iterations (max_iter) or scale the data as shown in:\n",
      "    https://scikit-learn.org/stable/modules/preprocessing.html\n",
      "Please also refer to the documentation for alternative solver options:\n",
      "    https://scikit-learn.org/stable/modules/linear_model.html#logistic-regression\n",
      "  n_iter_i = _check_optimize_result(\n"
     ]
    }
   ],
   "source": [
    "logReg_cv_all_scaled = GridSearchCV(logReg, log_params, n_jobs=5, cv=5)\n",
    "logReg_cv_all_scaled.fit(X_train_scaled, y_train)\n",
    "\n",
    "print(accuracy_score(logReg_cv_all_scaled.predict(X_test_scaled), y_test))"
   ]
  },
  {
   "cell_type": "code",
   "execution_count": 139,
   "metadata": {},
   "outputs": [
    {
     "name": "stdout",
     "output_type": "stream",
     "text": [
      "Best Score:0.5962372862128363\n",
      "Best Parameters: {'C': 0.001, 'penalty': 'none'}\n"
     ]
    }
   ],
   "source": [
    "print(\"Best Score:\" + str(logReg_cv_all_scaled.best_score_))\n",
    "print(\"Best Parameters: \" + str(logReg_cv_all_scaled.best_params_))"
   ]
  },
  {
   "cell_type": "code",
   "execution_count": 140,
   "metadata": {},
   "outputs": [
    {
     "name": "stdout",
     "output_type": "stream",
     "text": [
      "0.6013678553981436\n",
      "0.5726495726495726\n"
     ]
    }
   ],
   "source": [
    "print(logReg_cv_all_scaled.score(X_train_scaled, y_train))\n",
    "print(logReg_cv_all_scaled.score(X_test_scaled, y_test))"
   ]
  },
  {
   "cell_type": "code",
   "execution_count": 141,
   "metadata": {},
   "outputs": [
    {
     "name": "stdout",
     "output_type": "stream",
     "text": [
      "[[  0   0   0   0   0   0   0   0   0   0   0   0   0   0   0   0   0   0\n",
      "    0   0]\n",
      " [  1   9   0   0   0   0   0   0   0   0   0   0   0   0   0   0   0  28\n",
      "    0  11]\n",
      " [  0   0   4   2   0   0   0   0   0   0   0   0   0   0   0   1   0   0\n",
      "    0   0]\n",
      " [  0   0   0   3   0   2   0   0   0   0   0   0   0   0   0   0   0   3\n",
      "    0   4]\n",
      " [  0   0   0   0   0   0   0   0   0   0   0   0   0   0   7   0   0   5\n",
      "   10   0]\n",
      " [  0   0   0   1   0   4   0   0   0   0   0   0   0   0   0   0   0  20\n",
      "    0  69]\n",
      " [  0   0   0   0   0   0   1   0   0   0   0   0   0   0   0   0   0  13\n",
      "    0  71]\n",
      " [  0   1   0   0   0   0   0   4   0   0   0   0   0   0   0   0   0  25\n",
      "    0  10]\n",
      " [  0   0   0   0   0   0   0   0   0   0   0   0   0   0  14   0   0   3\n",
      "    0   0]\n",
      " [  0   0   0   0   0   0   0   0   0   0   1   0   0   0   0   0   0   0\n",
      "    0   0]\n",
      " [  0   0   0   0   0   0   0   0   0   0   0   0   0   0   0   0   0   2\n",
      "    0   0]\n",
      " [  0   0   0   0   0   0   0   0   0   0   0   2   0   0   0   0   0   0\n",
      "    0   0]\n",
      " [  0   0   0   0   0   0   0   0   0   0   0   0   0   0   0   0   0   2\n",
      "    0   0]\n",
      " [  0   1   0   0   0   0   0   0   0   0   0   0   0   0   0   0   0   4\n",
      "    0   0]\n",
      " [  0   0   0   0   0   0   0   0   0   0   0   0   0   0 211   0   0  20\n",
      "    0   0]\n",
      " [  0   0   0   0   0   1   0   0   0   0   0   0   0   0   0   1   0   2\n",
      "    0   1]\n",
      " [  0   0   0   0   0   0   0   0   0   0   0   0   0   0   0   0   0   0\n",
      "    0   0]\n",
      " [  0   8   3   1   2  20   0   4   0   0   1   0   0   1  53   2   1 163\n",
      "    9 208]\n",
      " [  0   0   0   0   0   0   0   1   0   0   0   0   0   0   0   0   0   8\n",
      "  162   0]\n",
      " [  0   1   0   0   0   0   0   0   0   0   0   0   0   0   0   0   0  92\n",
      "    0 441]]\n",
      "              precision    recall  f1-score   support\n",
      "\n",
      "      ANTPAL       0.00      0.00      0.00         0\n",
      "      EPTFUS       0.45      0.18      0.26        49\n",
      "      EUMPER       0.57      0.57      0.57         7\n",
      "      EUMUND       0.43      0.25      0.32        12\n",
      "      LASBLO       0.00      0.00      0.00        22\n",
      "      LASCIN       0.15      0.04      0.07        94\n",
      "      LASNOC       1.00      0.01      0.02        85\n",
      "      LASXAN       0.44      0.10      0.16        40\n",
      "      MYOCAL       0.00      0.00      0.00        17\n",
      "      MYOCIL       0.00      0.00      0.00         1\n",
      "      MYOOCC       0.00      0.00      0.00         2\n",
      "      MYOTHY       1.00      1.00      1.00         2\n",
      "      MYOVEL       0.00      0.00      0.00         2\n",
      "      MYOVOL       0.00      0.00      0.00         5\n",
      "      MYOYUM       0.74      0.91      0.82       231\n",
      "      NYCFEM       0.25      0.20      0.22         5\n",
      "      NYCMAC       0.00      0.00      0.00         0\n",
      "        NoID       0.42      0.34      0.38       476\n",
      "      PARHES       0.90      0.95      0.92       171\n",
      "      TADBRA       0.54      0.83      0.65       534\n",
      "\n",
      "    accuracy                           0.57      1755\n",
      "   macro avg       0.34      0.27      0.27      1755\n",
      "weighted avg       0.55      0.57      0.52      1755\n",
      "\n"
     ]
    },
    {
     "name": "stderr",
     "output_type": "stream",
     "text": [
      "C:\\Users\\matta\\anaconda3\\lib\\site-packages\\sklearn\\metrics\\_classification.py:1221: UndefinedMetricWarning: Precision and F-score are ill-defined and being set to 0.0 in labels with no predicted samples. Use `zero_division` parameter to control this behavior.\n",
      "  _warn_prf(average, modifier, msg_start, len(result))\n",
      "C:\\Users\\matta\\anaconda3\\lib\\site-packages\\sklearn\\metrics\\_classification.py:1221: UndefinedMetricWarning: Recall and F-score are ill-defined and being set to 0.0 in labels with no true samples. Use `zero_division` parameter to control this behavior.\n",
      "  _warn_prf(average, modifier, msg_start, len(result))\n"
     ]
    }
   ],
   "source": [
    "logReg_y_pred_all_scaled = logReg_cv_all_scaled.predict(X_test_scaled)\n",
    "print(confusion_matrix(y_test, logReg_y_pred_all_scaled))\n",
    "print(classification_report(y_test, logReg_y_pred_all_scaled))"
   ]
  },
  {
   "cell_type": "markdown",
   "metadata": {},
   "source": [
    "### Scaled Three Species"
   ]
  },
  {
   "cell_type": "code",
   "execution_count": 152,
   "metadata": {},
   "outputs": [
    {
     "name": "stderr",
     "output_type": "stream",
     "text": [
      "C:\\Users\\matta\\anaconda3\\lib\\site-packages\\sklearn\\linear_model\\_logistic.py:1320: UserWarning: Setting penalty='none' will ignore the C and l1_ratio parameters\n",
      "  warnings.warn(\n"
     ]
    },
    {
     "name": "stdout",
     "output_type": "stream",
     "text": [
      "0.6695156695156695\n"
     ]
    },
    {
     "name": "stderr",
     "output_type": "stream",
     "text": [
      "C:\\Users\\matta\\anaconda3\\lib\\site-packages\\sklearn\\linear_model\\_logistic.py:762: ConvergenceWarning: lbfgs failed to converge (status=1):\n",
      "STOP: TOTAL NO. of ITERATIONS REACHED LIMIT.\n",
      "\n",
      "Increase the number of iterations (max_iter) or scale the data as shown in:\n",
      "    https://scikit-learn.org/stable/modules/preprocessing.html\n",
      "Please also refer to the documentation for alternative solver options:\n",
      "    https://scikit-learn.org/stable/modules/linear_model.html#logistic-regression\n",
      "  n_iter_i = _check_optimize_result(\n"
     ]
    }
   ],
   "source": [
    "logReg_cv_scaled3 = GridSearchCV(logReg, log_params, n_jobs=5, cv=5)\n",
    "logReg_cv_scaled3.fit(X_train_scaled3, y_train3)\n",
    "\n",
    "print(accuracy_score(logReg_cv_scaled3.predict(X_test_scaled3), y_test3))"
   ]
  },
  {
   "cell_type": "code",
   "execution_count": 153,
   "metadata": {},
   "outputs": [
    {
     "name": "stdout",
     "output_type": "stream",
     "text": [
      "Best Score:0.6489994656253824\n",
      "Best Parameters: {'C': 0.001, 'penalty': 'none'}\n"
     ]
    }
   ],
   "source": [
    "print(\"Best Score:\" + str(logReg_cv_scaled3.best_score_))\n",
    "print(\"Best Parameters: \" + str(logReg_cv_scaled3.best_params_))"
   ]
  },
  {
   "cell_type": "code",
   "execution_count": 154,
   "metadata": {},
   "outputs": [
    {
     "name": "stdout",
     "output_type": "stream",
     "text": [
      "0.6489985344406448\n",
      "0.6695156695156695\n"
     ]
    }
   ],
   "source": [
    "print(logReg_cv_scaled3.score(X_train_scaled3, y_train3))\n",
    "print(logReg_cv_scaled3.score(X_test_scaled3, y_test3))"
   ]
  },
  {
   "cell_type": "code",
   "execution_count": 155,
   "metadata": {},
   "outputs": [
    {
     "name": "stdout",
     "output_type": "stream",
     "text": [
      "[[205   0   0  26]\n",
      " [  0 159   1  11]\n",
      " [  0   0 299 235]\n",
      " [ 60  18 229 512]]\n",
      "              precision    recall  f1-score   support\n",
      "\n",
      "      MYOYUM       0.77      0.89      0.83       231\n",
      "      PARHES       0.90      0.93      0.91       171\n",
      "      TADBRA       0.57      0.56      0.56       534\n",
      "       other       0.65      0.63      0.64       819\n",
      "\n",
      "    accuracy                           0.67      1755\n",
      "   macro avg       0.72      0.75      0.74      1755\n",
      "weighted avg       0.67      0.67      0.67      1755\n",
      "\n"
     ]
    }
   ],
   "source": [
    "logReg_y_pred_scaled3 = logReg_cv_scaled3.predict(X_test_scaled3)\n",
    "print(confusion_matrix(y_test3, logReg_y_pred_scaled3))\n",
    "print(classification_report(y_test3, logReg_y_pred_scaled3))"
   ]
  },
  {
   "cell_type": "markdown",
   "metadata": {},
   "source": [
    "## Model By Match Ratio"
   ]
  },
  {
   "cell_type": "markdown",
   "metadata": {},
   "source": [
    "### Original Dataframe With Match Ratios"
   ]
  },
  {
   "cell_type": "code",
   "execution_count": 145,
   "metadata": {},
   "outputs": [],
   "source": [
    "data = pd.read_csv('truthed_library.csv')"
   ]
  },
  {
   "cell_type": "markdown",
   "metadata": {},
   "source": [
    "#### Kaleidoscope Pro Accuracy With All Species"
   ]
  },
  {
   "cell_type": "code",
   "execution_count": 146,
   "metadata": {},
   "outputs": [
    {
     "name": "stdout",
     "output_type": "stream",
     "text": [
      "[0.0, 0.1, 0.2, 0.3, 0.4, 0.5, 0.6, 0.7, 0.8, 0.9]\n",
      "[68.21678919473413, 73.99241346609767, 74.82312759209563, 77.11470024637285, 80.05363727790814, 82.65746333045729, 86.89024390243902, 89.16211293260473, 90.01490312965723, 90.93851132686083]\n"
     ]
    }
   ],
   "source": [
    "#Determining match ratio accuracy for original Kaleidoscope Pro software for all species\n",
    "aa = []\n",
    "bb = []\n",
    "for i in [float(x/10) for x in range(10)]:\n",
    "    aa.append(i)\n",
    "    tempdf = data[data['MATCH RATIO'] >= i]\n",
    "    #print(len(tempdf))\n",
    "    bb.append(sum(tempdf['Result'] == True) / len(tempdf) * 100)\n",
    "print(aa)\n",
    "print(bb)"
   ]
  },
  {
   "cell_type": "markdown",
   "metadata": {},
   "source": [
    "#### Kaleidoscope Pro Accuracy All Species With NoID Removed"
   ]
  },
  {
   "cell_type": "code",
   "execution_count": 147,
   "metadata": {},
   "outputs": [],
   "source": [
    "data = data.drop(columns = ['IN FILE', 'PULSES', 'MARGIN', 'Tc'])"
   ]
  },
  {
   "cell_type": "code",
   "execution_count": 148,
   "metadata": {},
   "outputs": [],
   "source": [
    "data = data.rename(columns = {'AUTO ID*' : 'Spp'})"
   ]
  },
  {
   "cell_type": "code",
   "execution_count": 149,
   "metadata": {},
   "outputs": [
    {
     "data": {
      "text/html": [
       "<div>\n",
       "<style scoped>\n",
       "    .dataframe tbody tr th:only-of-type {\n",
       "        vertical-align: middle;\n",
       "    }\n",
       "\n",
       "    .dataframe tbody tr th {\n",
       "        vertical-align: top;\n",
       "    }\n",
       "\n",
       "    .dataframe thead th {\n",
       "        text-align: right;\n",
       "    }\n",
       "</style>\n",
       "<table border=\"1\" class=\"dataframe\">\n",
       "  <thead>\n",
       "    <tr style=\"text-align: right;\">\n",
       "      <th></th>\n",
       "      <th>Spp</th>\n",
       "      <th>MATCH RATIO</th>\n",
       "      <th>Fc</th>\n",
       "      <th>Sc</th>\n",
       "      <th>Dur</th>\n",
       "      <th>Fmax</th>\n",
       "      <th>Fmin</th>\n",
       "      <th>Fk</th>\n",
       "      <th>Tk</th>\n",
       "      <th>S1</th>\n",
       "      <th>BWDth</th>\n",
       "      <th>PkDur</th>\n",
       "      <th>COMP ID</th>\n",
       "      <th>Result</th>\n",
       "    </tr>\n",
       "  </thead>\n",
       "  <tbody>\n",
       "    <tr>\n",
       "      <th>0</th>\n",
       "      <td>ANTPAL</td>\n",
       "      <td>0.258</td>\n",
       "      <td>32.032</td>\n",
       "      <td>84.83</td>\n",
       "      <td>3.601</td>\n",
       "      <td>43.750</td>\n",
       "      <td>31.157</td>\n",
       "      <td>35.004</td>\n",
       "      <td>2.090</td>\n",
       "      <td>326.50</td>\n",
       "      <td>12.593</td>\n",
       "      <td>35.545682</td>\n",
       "      <td>NoID</td>\n",
       "      <td>False</td>\n",
       "    </tr>\n",
       "    <tr>\n",
       "      <th>1</th>\n",
       "      <td>ANTPAL</td>\n",
       "      <td>0.875</td>\n",
       "      <td>28.955</td>\n",
       "      <td>61.99</td>\n",
       "      <td>6.088</td>\n",
       "      <td>48.466</td>\n",
       "      <td>27.932</td>\n",
       "      <td>30.731</td>\n",
       "      <td>4.213</td>\n",
       "      <td>208.94</td>\n",
       "      <td>20.534</td>\n",
       "      <td>21.222076</td>\n",
       "      <td>ANTPAL</td>\n",
       "      <td>True</td>\n",
       "    </tr>\n",
       "    <tr>\n",
       "      <th>2</th>\n",
       "      <td>ANTPAL</td>\n",
       "      <td>0.714</td>\n",
       "      <td>29.955</td>\n",
       "      <td>68.58</td>\n",
       "      <td>2.948</td>\n",
       "      <td>39.362</td>\n",
       "      <td>29.800</td>\n",
       "      <td>31.430</td>\n",
       "      <td>1.990</td>\n",
       "      <td>297.09</td>\n",
       "      <td>9.562</td>\n",
       "      <td>30.800543</td>\n",
       "      <td>ANTPAL</td>\n",
       "      <td>True</td>\n",
       "    </tr>\n",
       "    <tr>\n",
       "      <th>3</th>\n",
       "      <td>ANTPAL</td>\n",
       "      <td>0.444</td>\n",
       "      <td>32.315</td>\n",
       "      <td>92.00</td>\n",
       "      <td>4.292</td>\n",
       "      <td>54.628</td>\n",
       "      <td>31.916</td>\n",
       "      <td>35.201</td>\n",
       "      <td>2.918</td>\n",
       "      <td>547.76</td>\n",
       "      <td>22.712</td>\n",
       "      <td>27.912395</td>\n",
       "      <td>ANTPAL</td>\n",
       "      <td>True</td>\n",
       "    </tr>\n",
       "    <tr>\n",
       "      <th>4</th>\n",
       "      <td>EPTFUS</td>\n",
       "      <td>0.398</td>\n",
       "      <td>35.502</td>\n",
       "      <td>31.02</td>\n",
       "      <td>6.288</td>\n",
       "      <td>46.429</td>\n",
       "      <td>34.205</td>\n",
       "      <td>37.141</td>\n",
       "      <td>3.196</td>\n",
       "      <td>332.20</td>\n",
       "      <td>12.224</td>\n",
       "      <td>33.699109</td>\n",
       "      <td>EPTFUS</td>\n",
       "      <td>True</td>\n",
       "    </tr>\n",
       "  </tbody>\n",
       "</table>\n",
       "</div>"
      ],
      "text/plain": [
       "      Spp  MATCH RATIO      Fc     Sc    Dur    Fmax    Fmin      Fk     Tk  \\\n",
       "0  ANTPAL        0.258  32.032  84.83  3.601  43.750  31.157  35.004  2.090   \n",
       "1  ANTPAL        0.875  28.955  61.99  6.088  48.466  27.932  30.731  4.213   \n",
       "2  ANTPAL        0.714  29.955  68.58  2.948  39.362  29.800  31.430  1.990   \n",
       "3  ANTPAL        0.444  32.315  92.00  4.292  54.628  31.916  35.201  2.918   \n",
       "4  EPTFUS        0.398  35.502  31.02  6.288  46.429  34.205  37.141  3.196   \n",
       "\n",
       "       S1   BWDth      PkDur COMP ID  Result  \n",
       "0  326.50  12.593  35.545682    NoID   False  \n",
       "1  208.94  20.534  21.222076  ANTPAL    True  \n",
       "2  297.09   9.562  30.800543  ANTPAL    True  \n",
       "3  547.76  22.712  27.912395  ANTPAL    True  \n",
       "4  332.20  12.224  33.699109  EPTFUS    True  "
      ]
     },
     "execution_count": 149,
     "metadata": {},
     "output_type": "execute_result"
    }
   ],
   "source": [
    "data.head()"
   ]
  },
  {
   "cell_type": "code",
   "execution_count": 150,
   "metadata": {},
   "outputs": [
    {
     "data": {
      "text/plain": [
       "(5849, 14)"
      ]
     },
     "execution_count": 150,
     "metadata": {},
     "output_type": "execute_result"
    }
   ],
   "source": [
    "data.shape"
   ]
  },
  {
   "cell_type": "code",
   "execution_count": 151,
   "metadata": {},
   "outputs": [
    {
     "name": "stdout",
     "output_type": "stream",
     "text": [
      "[0.0, 0.1, 0.2, 0.3, 0.4, 0.5, 0.6, 0.7, 0.8, 0.9]\n",
      "[73.88941398865785, 89.86467031384969, 90.07342143906021, 91.25364431486881, 92.95445698715453, 94.71082550667326, 97.00476514635807, 98.39195979899498, 98.8543371522095, 99.64539007092199]\n"
     ]
    },
    {
     "name": "stderr",
     "output_type": "stream",
     "text": [
      "<ipython-input-151-a2e4e0586777>:8: UserWarning: Boolean Series key will be reindexed to match DataFrame index.\n",
      "  tempdf = data[data['COMP ID'] != 'NoID'][data['MATCH RATIO'] >= i]\n",
      "<ipython-input-151-a2e4e0586777>:8: UserWarning: Boolean Series key will be reindexed to match DataFrame index.\n",
      "  tempdf = data[data['COMP ID'] != 'NoID'][data['MATCH RATIO'] >= i]\n",
      "<ipython-input-151-a2e4e0586777>:8: UserWarning: Boolean Series key will be reindexed to match DataFrame index.\n",
      "  tempdf = data[data['COMP ID'] != 'NoID'][data['MATCH RATIO'] >= i]\n",
      "<ipython-input-151-a2e4e0586777>:8: UserWarning: Boolean Series key will be reindexed to match DataFrame index.\n",
      "  tempdf = data[data['COMP ID'] != 'NoID'][data['MATCH RATIO'] >= i]\n",
      "<ipython-input-151-a2e4e0586777>:8: UserWarning: Boolean Series key will be reindexed to match DataFrame index.\n",
      "  tempdf = data[data['COMP ID'] != 'NoID'][data['MATCH RATIO'] >= i]\n",
      "<ipython-input-151-a2e4e0586777>:8: UserWarning: Boolean Series key will be reindexed to match DataFrame index.\n",
      "  tempdf = data[data['COMP ID'] != 'NoID'][data['MATCH RATIO'] >= i]\n",
      "<ipython-input-151-a2e4e0586777>:8: UserWarning: Boolean Series key will be reindexed to match DataFrame index.\n",
      "  tempdf = data[data['COMP ID'] != 'NoID'][data['MATCH RATIO'] >= i]\n",
      "<ipython-input-151-a2e4e0586777>:8: UserWarning: Boolean Series key will be reindexed to match DataFrame index.\n",
      "  tempdf = data[data['COMP ID'] != 'NoID'][data['MATCH RATIO'] >= i]\n",
      "<ipython-input-151-a2e4e0586777>:8: UserWarning: Boolean Series key will be reindexed to match DataFrame index.\n",
      "  tempdf = data[data['COMP ID'] != 'NoID'][data['MATCH RATIO'] >= i]\n",
      "<ipython-input-151-a2e4e0586777>:8: UserWarning: Boolean Series key will be reindexed to match DataFrame index.\n",
      "  tempdf = data[data['COMP ID'] != 'NoID'][data['MATCH RATIO'] >= i]\n"
     ]
    }
   ],
   "source": [
    "#Determining match ratio accuracy for original Kaleidoscope Pro software for all species but dropping NoID\n",
    "#from COMP ID.  This is done because NoID matters very little in results, it counts as a bat detection but\n",
    "#it is better to error on the side of NoID rather than have a false positive for a specific species.\n",
    "aa_r = []\n",
    "bb_r = []\n",
    "for i in [float(x/10) for x in range(10)]:\n",
    "    aa_r.append(i)\n",
    "    tempdf = data[data['COMP ID'] != 'NoID'][data['MATCH RATIO'] >= i]\n",
    "    #print(len(tempdf))\n",
    "    bb_r.append(sum(tempdf['Result'] == True) / len(tempdf) * 100)\n",
    "print(aa_r)\n",
    "print(bb_r)"
   ]
  },
  {
   "cell_type": "markdown",
   "metadata": {},
   "source": [
    "#### Kaleidoscope Pro Accuracy Three Species With NoID Removed"
   ]
  },
  {
   "cell_type": "code",
   "execution_count": 152,
   "metadata": {},
   "outputs": [],
   "source": [
    "three_spp = data['COMP ID'].replace(to_replace = ['ANTPAL', 'EPTFUS', 'LASCIN', 'LASNOC', 'EUMPER', 'EUMUND', \n",
    "                                      'NYCFEM', 'LASBLO', 'MYOCIL', 'MYOCAL', 'LASXAN', 'MYOEVO', \n",
    "                                      'MYOOCC', 'MYOTHY', 'MYOVOL', 'NYCMAC', 'MYOVEL'], value = 'NoID')"
   ]
  },
  {
   "cell_type": "code",
   "execution_count": 153,
   "metadata": {},
   "outputs": [
    {
     "data": {
      "text/plain": [
       "NoID      2907\n",
       "TADBRA    1563\n",
       "MYOYUM     855\n",
       "PARHES     524\n",
       "Name: COMP ID, dtype: int64"
      ]
     },
     "execution_count": 153,
     "metadata": {},
     "output_type": "execute_result"
    }
   ],
   "source": [
    "three_spp.value_counts()"
   ]
  },
  {
   "cell_type": "code",
   "execution_count": 154,
   "metadata": {},
   "outputs": [],
   "source": [
    "three_spp_data = data.copy()"
   ]
  },
  {
   "cell_type": "code",
   "execution_count": 155,
   "metadata": {},
   "outputs": [],
   "source": [
    "three_spp_data['COMP ID'] = three_spp"
   ]
  },
  {
   "cell_type": "code",
   "execution_count": 156,
   "metadata": {},
   "outputs": [
    {
     "data": {
      "text/html": [
       "<div>\n",
       "<style scoped>\n",
       "    .dataframe tbody tr th:only-of-type {\n",
       "        vertical-align: middle;\n",
       "    }\n",
       "\n",
       "    .dataframe tbody tr th {\n",
       "        vertical-align: top;\n",
       "    }\n",
       "\n",
       "    .dataframe thead th {\n",
       "        text-align: right;\n",
       "    }\n",
       "</style>\n",
       "<table border=\"1\" class=\"dataframe\">\n",
       "  <thead>\n",
       "    <tr style=\"text-align: right;\">\n",
       "      <th></th>\n",
       "      <th>Spp</th>\n",
       "      <th>MATCH RATIO</th>\n",
       "      <th>Fc</th>\n",
       "      <th>Sc</th>\n",
       "      <th>Dur</th>\n",
       "      <th>Fmax</th>\n",
       "      <th>Fmin</th>\n",
       "      <th>Fk</th>\n",
       "      <th>Tk</th>\n",
       "      <th>S1</th>\n",
       "      <th>BWDth</th>\n",
       "      <th>PkDur</th>\n",
       "      <th>COMP ID</th>\n",
       "      <th>Result</th>\n",
       "    </tr>\n",
       "  </thead>\n",
       "  <tbody>\n",
       "    <tr>\n",
       "      <th>0</th>\n",
       "      <td>ANTPAL</td>\n",
       "      <td>0.258</td>\n",
       "      <td>32.032</td>\n",
       "      <td>84.83</td>\n",
       "      <td>3.601</td>\n",
       "      <td>43.750</td>\n",
       "      <td>31.157</td>\n",
       "      <td>35.004</td>\n",
       "      <td>2.090</td>\n",
       "      <td>326.50</td>\n",
       "      <td>12.593</td>\n",
       "      <td>35.545682</td>\n",
       "      <td>NoID</td>\n",
       "      <td>False</td>\n",
       "    </tr>\n",
       "    <tr>\n",
       "      <th>1</th>\n",
       "      <td>ANTPAL</td>\n",
       "      <td>0.875</td>\n",
       "      <td>28.955</td>\n",
       "      <td>61.99</td>\n",
       "      <td>6.088</td>\n",
       "      <td>48.466</td>\n",
       "      <td>27.932</td>\n",
       "      <td>30.731</td>\n",
       "      <td>4.213</td>\n",
       "      <td>208.94</td>\n",
       "      <td>20.534</td>\n",
       "      <td>21.222076</td>\n",
       "      <td>NoID</td>\n",
       "      <td>True</td>\n",
       "    </tr>\n",
       "    <tr>\n",
       "      <th>2</th>\n",
       "      <td>ANTPAL</td>\n",
       "      <td>0.714</td>\n",
       "      <td>29.955</td>\n",
       "      <td>68.58</td>\n",
       "      <td>2.948</td>\n",
       "      <td>39.362</td>\n",
       "      <td>29.800</td>\n",
       "      <td>31.430</td>\n",
       "      <td>1.990</td>\n",
       "      <td>297.09</td>\n",
       "      <td>9.562</td>\n",
       "      <td>30.800543</td>\n",
       "      <td>NoID</td>\n",
       "      <td>True</td>\n",
       "    </tr>\n",
       "    <tr>\n",
       "      <th>3</th>\n",
       "      <td>ANTPAL</td>\n",
       "      <td>0.444</td>\n",
       "      <td>32.315</td>\n",
       "      <td>92.00</td>\n",
       "      <td>4.292</td>\n",
       "      <td>54.628</td>\n",
       "      <td>31.916</td>\n",
       "      <td>35.201</td>\n",
       "      <td>2.918</td>\n",
       "      <td>547.76</td>\n",
       "      <td>22.712</td>\n",
       "      <td>27.912395</td>\n",
       "      <td>NoID</td>\n",
       "      <td>True</td>\n",
       "    </tr>\n",
       "    <tr>\n",
       "      <th>4</th>\n",
       "      <td>EPTFUS</td>\n",
       "      <td>0.398</td>\n",
       "      <td>35.502</td>\n",
       "      <td>31.02</td>\n",
       "      <td>6.288</td>\n",
       "      <td>46.429</td>\n",
       "      <td>34.205</td>\n",
       "      <td>37.141</td>\n",
       "      <td>3.196</td>\n",
       "      <td>332.20</td>\n",
       "      <td>12.224</td>\n",
       "      <td>33.699109</td>\n",
       "      <td>NoID</td>\n",
       "      <td>True</td>\n",
       "    </tr>\n",
       "  </tbody>\n",
       "</table>\n",
       "</div>"
      ],
      "text/plain": [
       "      Spp  MATCH RATIO      Fc     Sc    Dur    Fmax    Fmin      Fk     Tk  \\\n",
       "0  ANTPAL        0.258  32.032  84.83  3.601  43.750  31.157  35.004  2.090   \n",
       "1  ANTPAL        0.875  28.955  61.99  6.088  48.466  27.932  30.731  4.213   \n",
       "2  ANTPAL        0.714  29.955  68.58  2.948  39.362  29.800  31.430  1.990   \n",
       "3  ANTPAL        0.444  32.315  92.00  4.292  54.628  31.916  35.201  2.918   \n",
       "4  EPTFUS        0.398  35.502  31.02  6.288  46.429  34.205  37.141  3.196   \n",
       "\n",
       "       S1   BWDth      PkDur COMP ID  Result  \n",
       "0  326.50  12.593  35.545682    NoID   False  \n",
       "1  208.94  20.534  21.222076    NoID    True  \n",
       "2  297.09   9.562  30.800543    NoID    True  \n",
       "3  547.76  22.712  27.912395    NoID    True  \n",
       "4  332.20  12.224  33.699109    NoID    True  "
      ]
     },
     "execution_count": 156,
     "metadata": {},
     "output_type": "execute_result"
    }
   ],
   "source": [
    "three_spp_data.head()"
   ]
  },
  {
   "cell_type": "code",
   "execution_count": 157,
   "metadata": {},
   "outputs": [
    {
     "data": {
      "text/plain": [
       "NoID      2907\n",
       "TADBRA    1563\n",
       "MYOYUM     855\n",
       "PARHES     524\n",
       "Name: COMP ID, dtype: int64"
      ]
     },
     "execution_count": 157,
     "metadata": {},
     "output_type": "execute_result"
    }
   ],
   "source": [
    "three_spp_data['COMP ID'].value_counts()"
   ]
  },
  {
   "cell_type": "code",
   "execution_count": 197,
   "metadata": {},
   "outputs": [
    {
     "name": "stdout",
     "output_type": "stream",
     "text": [
      "[0.0, 0.1, 0.2, 0.3, 0.4, 0.5, 0.6, 0.7, 0.8, 0.9]\n",
      "[85.112168592794, 98.50393700787401, 98.68368568009573, 98.78207916485428, 98.96533885152613, 99.09443725743856, 99.21875, 99.48519948519949, 99.78947368421053, 100.0]\n"
     ]
    },
    {
     "name": "stderr",
     "output_type": "stream",
     "text": [
      "<ipython-input-197-184395e448bd>:6: UserWarning: Boolean Series key will be reindexed to match DataFrame index.\n",
      "  tempdf = three_spp_data[three_spp_data['COMP ID'] != 'NoID'][three_spp_data['MATCH RATIO'] >= i]\n",
      "<ipython-input-197-184395e448bd>:6: UserWarning: Boolean Series key will be reindexed to match DataFrame index.\n",
      "  tempdf = three_spp_data[three_spp_data['COMP ID'] != 'NoID'][three_spp_data['MATCH RATIO'] >= i]\n",
      "<ipython-input-197-184395e448bd>:6: UserWarning: Boolean Series key will be reindexed to match DataFrame index.\n",
      "  tempdf = three_spp_data[three_spp_data['COMP ID'] != 'NoID'][three_spp_data['MATCH RATIO'] >= i]\n",
      "<ipython-input-197-184395e448bd>:6: UserWarning: Boolean Series key will be reindexed to match DataFrame index.\n",
      "  tempdf = three_spp_data[three_spp_data['COMP ID'] != 'NoID'][three_spp_data['MATCH RATIO'] >= i]\n",
      "<ipython-input-197-184395e448bd>:6: UserWarning: Boolean Series key will be reindexed to match DataFrame index.\n",
      "  tempdf = three_spp_data[three_spp_data['COMP ID'] != 'NoID'][three_spp_data['MATCH RATIO'] >= i]\n",
      "<ipython-input-197-184395e448bd>:6: UserWarning: Boolean Series key will be reindexed to match DataFrame index.\n",
      "  tempdf = three_spp_data[three_spp_data['COMP ID'] != 'NoID'][three_spp_data['MATCH RATIO'] >= i]\n",
      "<ipython-input-197-184395e448bd>:6: UserWarning: Boolean Series key will be reindexed to match DataFrame index.\n",
      "  tempdf = three_spp_data[three_spp_data['COMP ID'] != 'NoID'][three_spp_data['MATCH RATIO'] >= i]\n",
      "<ipython-input-197-184395e448bd>:6: UserWarning: Boolean Series key will be reindexed to match DataFrame index.\n",
      "  tempdf = three_spp_data[three_spp_data['COMP ID'] != 'NoID'][three_spp_data['MATCH RATIO'] >= i]\n",
      "<ipython-input-197-184395e448bd>:6: UserWarning: Boolean Series key will be reindexed to match DataFrame index.\n",
      "  tempdf = three_spp_data[three_spp_data['COMP ID'] != 'NoID'][three_spp_data['MATCH RATIO'] >= i]\n",
      "<ipython-input-197-184395e448bd>:6: UserWarning: Boolean Series key will be reindexed to match DataFrame index.\n",
      "  tempdf = three_spp_data[three_spp_data['COMP ID'] != 'NoID'][three_spp_data['MATCH RATIO'] >= i]\n"
     ]
    }
   ],
   "source": [
    "#Accuracy of three most common species with NoID's removed.\n",
    "aa_r3 = []\n",
    "bb_r3 = []\n",
    "for i in [float(x/10) for x in range(10)]:\n",
    "    aa_r3.append(i)\n",
    "    tempdf = three_spp_data[three_spp_data['COMP ID'] != 'NoID'][three_spp_data['MATCH RATIO'] >= i]\n",
    "    #print(len(tempdf))\n",
    "    bb_r3.append(sum(tempdf['Result'] == True) / len(tempdf) * 100)\n",
    "print(aa_r3)\n",
    "print(bb_r3)"
   ]
  },
  {
   "cell_type": "code",
   "execution_count": 159,
   "metadata": {},
   "outputs": [
    {
     "data": {
      "text/html": [
       "<div>\n",
       "<style scoped>\n",
       "    .dataframe tbody tr th:only-of-type {\n",
       "        vertical-align: middle;\n",
       "    }\n",
       "\n",
       "    .dataframe tbody tr th {\n",
       "        vertical-align: top;\n",
       "    }\n",
       "\n",
       "    .dataframe thead th {\n",
       "        text-align: right;\n",
       "    }\n",
       "</style>\n",
       "<table border=\"1\" class=\"dataframe\">\n",
       "  <thead>\n",
       "    <tr style=\"text-align: right;\">\n",
       "      <th></th>\n",
       "      <th>Spp</th>\n",
       "      <th>MATCH RATIO</th>\n",
       "      <th>Fc</th>\n",
       "      <th>Sc</th>\n",
       "      <th>Dur</th>\n",
       "      <th>Fmax</th>\n",
       "      <th>Fmin</th>\n",
       "      <th>Fk</th>\n",
       "      <th>Tk</th>\n",
       "      <th>S1</th>\n",
       "      <th>BWDth</th>\n",
       "      <th>PkDur</th>\n",
       "      <th>COMP ID</th>\n",
       "      <th>Result</th>\n",
       "    </tr>\n",
       "  </thead>\n",
       "  <tbody>\n",
       "    <tr>\n",
       "      <th>0</th>\n",
       "      <td>ANTPAL</td>\n",
       "      <td>0.258</td>\n",
       "      <td>32.032</td>\n",
       "      <td>84.83</td>\n",
       "      <td>3.601</td>\n",
       "      <td>43.750</td>\n",
       "      <td>31.157</td>\n",
       "      <td>35.004</td>\n",
       "      <td>2.090</td>\n",
       "      <td>326.50</td>\n",
       "      <td>12.593</td>\n",
       "      <td>35.545682</td>\n",
       "      <td>NoID</td>\n",
       "      <td>False</td>\n",
       "    </tr>\n",
       "    <tr>\n",
       "      <th>1</th>\n",
       "      <td>ANTPAL</td>\n",
       "      <td>0.875</td>\n",
       "      <td>28.955</td>\n",
       "      <td>61.99</td>\n",
       "      <td>6.088</td>\n",
       "      <td>48.466</td>\n",
       "      <td>27.932</td>\n",
       "      <td>30.731</td>\n",
       "      <td>4.213</td>\n",
       "      <td>208.94</td>\n",
       "      <td>20.534</td>\n",
       "      <td>21.222076</td>\n",
       "      <td>ANTPAL</td>\n",
       "      <td>True</td>\n",
       "    </tr>\n",
       "    <tr>\n",
       "      <th>2</th>\n",
       "      <td>ANTPAL</td>\n",
       "      <td>0.714</td>\n",
       "      <td>29.955</td>\n",
       "      <td>68.58</td>\n",
       "      <td>2.948</td>\n",
       "      <td>39.362</td>\n",
       "      <td>29.800</td>\n",
       "      <td>31.430</td>\n",
       "      <td>1.990</td>\n",
       "      <td>297.09</td>\n",
       "      <td>9.562</td>\n",
       "      <td>30.800543</td>\n",
       "      <td>ANTPAL</td>\n",
       "      <td>True</td>\n",
       "    </tr>\n",
       "    <tr>\n",
       "      <th>3</th>\n",
       "      <td>ANTPAL</td>\n",
       "      <td>0.444</td>\n",
       "      <td>32.315</td>\n",
       "      <td>92.00</td>\n",
       "      <td>4.292</td>\n",
       "      <td>54.628</td>\n",
       "      <td>31.916</td>\n",
       "      <td>35.201</td>\n",
       "      <td>2.918</td>\n",
       "      <td>547.76</td>\n",
       "      <td>22.712</td>\n",
       "      <td>27.912395</td>\n",
       "      <td>ANTPAL</td>\n",
       "      <td>True</td>\n",
       "    </tr>\n",
       "    <tr>\n",
       "      <th>4</th>\n",
       "      <td>EPTFUS</td>\n",
       "      <td>0.398</td>\n",
       "      <td>35.502</td>\n",
       "      <td>31.02</td>\n",
       "      <td>6.288</td>\n",
       "      <td>46.429</td>\n",
       "      <td>34.205</td>\n",
       "      <td>37.141</td>\n",
       "      <td>3.196</td>\n",
       "      <td>332.20</td>\n",
       "      <td>12.224</td>\n",
       "      <td>33.699109</td>\n",
       "      <td>EPTFUS</td>\n",
       "      <td>True</td>\n",
       "    </tr>\n",
       "  </tbody>\n",
       "</table>\n",
       "</div>"
      ],
      "text/plain": [
       "      Spp  MATCH RATIO      Fc     Sc    Dur    Fmax    Fmin      Fk     Tk  \\\n",
       "0  ANTPAL        0.258  32.032  84.83  3.601  43.750  31.157  35.004  2.090   \n",
       "1  ANTPAL        0.875  28.955  61.99  6.088  48.466  27.932  30.731  4.213   \n",
       "2  ANTPAL        0.714  29.955  68.58  2.948  39.362  29.800  31.430  1.990   \n",
       "3  ANTPAL        0.444  32.315  92.00  4.292  54.628  31.916  35.201  2.918   \n",
       "4  EPTFUS        0.398  35.502  31.02  6.288  46.429  34.205  37.141  3.196   \n",
       "\n",
       "       S1   BWDth      PkDur COMP ID  Result  \n",
       "0  326.50  12.593  35.545682    NoID   False  \n",
       "1  208.94  20.534  21.222076  ANTPAL    True  \n",
       "2  297.09   9.562  30.800543  ANTPAL    True  \n",
       "3  547.76  22.712  27.912395  ANTPAL    True  \n",
       "4  332.20  12.224  33.699109  EPTFUS    True  "
      ]
     },
     "execution_count": 159,
     "metadata": {},
     "output_type": "execute_result"
    }
   ],
   "source": [
    "data.head()"
   ]
  },
  {
   "cell_type": "code",
   "execution_count": 160,
   "metadata": {},
   "outputs": [],
   "source": [
    "X_trainRF, X_testRF, y_trainRF, y_testRF = train_test_split(data.drop(columns='Spp'), \n",
    "                                                    data[['Spp']], \n",
    "                                                            test_size=0.3, random_state=42)"
   ]
  },
  {
   "cell_type": "markdown",
   "metadata": {},
   "source": [
    "## Final Random Forest Model"
   ]
  },
  {
   "cell_type": "code",
   "execution_count": 161,
   "metadata": {},
   "outputs": [],
   "source": [
    "rfc_model = RandomForestClassifier(n_estimators = 220, \n",
    "                                   max_depth = 11, \n",
    "                                   max_features = 'auto', \n",
    "                                   criterion = 'gini', \n",
    "                                   random_state = 42)"
   ]
  },
  {
   "cell_type": "code",
   "execution_count": 162,
   "metadata": {},
   "outputs": [],
   "source": [
    "rfc_model = rfc_model.fit(X_trainRF.drop(columns = ['MATCH RATIO', 'COMP ID', 'Result']), y_trainRF.Spp)"
   ]
  },
  {
   "cell_type": "markdown",
   "metadata": {},
   "source": [
    "### RF Test Data"
   ]
  },
  {
   "cell_type": "code",
   "execution_count": 163,
   "metadata": {},
   "outputs": [],
   "source": [
    "RF_model_pred = rfc_model.predict(X_testRF.drop(columns = ['MATCH RATIO', 'COMP ID', 'Result']))"
   ]
  },
  {
   "cell_type": "code",
   "execution_count": 164,
   "metadata": {},
   "outputs": [
    {
     "data": {
      "text/plain": [
       "0.6609686609686609"
      ]
     },
     "execution_count": 164,
     "metadata": {},
     "output_type": "execute_result"
    }
   ],
   "source": [
    "rfc_model.score(X_testRF.drop(columns = ['MATCH RATIO', 'COMP ID', 'Result']), y_testRF.Spp)"
   ]
  },
  {
   "cell_type": "code",
   "execution_count": 165,
   "metadata": {},
   "outputs": [
    {
     "data": {
      "text/plain": [
       "array(['MYOYUM', 'LASXAN', 'EPTFUS', 'TADBRA', 'NoID', 'LASNOC', 'MYOVOL',\n",
       "       'PARHES', 'LASCIN', 'MYOCAL', 'EUMUND', 'MYOTHY', 'LASBLO',\n",
       "       'EUMPER', 'NYCFEM', 'MYOOCC', 'MYOCIL', 'MYOVEL'], dtype=object)"
      ]
     },
     "execution_count": 165,
     "metadata": {},
     "output_type": "execute_result"
    }
   ],
   "source": [
    "y_testRF['Spp'].unique()"
   ]
  },
  {
   "cell_type": "code",
   "execution_count": 166,
   "metadata": {},
   "outputs": [
    {
     "ename": "ValueError",
     "evalue": "could not convert string to float: 'MYOYUM'",
     "output_type": "error",
     "traceback": [
      "\u001b[1;31m---------------------------------------------------------------------------\u001b[0m",
      "\u001b[1;31mValueError\u001b[0m                                Traceback (most recent call last)",
      "\u001b[1;32m<ipython-input-166-4cfefcf05836>\u001b[0m in \u001b[0;36m<module>\u001b[1;34m\u001b[0m\n\u001b[1;32m----> 1\u001b[1;33m \u001b[0mroc_auc_score\u001b[0m\u001b[1;33m(\u001b[0m\u001b[0my_testRF\u001b[0m\u001b[1;33m.\u001b[0m\u001b[0mSpp\u001b[0m\u001b[1;33m,\u001b[0m \u001b[0mRF_model_pred\u001b[0m\u001b[1;33m,\u001b[0m \u001b[0mmulti_class\u001b[0m\u001b[1;33m=\u001b[0m\u001b[1;34m'ovr'\u001b[0m\u001b[1;33m)\u001b[0m\u001b[1;33m\u001b[0m\u001b[1;33m\u001b[0m\u001b[0m\n\u001b[0m",
      "\u001b[1;32m~\\anaconda3\\lib\\site-packages\\sklearn\\utils\\validation.py\u001b[0m in \u001b[0;36minner_f\u001b[1;34m(*args, **kwargs)\u001b[0m\n\u001b[0;32m     71\u001b[0m                           FutureWarning)\n\u001b[0;32m     72\u001b[0m         \u001b[0mkwargs\u001b[0m\u001b[1;33m.\u001b[0m\u001b[0mupdate\u001b[0m\u001b[1;33m(\u001b[0m\u001b[1;33m{\u001b[0m\u001b[0mk\u001b[0m\u001b[1;33m:\u001b[0m \u001b[0marg\u001b[0m \u001b[1;32mfor\u001b[0m \u001b[0mk\u001b[0m\u001b[1;33m,\u001b[0m \u001b[0marg\u001b[0m \u001b[1;32min\u001b[0m \u001b[0mzip\u001b[0m\u001b[1;33m(\u001b[0m\u001b[0msig\u001b[0m\u001b[1;33m.\u001b[0m\u001b[0mparameters\u001b[0m\u001b[1;33m,\u001b[0m \u001b[0margs\u001b[0m\u001b[1;33m)\u001b[0m\u001b[1;33m}\u001b[0m\u001b[1;33m)\u001b[0m\u001b[1;33m\u001b[0m\u001b[1;33m\u001b[0m\u001b[0m\n\u001b[1;32m---> 73\u001b[1;33m         \u001b[1;32mreturn\u001b[0m \u001b[0mf\u001b[0m\u001b[1;33m(\u001b[0m\u001b[1;33m**\u001b[0m\u001b[0mkwargs\u001b[0m\u001b[1;33m)\u001b[0m\u001b[1;33m\u001b[0m\u001b[1;33m\u001b[0m\u001b[0m\n\u001b[0m\u001b[0;32m     74\u001b[0m     \u001b[1;32mreturn\u001b[0m \u001b[0minner_f\u001b[0m\u001b[1;33m\u001b[0m\u001b[1;33m\u001b[0m\u001b[0m\n\u001b[0;32m     75\u001b[0m \u001b[1;33m\u001b[0m\u001b[0m\n",
      "\u001b[1;32m~\\anaconda3\\lib\\site-packages\\sklearn\\metrics\\_ranking.py\u001b[0m in \u001b[0;36mroc_auc_score\u001b[1;34m(y_true, y_score, average, sample_weight, max_fpr, multi_class, labels)\u001b[0m\n\u001b[0;32m    370\u001b[0m     \u001b[0my_type\u001b[0m \u001b[1;33m=\u001b[0m \u001b[0mtype_of_target\u001b[0m\u001b[1;33m(\u001b[0m\u001b[0my_true\u001b[0m\u001b[1;33m)\u001b[0m\u001b[1;33m\u001b[0m\u001b[1;33m\u001b[0m\u001b[0m\n\u001b[0;32m    371\u001b[0m     \u001b[0my_true\u001b[0m \u001b[1;33m=\u001b[0m \u001b[0mcheck_array\u001b[0m\u001b[1;33m(\u001b[0m\u001b[0my_true\u001b[0m\u001b[1;33m,\u001b[0m \u001b[0mensure_2d\u001b[0m\u001b[1;33m=\u001b[0m\u001b[1;32mFalse\u001b[0m\u001b[1;33m,\u001b[0m \u001b[0mdtype\u001b[0m\u001b[1;33m=\u001b[0m\u001b[1;32mNone\u001b[0m\u001b[1;33m)\u001b[0m\u001b[1;33m\u001b[0m\u001b[1;33m\u001b[0m\u001b[0m\n\u001b[1;32m--> 372\u001b[1;33m     \u001b[0my_score\u001b[0m \u001b[1;33m=\u001b[0m \u001b[0mcheck_array\u001b[0m\u001b[1;33m(\u001b[0m\u001b[0my_score\u001b[0m\u001b[1;33m,\u001b[0m \u001b[0mensure_2d\u001b[0m\u001b[1;33m=\u001b[0m\u001b[1;32mFalse\u001b[0m\u001b[1;33m)\u001b[0m\u001b[1;33m\u001b[0m\u001b[1;33m\u001b[0m\u001b[0m\n\u001b[0m\u001b[0;32m    373\u001b[0m \u001b[1;33m\u001b[0m\u001b[0m\n\u001b[0;32m    374\u001b[0m     if y_type == \"multiclass\" or (y_type == \"binary\" and\n",
      "\u001b[1;32m~\\anaconda3\\lib\\site-packages\\sklearn\\utils\\validation.py\u001b[0m in \u001b[0;36minner_f\u001b[1;34m(*args, **kwargs)\u001b[0m\n\u001b[0;32m     71\u001b[0m                           FutureWarning)\n\u001b[0;32m     72\u001b[0m         \u001b[0mkwargs\u001b[0m\u001b[1;33m.\u001b[0m\u001b[0mupdate\u001b[0m\u001b[1;33m(\u001b[0m\u001b[1;33m{\u001b[0m\u001b[0mk\u001b[0m\u001b[1;33m:\u001b[0m \u001b[0marg\u001b[0m \u001b[1;32mfor\u001b[0m \u001b[0mk\u001b[0m\u001b[1;33m,\u001b[0m \u001b[0marg\u001b[0m \u001b[1;32min\u001b[0m \u001b[0mzip\u001b[0m\u001b[1;33m(\u001b[0m\u001b[0msig\u001b[0m\u001b[1;33m.\u001b[0m\u001b[0mparameters\u001b[0m\u001b[1;33m,\u001b[0m \u001b[0margs\u001b[0m\u001b[1;33m)\u001b[0m\u001b[1;33m}\u001b[0m\u001b[1;33m)\u001b[0m\u001b[1;33m\u001b[0m\u001b[1;33m\u001b[0m\u001b[0m\n\u001b[1;32m---> 73\u001b[1;33m         \u001b[1;32mreturn\u001b[0m \u001b[0mf\u001b[0m\u001b[1;33m(\u001b[0m\u001b[1;33m**\u001b[0m\u001b[0mkwargs\u001b[0m\u001b[1;33m)\u001b[0m\u001b[1;33m\u001b[0m\u001b[1;33m\u001b[0m\u001b[0m\n\u001b[0m\u001b[0;32m     74\u001b[0m     \u001b[1;32mreturn\u001b[0m \u001b[0minner_f\u001b[0m\u001b[1;33m\u001b[0m\u001b[1;33m\u001b[0m\u001b[0m\n\u001b[0;32m     75\u001b[0m \u001b[1;33m\u001b[0m\u001b[0m\n",
      "\u001b[1;32m~\\anaconda3\\lib\\site-packages\\sklearn\\utils\\validation.py\u001b[0m in \u001b[0;36mcheck_array\u001b[1;34m(array, accept_sparse, accept_large_sparse, dtype, order, copy, force_all_finite, ensure_2d, allow_nd, ensure_min_samples, ensure_min_features, estimator)\u001b[0m\n\u001b[0;32m    597\u001b[0m                     \u001b[0marray\u001b[0m \u001b[1;33m=\u001b[0m \u001b[0marray\u001b[0m\u001b[1;33m.\u001b[0m\u001b[0mastype\u001b[0m\u001b[1;33m(\u001b[0m\u001b[0mdtype\u001b[0m\u001b[1;33m,\u001b[0m \u001b[0mcasting\u001b[0m\u001b[1;33m=\u001b[0m\u001b[1;34m\"unsafe\"\u001b[0m\u001b[1;33m,\u001b[0m \u001b[0mcopy\u001b[0m\u001b[1;33m=\u001b[0m\u001b[1;32mFalse\u001b[0m\u001b[1;33m)\u001b[0m\u001b[1;33m\u001b[0m\u001b[1;33m\u001b[0m\u001b[0m\n\u001b[0;32m    598\u001b[0m                 \u001b[1;32melse\u001b[0m\u001b[1;33m:\u001b[0m\u001b[1;33m\u001b[0m\u001b[1;33m\u001b[0m\u001b[0m\n\u001b[1;32m--> 599\u001b[1;33m                     \u001b[0marray\u001b[0m \u001b[1;33m=\u001b[0m \u001b[0mnp\u001b[0m\u001b[1;33m.\u001b[0m\u001b[0masarray\u001b[0m\u001b[1;33m(\u001b[0m\u001b[0marray\u001b[0m\u001b[1;33m,\u001b[0m \u001b[0morder\u001b[0m\u001b[1;33m=\u001b[0m\u001b[0morder\u001b[0m\u001b[1;33m,\u001b[0m \u001b[0mdtype\u001b[0m\u001b[1;33m=\u001b[0m\u001b[0mdtype\u001b[0m\u001b[1;33m)\u001b[0m\u001b[1;33m\u001b[0m\u001b[1;33m\u001b[0m\u001b[0m\n\u001b[0m\u001b[0;32m    600\u001b[0m             \u001b[1;32mexcept\u001b[0m \u001b[0mComplexWarning\u001b[0m\u001b[1;33m:\u001b[0m\u001b[1;33m\u001b[0m\u001b[1;33m\u001b[0m\u001b[0m\n\u001b[0;32m    601\u001b[0m                 raise ValueError(\"Complex data not supported\\n\"\n",
      "\u001b[1;32m~\\anaconda3\\lib\\site-packages\\numpy\\core\\_asarray.py\u001b[0m in \u001b[0;36masarray\u001b[1;34m(a, dtype, order)\u001b[0m\n\u001b[0;32m     83\u001b[0m \u001b[1;33m\u001b[0m\u001b[0m\n\u001b[0;32m     84\u001b[0m     \"\"\"\n\u001b[1;32m---> 85\u001b[1;33m     \u001b[1;32mreturn\u001b[0m \u001b[0marray\u001b[0m\u001b[1;33m(\u001b[0m\u001b[0ma\u001b[0m\u001b[1;33m,\u001b[0m \u001b[0mdtype\u001b[0m\u001b[1;33m,\u001b[0m \u001b[0mcopy\u001b[0m\u001b[1;33m=\u001b[0m\u001b[1;32mFalse\u001b[0m\u001b[1;33m,\u001b[0m \u001b[0morder\u001b[0m\u001b[1;33m=\u001b[0m\u001b[0morder\u001b[0m\u001b[1;33m)\u001b[0m\u001b[1;33m\u001b[0m\u001b[1;33m\u001b[0m\u001b[0m\n\u001b[0m\u001b[0;32m     86\u001b[0m \u001b[1;33m\u001b[0m\u001b[0m\n\u001b[0;32m     87\u001b[0m \u001b[1;33m\u001b[0m\u001b[0m\n",
      "\u001b[1;31mValueError\u001b[0m: could not convert string to float: 'MYOYUM'"
     ]
    }
   ],
   "source": [
    "roc_auc_score(y_testRF.Spp, RF_model_pred, multi_class='ovr')"
   ]
  },
  {
   "cell_type": "markdown",
   "metadata": {},
   "source": [
    "#### Model Test Data All Species "
   ]
  },
  {
   "cell_type": "code",
   "execution_count": 167,
   "metadata": {},
   "outputs": [],
   "source": [
    "test_df = X_testRF.copy()"
   ]
  },
  {
   "cell_type": "code",
   "execution_count": 168,
   "metadata": {},
   "outputs": [],
   "source": [
    "test_df['Spp'] = y_testRF.Spp"
   ]
  },
  {
   "cell_type": "code",
   "execution_count": 169,
   "metadata": {},
   "outputs": [],
   "source": [
    "test_df['Prediction'] = RF_model_pred"
   ]
  },
  {
   "cell_type": "code",
   "execution_count": 170,
   "metadata": {},
   "outputs": [],
   "source": [
    "test_df['Pred_Result'] = test_df.Spp == test_df.Prediction"
   ]
  },
  {
   "cell_type": "code",
   "execution_count": 171,
   "metadata": {},
   "outputs": [
    {
     "data": {
      "text/html": [
       "<div>\n",
       "<style scoped>\n",
       "    .dataframe tbody tr th:only-of-type {\n",
       "        vertical-align: middle;\n",
       "    }\n",
       "\n",
       "    .dataframe tbody tr th {\n",
       "        vertical-align: top;\n",
       "    }\n",
       "\n",
       "    .dataframe thead th {\n",
       "        text-align: right;\n",
       "    }\n",
       "</style>\n",
       "<table border=\"1\" class=\"dataframe\">\n",
       "  <thead>\n",
       "    <tr style=\"text-align: right;\">\n",
       "      <th></th>\n",
       "      <th>MATCH RATIO</th>\n",
       "      <th>Fc</th>\n",
       "      <th>Sc</th>\n",
       "      <th>Dur</th>\n",
       "      <th>Fmax</th>\n",
       "      <th>Fmin</th>\n",
       "      <th>Fk</th>\n",
       "      <th>Tk</th>\n",
       "      <th>S1</th>\n",
       "      <th>BWDth</th>\n",
       "      <th>PkDur</th>\n",
       "      <th>COMP ID</th>\n",
       "      <th>Result</th>\n",
       "      <th>Spp</th>\n",
       "      <th>Prediction</th>\n",
       "      <th>Pred_Result</th>\n",
       "    </tr>\n",
       "  </thead>\n",
       "  <tbody>\n",
       "    <tr>\n",
       "      <th>1335</th>\n",
       "      <td>0.635</td>\n",
       "      <td>49.302</td>\n",
       "      <td>76.25</td>\n",
       "      <td>2.749</td>\n",
       "      <td>58.018</td>\n",
       "      <td>47.115</td>\n",
       "      <td>54.052</td>\n",
       "      <td>0.658</td>\n",
       "      <td>266.42</td>\n",
       "      <td>10.903</td>\n",
       "      <td>60.240087</td>\n",
       "      <td>MYOYUM</td>\n",
       "      <td>True</td>\n",
       "      <td>MYOYUM</td>\n",
       "      <td>MYOYUM</td>\n",
       "      <td>True</td>\n",
       "    </tr>\n",
       "    <tr>\n",
       "      <th>807</th>\n",
       "      <td>0.549</td>\n",
       "      <td>31.403</td>\n",
       "      <td>22.62</td>\n",
       "      <td>8.043</td>\n",
       "      <td>38.994</td>\n",
       "      <td>30.118</td>\n",
       "      <td>32.990</td>\n",
       "      <td>3.461</td>\n",
       "      <td>171.84</td>\n",
       "      <td>8.876</td>\n",
       "      <td>38.356335</td>\n",
       "      <td>NoID</td>\n",
       "      <td>False</td>\n",
       "      <td>LASXAN</td>\n",
       "      <td>NoID</td>\n",
       "      <td>False</td>\n",
       "    </tr>\n",
       "    <tr>\n",
       "      <th>1197</th>\n",
       "      <td>0.624</td>\n",
       "      <td>52.841</td>\n",
       "      <td>60.20</td>\n",
       "      <td>3.157</td>\n",
       "      <td>69.571</td>\n",
       "      <td>49.308</td>\n",
       "      <td>56.320</td>\n",
       "      <td>1.408</td>\n",
       "      <td>234.22</td>\n",
       "      <td>20.263</td>\n",
       "      <td>34.969908</td>\n",
       "      <td>MYOYUM</td>\n",
       "      <td>True</td>\n",
       "      <td>MYOYUM</td>\n",
       "      <td>MYOYUM</td>\n",
       "      <td>True</td>\n",
       "    </tr>\n",
       "    <tr>\n",
       "      <th>23</th>\n",
       "      <td>0.216</td>\n",
       "      <td>28.506</td>\n",
       "      <td>51.50</td>\n",
       "      <td>8.462</td>\n",
       "      <td>41.341</td>\n",
       "      <td>26.056</td>\n",
       "      <td>30.510</td>\n",
       "      <td>4.574</td>\n",
       "      <td>201.43</td>\n",
       "      <td>15.285</td>\n",
       "      <td>28.716615</td>\n",
       "      <td>TADBRA</td>\n",
       "      <td>False</td>\n",
       "      <td>EPTFUS</td>\n",
       "      <td>NoID</td>\n",
       "      <td>False</td>\n",
       "    </tr>\n",
       "    <tr>\n",
       "      <th>4195</th>\n",
       "      <td>0.455</td>\n",
       "      <td>28.871</td>\n",
       "      <td>18.25</td>\n",
       "      <td>8.871</td>\n",
       "      <td>34.559</td>\n",
       "      <td>27.935</td>\n",
       "      <td>29.777</td>\n",
       "      <td>4.868</td>\n",
       "      <td>73.47</td>\n",
       "      <td>6.624</td>\n",
       "      <td>26.738812</td>\n",
       "      <td>TADBRA</td>\n",
       "      <td>True</td>\n",
       "      <td>TADBRA</td>\n",
       "      <td>TADBRA</td>\n",
       "      <td>True</td>\n",
       "    </tr>\n",
       "  </tbody>\n",
       "</table>\n",
       "</div>"
      ],
      "text/plain": [
       "      MATCH RATIO      Fc     Sc    Dur    Fmax    Fmin      Fk     Tk  \\\n",
       "1335        0.635  49.302  76.25  2.749  58.018  47.115  54.052  0.658   \n",
       "807         0.549  31.403  22.62  8.043  38.994  30.118  32.990  3.461   \n",
       "1197        0.624  52.841  60.20  3.157  69.571  49.308  56.320  1.408   \n",
       "23          0.216  28.506  51.50  8.462  41.341  26.056  30.510  4.574   \n",
       "4195        0.455  28.871  18.25  8.871  34.559  27.935  29.777  4.868   \n",
       "\n",
       "          S1   BWDth      PkDur COMP ID  Result     Spp Prediction  \\\n",
       "1335  266.42  10.903  60.240087  MYOYUM    True  MYOYUM     MYOYUM   \n",
       "807   171.84   8.876  38.356335    NoID   False  LASXAN       NoID   \n",
       "1197  234.22  20.263  34.969908  MYOYUM    True  MYOYUM     MYOYUM   \n",
       "23    201.43  15.285  28.716615  TADBRA   False  EPTFUS       NoID   \n",
       "4195   73.47   6.624  26.738812  TADBRA    True  TADBRA     TADBRA   \n",
       "\n",
       "      Pred_Result  \n",
       "1335         True  \n",
       "807         False  \n",
       "1197         True  \n",
       "23          False  \n",
       "4195         True  "
      ]
     },
     "execution_count": 171,
     "metadata": {},
     "output_type": "execute_result"
    }
   ],
   "source": [
    "test_df.head()"
   ]
  },
  {
   "cell_type": "code",
   "execution_count": 174,
   "metadata": {},
   "outputs": [
    {
     "data": {
      "text/plain": [
       "TADBRA    768\n",
       "NoID      413\n",
       "MYOYUM    248\n",
       "PARHES    169\n",
       "LASCIN     53\n",
       "LASXAN     32\n",
       "LASNOC     23\n",
       "MYOCAL     16\n",
       "EPTFUS     13\n",
       "EUMPER      8\n",
       "EUMUND      5\n",
       "MYOTHY      3\n",
       "LASBLO      2\n",
       "MYOCIL      1\n",
       "NYCFEM      1\n",
       "Name: Prediction, dtype: int64"
      ]
     },
     "execution_count": 174,
     "metadata": {},
     "output_type": "execute_result"
    }
   ],
   "source": [
    "test_df['Prediction'].value_counts()"
   ]
  },
  {
   "cell_type": "code",
   "execution_count": 175,
   "metadata": {},
   "outputs": [
    {
     "data": {
      "text/plain": [
       "(1755, 16)"
      ]
     },
     "execution_count": 175,
     "metadata": {},
     "output_type": "execute_result"
    }
   ],
   "source": [
    "test_df.shape"
   ]
  },
  {
   "cell_type": "code",
   "execution_count": 180,
   "metadata": {},
   "outputs": [
    {
     "name": "stdout",
     "output_type": "stream",
     "text": [
      "[0.0, 0.1, 0.2, 0.3, 0.4, 0.5, 0.6, 0.7, 0.8, 0.9]\n",
      "[66.0968660968661, 73.80015735641227, 74.95948136142626, 75.81521739130434, 75.72706935123043, 77.17546362339515, 80.47808764940238, 80.23255813953489, 80.6930693069307, 83.33333333333334]\n"
     ]
    }
   ],
   "source": [
    "test_x = []\n",
    "test_y = []\n",
    "for i in [float(x/10) for x in range(10)]:\n",
    "    test_x.append(i)\n",
    "    tempdf = test_df[test_df['MATCH RATIO'] >= i]\n",
    "    test_y.append(sum(tempdf['Pred_Result'] == True) / len(tempdf) * 100)\n",
    "print(test_x)\n",
    "print(test_y)"
   ]
  },
  {
   "cell_type": "markdown",
   "metadata": {},
   "source": [
    "#### Model Test Data All Species and NoID Removed"
   ]
  },
  {
   "cell_type": "code",
   "execution_count": 192,
   "metadata": {},
   "outputs": [
    {
     "name": "stdout",
     "output_type": "stream",
     "text": [
      "[0.0, 0.1, 0.2, 0.3, 0.4, 0.5, 0.6, 0.7, 0.8, 0.9]\n",
      "[81.17782909930716, 88.29787234042553, 88.7248322147651, 89.40493468795356, 90.26086956521739, 92.11087420042644, 94.30199430199431, 95.37815126050421, 94.20289855072464, 97.01492537313433]\n"
     ]
    },
    {
     "name": "stderr",
     "output_type": "stream",
     "text": [
      "<ipython-input-192-136eaa243c1b>:5: UserWarning: Boolean Series key will be reindexed to match DataFrame index.\n",
      "  tempdf = test_df[test_df['Prediction'] != 'NoID'][test_df['MATCH RATIO'] >= i]\n",
      "<ipython-input-192-136eaa243c1b>:5: UserWarning: Boolean Series key will be reindexed to match DataFrame index.\n",
      "  tempdf = test_df[test_df['Prediction'] != 'NoID'][test_df['MATCH RATIO'] >= i]\n",
      "<ipython-input-192-136eaa243c1b>:5: UserWarning: Boolean Series key will be reindexed to match DataFrame index.\n",
      "  tempdf = test_df[test_df['Prediction'] != 'NoID'][test_df['MATCH RATIO'] >= i]\n",
      "<ipython-input-192-136eaa243c1b>:5: UserWarning: Boolean Series key will be reindexed to match DataFrame index.\n",
      "  tempdf = test_df[test_df['Prediction'] != 'NoID'][test_df['MATCH RATIO'] >= i]\n",
      "<ipython-input-192-136eaa243c1b>:5: UserWarning: Boolean Series key will be reindexed to match DataFrame index.\n",
      "  tempdf = test_df[test_df['Prediction'] != 'NoID'][test_df['MATCH RATIO'] >= i]\n",
      "<ipython-input-192-136eaa243c1b>:5: UserWarning: Boolean Series key will be reindexed to match DataFrame index.\n",
      "  tempdf = test_df[test_df['Prediction'] != 'NoID'][test_df['MATCH RATIO'] >= i]\n",
      "<ipython-input-192-136eaa243c1b>:5: UserWarning: Boolean Series key will be reindexed to match DataFrame index.\n",
      "  tempdf = test_df[test_df['Prediction'] != 'NoID'][test_df['MATCH RATIO'] >= i]\n",
      "<ipython-input-192-136eaa243c1b>:5: UserWarning: Boolean Series key will be reindexed to match DataFrame index.\n",
      "  tempdf = test_df[test_df['Prediction'] != 'NoID'][test_df['MATCH RATIO'] >= i]\n",
      "<ipython-input-192-136eaa243c1b>:5: UserWarning: Boolean Series key will be reindexed to match DataFrame index.\n",
      "  tempdf = test_df[test_df['Prediction'] != 'NoID'][test_df['MATCH RATIO'] >= i]\n",
      "<ipython-input-192-136eaa243c1b>:5: UserWarning: Boolean Series key will be reindexed to match DataFrame index.\n",
      "  tempdf = test_df[test_df['Prediction'] != 'NoID'][test_df['MATCH RATIO'] >= i]\n"
     ]
    }
   ],
   "source": [
    "test_x_r = []\n",
    "test_y_r = []\n",
    "for i in [float(x/10) for x in range(10)]:\n",
    "    test_x_r.append(i)\n",
    "    tempdf = test_df[test_df['Prediction'] != 'NoID'][test_df['MATCH RATIO'] >= i]\n",
    "    test_y_r.append(sum(tempdf['Pred_Result'] == True) / len(tempdf) * 100)\n",
    "print(test_x_r)\n",
    "print(test_y_r)"
   ]
  },
  {
   "cell_type": "markdown",
   "metadata": {},
   "source": [
    "#### Model Test Data Three Species and NoID Removed"
   ]
  },
  {
   "cell_type": "code",
   "execution_count": 183,
   "metadata": {},
   "outputs": [],
   "source": [
    "three_spp_test = test_df['COMP ID'].replace(to_replace = ['ANTPAL', 'EPTFUS', 'LASCIN', 'LASNOC', 'EUMPER', 'EUMUND', \n",
    "                                      'NYCFEM', 'LASBLO', 'MYOCIL', 'MYOCAL', 'LASXAN', 'MYOEVO', \n",
    "                                      'MYOOCC', 'MYOTHY', 'MYOVOL', 'NYCMAC', 'MYOVEL'], value = 'NoID')"
   ]
  },
  {
   "cell_type": "code",
   "execution_count": 184,
   "metadata": {},
   "outputs": [
    {
     "data": {
      "text/plain": [
       "NoID      889\n",
       "TADBRA    430\n",
       "MYOYUM    269\n",
       "PARHES    167\n",
       "Name: COMP ID, dtype: int64"
      ]
     },
     "execution_count": 184,
     "metadata": {},
     "output_type": "execute_result"
    }
   ],
   "source": [
    "three_spp_test.value_counts()"
   ]
  },
  {
   "cell_type": "code",
   "execution_count": 189,
   "metadata": {},
   "outputs": [],
   "source": [
    "test_df['Prediction'] = three_spp_test"
   ]
  },
  {
   "cell_type": "code",
   "execution_count": 190,
   "metadata": {},
   "outputs": [
    {
     "data": {
      "text/plain": [
       "NoID      889\n",
       "TADBRA    430\n",
       "MYOYUM    269\n",
       "PARHES    167\n",
       "Name: Prediction, dtype: int64"
      ]
     },
     "execution_count": 190,
     "metadata": {},
     "output_type": "execute_result"
    }
   ],
   "source": [
    "test_df['Prediction'].value_counts()"
   ]
  },
  {
   "cell_type": "code",
   "execution_count": 193,
   "metadata": {},
   "outputs": [
    {
     "name": "stdout",
     "output_type": "stream",
     "text": [
      "[0.0, 0.1, 0.2, 0.3, 0.4, 0.5, 0.6, 0.7, 0.8, 0.9]\n",
      "[81.17782909930716, 88.29787234042553, 88.7248322147651, 89.40493468795356, 90.26086956521739, 92.11087420042644, 94.30199430199431, 95.37815126050421, 94.20289855072464, 97.01492537313433]\n"
     ]
    },
    {
     "name": "stderr",
     "output_type": "stream",
     "text": [
      "<ipython-input-193-7f91cb8c75a9>:5: UserWarning: Boolean Series key will be reindexed to match DataFrame index.\n",
      "  tempdf = test_df[test_df['Prediction'] != 'NoID'][test_df['MATCH RATIO'] >= i]\n",
      "<ipython-input-193-7f91cb8c75a9>:5: UserWarning: Boolean Series key will be reindexed to match DataFrame index.\n",
      "  tempdf = test_df[test_df['Prediction'] != 'NoID'][test_df['MATCH RATIO'] >= i]\n",
      "<ipython-input-193-7f91cb8c75a9>:5: UserWarning: Boolean Series key will be reindexed to match DataFrame index.\n",
      "  tempdf = test_df[test_df['Prediction'] != 'NoID'][test_df['MATCH RATIO'] >= i]\n",
      "<ipython-input-193-7f91cb8c75a9>:5: UserWarning: Boolean Series key will be reindexed to match DataFrame index.\n",
      "  tempdf = test_df[test_df['Prediction'] != 'NoID'][test_df['MATCH RATIO'] >= i]\n",
      "<ipython-input-193-7f91cb8c75a9>:5: UserWarning: Boolean Series key will be reindexed to match DataFrame index.\n",
      "  tempdf = test_df[test_df['Prediction'] != 'NoID'][test_df['MATCH RATIO'] >= i]\n",
      "<ipython-input-193-7f91cb8c75a9>:5: UserWarning: Boolean Series key will be reindexed to match DataFrame index.\n",
      "  tempdf = test_df[test_df['Prediction'] != 'NoID'][test_df['MATCH RATIO'] >= i]\n",
      "<ipython-input-193-7f91cb8c75a9>:5: UserWarning: Boolean Series key will be reindexed to match DataFrame index.\n",
      "  tempdf = test_df[test_df['Prediction'] != 'NoID'][test_df['MATCH RATIO'] >= i]\n",
      "<ipython-input-193-7f91cb8c75a9>:5: UserWarning: Boolean Series key will be reindexed to match DataFrame index.\n",
      "  tempdf = test_df[test_df['Prediction'] != 'NoID'][test_df['MATCH RATIO'] >= i]\n",
      "<ipython-input-193-7f91cb8c75a9>:5: UserWarning: Boolean Series key will be reindexed to match DataFrame index.\n",
      "  tempdf = test_df[test_df['Prediction'] != 'NoID'][test_df['MATCH RATIO'] >= i]\n",
      "<ipython-input-193-7f91cb8c75a9>:5: UserWarning: Boolean Series key will be reindexed to match DataFrame index.\n",
      "  tempdf = test_df[test_df['Prediction'] != 'NoID'][test_df['MATCH RATIO'] >= i]\n"
     ]
    }
   ],
   "source": [
    "test_x_r3 = []\n",
    "test_y_r3 = []\n",
    "for i in [float(x/10) for x in range(10)]:\n",
    "    test_x_r3.append(i)\n",
    "    tempdf = test_df[test_df['Prediction'] != 'NoID'][test_df['MATCH RATIO'] >= i]\n",
    "    test_y_r3.append(sum(tempdf['Pred_Result'] == True) / len(tempdf) * 100)\n",
    "print(test_x_r3)\n",
    "print(test_y_r3)"
   ]
  },
  {
   "cell_type": "code",
   "execution_count": null,
   "metadata": {},
   "outputs": [],
   "source": []
  },
  {
   "cell_type": "markdown",
   "metadata": {},
   "source": [
    "### RF All Data"
   ]
  },
  {
   "cell_type": "code",
   "execution_count": 199,
   "metadata": {},
   "outputs": [],
   "source": [
    "model_pred = rfc_model.predict(data.drop(columns = ['Spp', 'MATCH RATIO', 'COMP ID', 'Result']))"
   ]
  },
  {
   "cell_type": "code",
   "execution_count": 200,
   "metadata": {},
   "outputs": [],
   "source": [
    "data['Prediction'] = model_pred"
   ]
  },
  {
   "cell_type": "code",
   "execution_count": 201,
   "metadata": {},
   "outputs": [],
   "source": [
    "data['Pred_Result'] = data.Spp == data.Prediction"
   ]
  },
  {
   "cell_type": "code",
   "execution_count": 202,
   "metadata": {},
   "outputs": [
    {
     "data": {
      "text/plain": [
       "(5849, 16)"
      ]
     },
     "execution_count": 202,
     "metadata": {},
     "output_type": "execute_result"
    }
   ],
   "source": [
    "data.shape"
   ]
  },
  {
   "cell_type": "code",
   "execution_count": 205,
   "metadata": {},
   "outputs": [
    {
     "data": {
      "text/html": [
       "<div>\n",
       "<style scoped>\n",
       "    .dataframe tbody tr th:only-of-type {\n",
       "        vertical-align: middle;\n",
       "    }\n",
       "\n",
       "    .dataframe tbody tr th {\n",
       "        vertical-align: top;\n",
       "    }\n",
       "\n",
       "    .dataframe thead th {\n",
       "        text-align: right;\n",
       "    }\n",
       "</style>\n",
       "<table border=\"1\" class=\"dataframe\">\n",
       "  <thead>\n",
       "    <tr style=\"text-align: right;\">\n",
       "      <th></th>\n",
       "      <th>Spp</th>\n",
       "      <th>MATCH RATIO</th>\n",
       "      <th>Fc</th>\n",
       "      <th>Sc</th>\n",
       "      <th>Dur</th>\n",
       "      <th>Fmax</th>\n",
       "      <th>Fmin</th>\n",
       "      <th>Fk</th>\n",
       "      <th>Tk</th>\n",
       "      <th>S1</th>\n",
       "      <th>BWDth</th>\n",
       "      <th>PkDur</th>\n",
       "      <th>COMP ID</th>\n",
       "      <th>Result</th>\n",
       "      <th>Prediction</th>\n",
       "      <th>Pred_Result</th>\n",
       "    </tr>\n",
       "  </thead>\n",
       "  <tbody>\n",
       "    <tr>\n",
       "      <th>0</th>\n",
       "      <td>ANTPAL</td>\n",
       "      <td>0.258</td>\n",
       "      <td>32.032</td>\n",
       "      <td>84.83</td>\n",
       "      <td>3.601</td>\n",
       "      <td>43.750</td>\n",
       "      <td>31.157</td>\n",
       "      <td>35.004</td>\n",
       "      <td>2.090</td>\n",
       "      <td>326.50</td>\n",
       "      <td>12.593</td>\n",
       "      <td>35.545682</td>\n",
       "      <td>NoID</td>\n",
       "      <td>False</td>\n",
       "      <td>ANTPAL</td>\n",
       "      <td>True</td>\n",
       "    </tr>\n",
       "    <tr>\n",
       "      <th>1</th>\n",
       "      <td>ANTPAL</td>\n",
       "      <td>0.875</td>\n",
       "      <td>28.955</td>\n",
       "      <td>61.99</td>\n",
       "      <td>6.088</td>\n",
       "      <td>48.466</td>\n",
       "      <td>27.932</td>\n",
       "      <td>30.731</td>\n",
       "      <td>4.213</td>\n",
       "      <td>208.94</td>\n",
       "      <td>20.534</td>\n",
       "      <td>21.222076</td>\n",
       "      <td>ANTPAL</td>\n",
       "      <td>True</td>\n",
       "      <td>ANTPAL</td>\n",
       "      <td>True</td>\n",
       "    </tr>\n",
       "    <tr>\n",
       "      <th>2</th>\n",
       "      <td>ANTPAL</td>\n",
       "      <td>0.714</td>\n",
       "      <td>29.955</td>\n",
       "      <td>68.58</td>\n",
       "      <td>2.948</td>\n",
       "      <td>39.362</td>\n",
       "      <td>29.800</td>\n",
       "      <td>31.430</td>\n",
       "      <td>1.990</td>\n",
       "      <td>297.09</td>\n",
       "      <td>9.562</td>\n",
       "      <td>30.800543</td>\n",
       "      <td>ANTPAL</td>\n",
       "      <td>True</td>\n",
       "      <td>ANTPAL</td>\n",
       "      <td>True</td>\n",
       "    </tr>\n",
       "    <tr>\n",
       "      <th>3</th>\n",
       "      <td>ANTPAL</td>\n",
       "      <td>0.444</td>\n",
       "      <td>32.315</td>\n",
       "      <td>92.00</td>\n",
       "      <td>4.292</td>\n",
       "      <td>54.628</td>\n",
       "      <td>31.916</td>\n",
       "      <td>35.201</td>\n",
       "      <td>2.918</td>\n",
       "      <td>547.76</td>\n",
       "      <td>22.712</td>\n",
       "      <td>27.912395</td>\n",
       "      <td>ANTPAL</td>\n",
       "      <td>True</td>\n",
       "      <td>ANTPAL</td>\n",
       "      <td>True</td>\n",
       "    </tr>\n",
       "    <tr>\n",
       "      <th>4</th>\n",
       "      <td>EPTFUS</td>\n",
       "      <td>0.398</td>\n",
       "      <td>35.502</td>\n",
       "      <td>31.02</td>\n",
       "      <td>6.288</td>\n",
       "      <td>46.429</td>\n",
       "      <td>34.205</td>\n",
       "      <td>37.141</td>\n",
       "      <td>3.196</td>\n",
       "      <td>332.20</td>\n",
       "      <td>12.224</td>\n",
       "      <td>33.699109</td>\n",
       "      <td>EPTFUS</td>\n",
       "      <td>True</td>\n",
       "      <td>EPTFUS</td>\n",
       "      <td>True</td>\n",
       "    </tr>\n",
       "  </tbody>\n",
       "</table>\n",
       "</div>"
      ],
      "text/plain": [
       "      Spp  MATCH RATIO      Fc     Sc    Dur    Fmax    Fmin      Fk     Tk  \\\n",
       "0  ANTPAL        0.258  32.032  84.83  3.601  43.750  31.157  35.004  2.090   \n",
       "1  ANTPAL        0.875  28.955  61.99  6.088  48.466  27.932  30.731  4.213   \n",
       "2  ANTPAL        0.714  29.955  68.58  2.948  39.362  29.800  31.430  1.990   \n",
       "3  ANTPAL        0.444  32.315  92.00  4.292  54.628  31.916  35.201  2.918   \n",
       "4  EPTFUS        0.398  35.502  31.02  6.288  46.429  34.205  37.141  3.196   \n",
       "\n",
       "       S1   BWDth      PkDur COMP ID  Result Prediction  Pred_Result  \n",
       "0  326.50  12.593  35.545682    NoID   False     ANTPAL         True  \n",
       "1  208.94  20.534  21.222076  ANTPAL    True     ANTPAL         True  \n",
       "2  297.09   9.562  30.800543  ANTPAL    True     ANTPAL         True  \n",
       "3  547.76  22.712  27.912395  ANTPAL    True     ANTPAL         True  \n",
       "4  332.20  12.224  33.699109  EPTFUS    True     EPTFUS         True  "
      ]
     },
     "execution_count": 205,
     "metadata": {},
     "output_type": "execute_result"
    }
   ],
   "source": [
    "data.head()"
   ]
  },
  {
   "cell_type": "markdown",
   "metadata": {},
   "source": [
    "#### Model All Data All Species"
   ]
  },
  {
   "cell_type": "code",
   "execution_count": 214,
   "metadata": {},
   "outputs": [
    {
     "name": "stdout",
     "output_type": "stream",
     "text": [
      "[0.0, 0.1, 0.2, 0.3, 0.4, 0.5, 0.6, 0.7, 0.8, 0.9]\n",
      "[81.60369293896392, 87.43480322427692, 87.87509148572823, 88.31097727894881, 88.434461951056, 88.61087144089733, 89.39024390243902, 89.25318761384335, 90.46199701937407, 92.55663430420712]\n"
     ]
    }
   ],
   "source": [
    "all_x = []\n",
    "all_y = []\n",
    "for i in [float(x/10) for x in range(10)]:\n",
    "    all_x.append(i)\n",
    "    tempdf = data[data['MATCH RATIO'] >= i]\n",
    "    #print(len(tempdf))\n",
    "    all_y.append(sum(tempdf['Pred_Result'] == True) / len(tempdf) * 100)\n",
    "print(all_x)\n",
    "print(all_y)"
   ]
  },
  {
   "cell_type": "markdown",
   "metadata": {},
   "source": [
    "#### Model All Data With All Species and NoID Removed"
   ]
  },
  {
   "cell_type": "code",
   "execution_count": 215,
   "metadata": {},
   "outputs": [
    {
     "name": "stdout",
     "output_type": "stream",
     "text": [
      "[0.0, 0.1, 0.2, 0.3, 0.4, 0.5, 0.6, 0.7, 0.8, 0.9]\n",
      "[81.20466036491537, 92.17695576105973, 92.45379876796714, 92.48853211009175, 92.3669467787115, 92.02508960573476, 92.08542713567839, 91.76029962546816, 92.53048780487805, 94.07894736842105]\n"
     ]
    },
    {
     "name": "stderr",
     "output_type": "stream",
     "text": [
      "<ipython-input-215-a8c4387655c2>:5: UserWarning: Boolean Series key will be reindexed to match DataFrame index.\n",
      "  tempdf = data[data['Prediction'] != 'NoID'][data['MATCH RATIO'] >= i]\n",
      "<ipython-input-215-a8c4387655c2>:5: UserWarning: Boolean Series key will be reindexed to match DataFrame index.\n",
      "  tempdf = data[data['Prediction'] != 'NoID'][data['MATCH RATIO'] >= i]\n",
      "<ipython-input-215-a8c4387655c2>:5: UserWarning: Boolean Series key will be reindexed to match DataFrame index.\n",
      "  tempdf = data[data['Prediction'] != 'NoID'][data['MATCH RATIO'] >= i]\n",
      "<ipython-input-215-a8c4387655c2>:5: UserWarning: Boolean Series key will be reindexed to match DataFrame index.\n",
      "  tempdf = data[data['Prediction'] != 'NoID'][data['MATCH RATIO'] >= i]\n",
      "<ipython-input-215-a8c4387655c2>:5: UserWarning: Boolean Series key will be reindexed to match DataFrame index.\n",
      "  tempdf = data[data['Prediction'] != 'NoID'][data['MATCH RATIO'] >= i]\n",
      "<ipython-input-215-a8c4387655c2>:5: UserWarning: Boolean Series key will be reindexed to match DataFrame index.\n",
      "  tempdf = data[data['Prediction'] != 'NoID'][data['MATCH RATIO'] >= i]\n",
      "<ipython-input-215-a8c4387655c2>:5: UserWarning: Boolean Series key will be reindexed to match DataFrame index.\n",
      "  tempdf = data[data['Prediction'] != 'NoID'][data['MATCH RATIO'] >= i]\n",
      "<ipython-input-215-a8c4387655c2>:5: UserWarning: Boolean Series key will be reindexed to match DataFrame index.\n",
      "  tempdf = data[data['Prediction'] != 'NoID'][data['MATCH RATIO'] >= i]\n",
      "<ipython-input-215-a8c4387655c2>:5: UserWarning: Boolean Series key will be reindexed to match DataFrame index.\n",
      "  tempdf = data[data['Prediction'] != 'NoID'][data['MATCH RATIO'] >= i]\n",
      "<ipython-input-215-a8c4387655c2>:5: UserWarning: Boolean Series key will be reindexed to match DataFrame index.\n",
      "  tempdf = data[data['Prediction'] != 'NoID'][data['MATCH RATIO'] >= i]\n"
     ]
    }
   ],
   "source": [
    "all_x_r = []\n",
    "all_y_r = []\n",
    "for i in [float(x/10) for x in range(10)]:\n",
    "    all_x_r.append(i)\n",
    "    tempdf = data[data['Prediction'] != 'NoID'][data['MATCH RATIO'] >= i]\n",
    "    #print(len(tempdf))\n",
    "    all_y_r.append(sum(tempdf['Pred_Result'] == True) / len(tempdf) * 100)\n",
    "print(all_x_r)\n",
    "print(all_y_r)"
   ]
  },
  {
   "cell_type": "markdown",
   "metadata": {},
   "source": [
    "#### Model All Data With Three Species and NoID Removed"
   ]
  },
  {
   "cell_type": "code",
   "execution_count": 218,
   "metadata": {},
   "outputs": [],
   "source": [
    "three_spp_data = data['Prediction'].replace(to_replace = ['ANTPAL', 'EPTFUS', 'LASCIN', 'LASNOC', 'EUMPER', 'EUMUND', \n",
    "                                      'NYCFEM', 'LASBLO', 'MYOCIL', 'MYOCAL', 'LASXAN', 'MYOEVO', \n",
    "                                      'MYOOCC', 'MYOTHY', 'MYOVOL', 'NYCMAC', 'MYOVEL'], value = 'NoID')"
   ]
  },
  {
   "cell_type": "code",
   "execution_count": 219,
   "metadata": {},
   "outputs": [],
   "source": [
    "data['Prediction'] = three_spp_data"
   ]
  },
  {
   "cell_type": "code",
   "execution_count": 221,
   "metadata": {},
   "outputs": [
    {
     "data": {
      "text/plain": [
       "TADBRA    2528\n",
       "NoID      2005\n",
       "MYOYUM     771\n",
       "PARHES     545\n",
       "Name: Prediction, dtype: int64"
      ]
     },
     "execution_count": 221,
     "metadata": {},
     "output_type": "execute_result"
    }
   ],
   "source": [
    "data['Prediction'].value_counts()"
   ]
  },
  {
   "cell_type": "code",
   "execution_count": 225,
   "metadata": {},
   "outputs": [
    {
     "name": "stdout",
     "output_type": "stream",
     "text": [
      "[0.0, 0.1, 0.2, 0.3, 0.4, 0.5, 0.6, 0.7, 0.8, 0.9]\n",
      "[79.60457856399584, 91.52440850554058, 91.8348623853211, 91.93438140806562, 91.74311926605505, 91.31130063965884, 90.99630996309963, 90.47619047619048, 91.19266055045871, 92.74193548387096]\n"
     ]
    },
    {
     "name": "stderr",
     "output_type": "stream",
     "text": [
      "<ipython-input-225-0dcad5ffbbd7>:5: UserWarning: Boolean Series key will be reindexed to match DataFrame index.\n",
      "  tempdf = data[data['Prediction'] != 'NoID'][data['MATCH RATIO'] >= i]\n",
      "<ipython-input-225-0dcad5ffbbd7>:5: UserWarning: Boolean Series key will be reindexed to match DataFrame index.\n",
      "  tempdf = data[data['Prediction'] != 'NoID'][data['MATCH RATIO'] >= i]\n",
      "<ipython-input-225-0dcad5ffbbd7>:5: UserWarning: Boolean Series key will be reindexed to match DataFrame index.\n",
      "  tempdf = data[data['Prediction'] != 'NoID'][data['MATCH RATIO'] >= i]\n",
      "<ipython-input-225-0dcad5ffbbd7>:5: UserWarning: Boolean Series key will be reindexed to match DataFrame index.\n",
      "  tempdf = data[data['Prediction'] != 'NoID'][data['MATCH RATIO'] >= i]\n",
      "<ipython-input-225-0dcad5ffbbd7>:5: UserWarning: Boolean Series key will be reindexed to match DataFrame index.\n",
      "  tempdf = data[data['Prediction'] != 'NoID'][data['MATCH RATIO'] >= i]\n",
      "<ipython-input-225-0dcad5ffbbd7>:5: UserWarning: Boolean Series key will be reindexed to match DataFrame index.\n",
      "  tempdf = data[data['Prediction'] != 'NoID'][data['MATCH RATIO'] >= i]\n",
      "<ipython-input-225-0dcad5ffbbd7>:5: UserWarning: Boolean Series key will be reindexed to match DataFrame index.\n",
      "  tempdf = data[data['Prediction'] != 'NoID'][data['MATCH RATIO'] >= i]\n",
      "<ipython-input-225-0dcad5ffbbd7>:5: UserWarning: Boolean Series key will be reindexed to match DataFrame index.\n",
      "  tempdf = data[data['Prediction'] != 'NoID'][data['MATCH RATIO'] >= i]\n",
      "<ipython-input-225-0dcad5ffbbd7>:5: UserWarning: Boolean Series key will be reindexed to match DataFrame index.\n",
      "  tempdf = data[data['Prediction'] != 'NoID'][data['MATCH RATIO'] >= i]\n",
      "<ipython-input-225-0dcad5ffbbd7>:5: UserWarning: Boolean Series key will be reindexed to match DataFrame index.\n",
      "  tempdf = data[data['Prediction'] != 'NoID'][data['MATCH RATIO'] >= i]\n"
     ]
    }
   ],
   "source": [
    "all_x_r3 = []\n",
    "all_y_r3 = []\n",
    "for i in [float(x/10) for x in range(10)]:\n",
    "    all_x_r3.append(i)\n",
    "    tempdf = data[data['Prediction'] != 'NoID'][data['MATCH RATIO'] >= i]\n",
    "    #print(len(tempdf))\n",
    "    all_y_r3.append(sum(tempdf['Pred_Result'] == True) / len(tempdf) * 100)\n",
    "print(all_x_r3)\n",
    "print(all_y_r3)"
   ]
  },
  {
   "cell_type": "markdown",
   "metadata": {},
   "source": [
    "### Graphing Accuracy"
   ]
  },
  {
   "cell_type": "code",
   "execution_count": 207,
   "metadata": {},
   "outputs": [
    {
     "data": {
      "image/png": "[encoded data removed]",
      "text/plain": [
       "<Figure size 432x288 with 1 Axes>"
      ]
     },
     "metadata": {
      "needs_background": "light"
     },
     "output_type": "display_data"
    }
   ],
   "source": [
    "plt.plot(aa, bb, label = 'Kaleidoscope')\n",
    "plt.plot(test_x, test_y, label = 'Test data')\n",
    "plt.plot(all_x, all_y, label = 'All data')\n",
    "plt.legend(loc=\"lower right\")\n",
    "plt.xlabel('Match Ratio')\n",
    "plt.ylabel('Accuracy %')\n",
    "plt.title('Accuracy For All Species With NoID')\n",
    "plt.show()"
   ]
  },
  {
   "cell_type": "code",
   "execution_count": 226,
   "metadata": {},
   "outputs": [
    {
     "data": {
      "image/png": "[encoded data removed]",
      "text/plain": [
       "<Figure size 432x288 with 1 Axes>"
      ]
     },
     "metadata": {
      "needs_background": "light"
     },
     "output_type": "display_data"
    }
   ],
   "source": [
    "plt.plot(aa_r, bb_r, label = 'Kaleidoscope')\n",
    "plt.plot(test_x_r, test_y_r, label = 'Test data')\n",
    "plt.plot(all_x_r, all_y_r, label = 'All data')\n",
    "plt.legend(loc=\"lower right\")\n",
    "plt.xlabel('Match Ratio')\n",
    "plt.ylabel('Accuracy %')\n",
    "plt.title('Accuracy For All Species Without NoID')\n",
    "plt.show()"
   ]
  },
  {
   "cell_type": "code",
   "execution_count": 227,
   "metadata": {},
   "outputs": [
    {
     "data": {
      "image/png": "[encoded data removed]",
      "text/plain": [
       "<Figure size 432x288 with 1 Axes>"
      ]
     },
     "metadata": {
      "needs_background": "light"
     },
     "output_type": "display_data"
    }
   ],
   "source": [
    "plt.plot(aa_r3, bb_r3, label = 'Kaleidoscope')\n",
    "plt.plot(test_x_r3, test_y_r3, label = 'Test data')\n",
    "plt.plot(all_x_r3, all_y_r3, label = 'All data')\n",
    "plt.legend(loc=\"lower right\")\n",
    "plt.xlabel('Match Ratio')\n",
    "plt.ylabel('Accuracy %')\n",
    "plt.title('Accuracy For Three Species Without NoID')\n",
    "plt.show()"
   ]
  },
  {
   "cell_type": "markdown",
   "metadata": {},
   "source": [
    "## RF Test Data"
   ]
  },
  {
   "cell_type": "code",
   "execution_count": 295,
   "metadata": {},
   "outputs": [
    {
     "name": "stdout",
     "output_type": "stream",
     "text": [
      "Accuracy score: 0.8627115746281415\n",
      "Macro precision score: 0.9682216485430489\n",
      "Micro precision score: 0.8627115746281415\n",
      "Weighted precision score: 0.8806750710904541\n",
      "Macro recall score: 0.8927136375023421\n",
      "Micro recall score: 0.8627115746281415\n",
      "Weighted recall score: 0.8627115746281415\n",
      "Macro f1 score: 0.9219169038169388\n",
      "Micro f1 score: 0.8627115746281415\n",
      "Weighted f1 score: 0.8580359693616766\n"
     ]
    }
   ],
   "source": [
    "y_pred = rfc_all.predict(data.drop(columns = ['Spp', 'MATCH RATIO']))\n",
    "print('Accuracy score:', accuracy_score(data['Spp'], y_pred))\n",
    "print('Macro precision score:', precision_score(data['Spp'], y_pred, average='macro'))\n",
    "print('Micro precision score:', precision_score(data['Spp'], y_pred, average='micro'))\n",
    "print('Weighted precision score:', precision_score(data['Spp'], y_pred, average='weighted'))\n",
    "print('Macro recall score:', recall_score(data['Spp'], y_pred, average='macro'))\n",
    "print('Micro recall score:', recall_score(data['Spp'], y_pred, average='micro'))\n",
    "print('Weighted recall score:', recall_score(data['Spp'], y_pred, average='weighted'))\n",
    "print('Macro f1 score:', f1_score(data['Spp'], y_pred, average='macro'))\n",
    "print('Micro f1 score:', f1_score(data['Spp'], y_pred, average='micro'))\n",
    "print('Weighted f1 score:', f1_score(data['Spp'], y_pred, average='weighted'))"
   ]
  },
  {
   "cell_type": "code",
   "execution_count": null,
   "metadata": {},
   "outputs": [],
   "source": []
  },
  {
   "cell_type": "markdown",
   "metadata": {},
   "source": [
    "### Accuracy By Match Ratio"
   ]
  },
  {
   "cell_type": "code",
   "execution_count": null,
   "metadata": {},
   "outputs": [],
   "source": []
  },
  {
   "cell_type": "code",
   "execution_count": null,
   "metadata": {},
   "outputs": [],
   "source": []
  },
  {
   "cell_type": "code",
   "execution_count": null,
   "metadata": {},
   "outputs": [],
   "source": []
  }
 ],
 "metadata": {
  "kernelspec": {
   "display_name": "Python 3",
   "language": "python",
   "name": "python3"
  },
  "language_info": {
   "codemirror_mode": {
    "name": "ipython",
    "version": 3
   },
   "file_extension": ".py",
   "mimetype": "text/x-python",
   "name": "python",
   "nbconvert_exporter": "python",
   "pygments_lexer": "ipython3",
   "version": "3.8.3"
  },
  "toc": {
   "base_numbering": 1,
   "nav_menu": {},
   "number_sections": true,
   "sideBar": true,
   "skip_h1_title": false,
   "title_cell": "Table of Contents",
   "title_sidebar": "Contents",
   "toc_cell": true,
   "toc_position": {},
   "toc_section_display": true,
   "toc_window_display": true
  }
 },
 "nbformat": 4,
 "nbformat_minor": 4
}
