{
 "cells": [
  {
   "cell_type": "markdown",
   "metadata": {},
   "source": [
    "# Bat echolocation EDA"
   ]
  },
  {
   "cell_type": "markdown",
   "metadata": {},
   "source": [
    "# Loading and EDA Haberkorn bat echolocation library"
   ]
  },
  {
   "cell_type": "code",
   "execution_count": 1,
   "metadata": {},
   "outputs": [],
   "source": [
    "import pandas as pd\n",
    "import numpy as np\n",
    "import os\n",
    "import matplotlib.pyplot as plt\n",
    "import seaborn as sns"
   ]
  },
  {
   "cell_type": "code",
   "execution_count": 2,
   "metadata": {},
   "outputs": [],
   "source": [
    "#Load data for truthed_library\n",
    "tr_lib = pd.read_csv('truthed_library.csv')"
   ]
  },
  {
   "cell_type": "code",
   "execution_count": 3,
   "metadata": {},
   "outputs": [
    {
     "data": {
      "text/html": [
       "<div>\n",
       "<style scoped>\n",
       "    .dataframe tbody tr th:only-of-type {\n",
       "        vertical-align: middle;\n",
       "    }\n",
       "\n",
       "    .dataframe tbody tr th {\n",
       "        vertical-align: top;\n",
       "    }\n",
       "\n",
       "    .dataframe thead th {\n",
       "        text-align: right;\n",
       "    }\n",
       "</style>\n",
       "<table border=\"1\" class=\"dataframe\">\n",
       "  <thead>\n",
       "    <tr style=\"text-align: right;\">\n",
       "      <th></th>\n",
       "      <th>IN FILE</th>\n",
       "      <th>AUTO ID*</th>\n",
       "      <th>PULSES</th>\n",
       "      <th>MATCH RATIO</th>\n",
       "      <th>MARGIN</th>\n",
       "      <th>Fc</th>\n",
       "      <th>Sc</th>\n",
       "      <th>Dur</th>\n",
       "      <th>Fmax</th>\n",
       "      <th>Fmin</th>\n",
       "      <th>Fk</th>\n",
       "      <th>Tk</th>\n",
       "      <th>Tc</th>\n",
       "      <th>S1</th>\n",
       "      <th>BWDth</th>\n",
       "      <th>PkDur</th>\n",
       "      <th>COMP ID</th>\n",
       "      <th>Result</th>\n",
       "    </tr>\n",
       "  </thead>\n",
       "  <tbody>\n",
       "    <tr>\n",
       "      <th>0</th>\n",
       "      <td>NoID_20200716_212136.wav</td>\n",
       "      <td>ANTPAL</td>\n",
       "      <td>97.0</td>\n",
       "      <td>0.258</td>\n",
       "      <td>0.088132</td>\n",
       "      <td>32.032</td>\n",
       "      <td>84.83</td>\n",
       "      <td>3.601</td>\n",
       "      <td>43.750</td>\n",
       "      <td>31.157</td>\n",
       "      <td>35.004</td>\n",
       "      <td>2.090</td>\n",
       "      <td>3.370</td>\n",
       "      <td>326.50</td>\n",
       "      <td>12.593</td>\n",
       "      <td>35.545682</td>\n",
       "      <td>NoID</td>\n",
       "      <td>False</td>\n",
       "    </tr>\n",
       "    <tr>\n",
       "      <th>1</th>\n",
       "      <td>ANTPAL_20190607_204646.wav</td>\n",
       "      <td>ANTPAL</td>\n",
       "      <td>16.0</td>\n",
       "      <td>0.875</td>\n",
       "      <td>0.498225</td>\n",
       "      <td>28.955</td>\n",
       "      <td>61.99</td>\n",
       "      <td>6.088</td>\n",
       "      <td>48.466</td>\n",
       "      <td>27.932</td>\n",
       "      <td>30.731</td>\n",
       "      <td>4.213</td>\n",
       "      <td>5.505</td>\n",
       "      <td>208.94</td>\n",
       "      <td>20.534</td>\n",
       "      <td>21.222076</td>\n",
       "      <td>ANTPAL</td>\n",
       "      <td>True</td>\n",
       "    </tr>\n",
       "    <tr>\n",
       "      <th>2</th>\n",
       "      <td>ANTPAL_20200716_211653.wav</td>\n",
       "      <td>ANTPAL</td>\n",
       "      <td>14.0</td>\n",
       "      <td>0.714</td>\n",
       "      <td>0.512325</td>\n",
       "      <td>29.955</td>\n",
       "      <td>68.58</td>\n",
       "      <td>2.948</td>\n",
       "      <td>39.362</td>\n",
       "      <td>29.800</td>\n",
       "      <td>31.430</td>\n",
       "      <td>1.990</td>\n",
       "      <td>2.898</td>\n",
       "      <td>297.09</td>\n",
       "      <td>9.562</td>\n",
       "      <td>30.800543</td>\n",
       "      <td>ANTPAL</td>\n",
       "      <td>True</td>\n",
       "    </tr>\n",
       "    <tr>\n",
       "      <th>3</th>\n",
       "      <td>ANTPAL_20190626_205037.wav</td>\n",
       "      <td>ANTPAL</td>\n",
       "      <td>9.0</td>\n",
       "      <td>0.444</td>\n",
       "      <td>0.224854</td>\n",
       "      <td>32.315</td>\n",
       "      <td>92.00</td>\n",
       "      <td>4.292</td>\n",
       "      <td>54.628</td>\n",
       "      <td>31.916</td>\n",
       "      <td>35.201</td>\n",
       "      <td>2.918</td>\n",
       "      <td>4.116</td>\n",
       "      <td>547.76</td>\n",
       "      <td>22.712</td>\n",
       "      <td>27.912395</td>\n",
       "      <td>ANTPAL</td>\n",
       "      <td>True</td>\n",
       "    </tr>\n",
       "    <tr>\n",
       "      <th>4</th>\n",
       "      <td>EPTFUS_20200301_191434.wav</td>\n",
       "      <td>EPTFUS</td>\n",
       "      <td>161.0</td>\n",
       "      <td>0.398</td>\n",
       "      <td>0.114901</td>\n",
       "      <td>35.502</td>\n",
       "      <td>31.02</td>\n",
       "      <td>6.288</td>\n",
       "      <td>46.429</td>\n",
       "      <td>34.205</td>\n",
       "      <td>37.141</td>\n",
       "      <td>3.196</td>\n",
       "      <td>5.315</td>\n",
       "      <td>332.20</td>\n",
       "      <td>12.224</td>\n",
       "      <td>33.699109</td>\n",
       "      <td>EPTFUS</td>\n",
       "      <td>True</td>\n",
       "    </tr>\n",
       "  </tbody>\n",
       "</table>\n",
       "</div>"
      ],
      "text/plain": [
       "                      IN FILE AUTO ID*  PULSES  MATCH RATIO    MARGIN      Fc  \\\n",
       "0    NoID_20200716_212136.wav   ANTPAL    97.0        0.258  0.088132  32.032   \n",
       "1  ANTPAL_20190607_204646.wav   ANTPAL    16.0        0.875  0.498225  28.955   \n",
       "2  ANTPAL_20200716_211653.wav   ANTPAL    14.0        0.714  0.512325  29.955   \n",
       "3  ANTPAL_20190626_205037.wav   ANTPAL     9.0        0.444  0.224854  32.315   \n",
       "4  EPTFUS_20200301_191434.wav   EPTFUS   161.0        0.398  0.114901  35.502   \n",
       "\n",
       "      Sc    Dur    Fmax    Fmin      Fk     Tk     Tc      S1   BWDth  \\\n",
       "0  84.83  3.601  43.750  31.157  35.004  2.090  3.370  326.50  12.593   \n",
       "1  61.99  6.088  48.466  27.932  30.731  4.213  5.505  208.94  20.534   \n",
       "2  68.58  2.948  39.362  29.800  31.430  1.990  2.898  297.09   9.562   \n",
       "3  92.00  4.292  54.628  31.916  35.201  2.918  4.116  547.76  22.712   \n",
       "4  31.02  6.288  46.429  34.205  37.141  3.196  5.315  332.20  12.224   \n",
       "\n",
       "       PkDur COMP ID  Result  \n",
       "0  35.545682    NoID   False  \n",
       "1  21.222076  ANTPAL    True  \n",
       "2  30.800543  ANTPAL    True  \n",
       "3  27.912395  ANTPAL    True  \n",
       "4  33.699109  EPTFUS    True  "
      ]
     },
     "execution_count": 3,
     "metadata": {},
     "output_type": "execute_result"
    }
   ],
   "source": [
    "tr_lib.head()"
   ]
  },
  {
   "cell_type": "code",
   "execution_count": 4,
   "metadata": {},
   "outputs": [
    {
     "name": "stdout",
     "output_type": "stream",
     "text": [
      "<class 'pandas.core.frame.DataFrame'>\n",
      "RangeIndex: 5849 entries, 0 to 5848\n",
      "Data columns (total 18 columns):\n",
      " #   Column       Non-Null Count  Dtype  \n",
      "---  ------       --------------  -----  \n",
      " 0   IN FILE      5849 non-null   object \n",
      " 1   AUTO ID*     5849 non-null   object \n",
      " 2   PULSES       5849 non-null   float64\n",
      " 3   MATCH RATIO  5849 non-null   float64\n",
      " 4   MARGIN       5849 non-null   float64\n",
      " 5   Fc           5849 non-null   float64\n",
      " 6   Sc           5849 non-null   float64\n",
      " 7   Dur          5849 non-null   float64\n",
      " 8   Fmax         5849 non-null   float64\n",
      " 9   Fmin         5849 non-null   float64\n",
      " 10  Fk           5849 non-null   float64\n",
      " 11  Tk           5849 non-null   float64\n",
      " 12  Tc           5849 non-null   float64\n",
      " 13  S1           5849 non-null   float64\n",
      " 14  BWDth        5849 non-null   float64\n",
      " 15  PkDur        5849 non-null   float64\n",
      " 16  COMP ID      5849 non-null   object \n",
      " 17  Result       5849 non-null   bool   \n",
      "dtypes: bool(1), float64(14), object(3)\n",
      "memory usage: 782.7+ KB\n"
     ]
    }
   ],
   "source": [
    "tr_lib.info()"
   ]
  },
  {
   "cell_type": "code",
   "execution_count": 5,
   "metadata": {},
   "outputs": [
    {
     "data": {
      "text/html": [
       "<div>\n",
       "<style scoped>\n",
       "    .dataframe tbody tr th:only-of-type {\n",
       "        vertical-align: middle;\n",
       "    }\n",
       "\n",
       "    .dataframe tbody tr th {\n",
       "        vertical-align: top;\n",
       "    }\n",
       "\n",
       "    .dataframe thead th {\n",
       "        text-align: right;\n",
       "    }\n",
       "</style>\n",
       "<table border=\"1\" class=\"dataframe\">\n",
       "  <thead>\n",
       "    <tr style=\"text-align: right;\">\n",
       "      <th></th>\n",
       "      <th>AUTO ID*</th>\n",
       "      <th>PULSES</th>\n",
       "      <th>MATCH RATIO</th>\n",
       "      <th>MARGIN</th>\n",
       "      <th>Fc</th>\n",
       "      <th>Sc</th>\n",
       "      <th>Dur</th>\n",
       "      <th>Fmax</th>\n",
       "      <th>Fmin</th>\n",
       "      <th>Fk</th>\n",
       "      <th>Tk</th>\n",
       "      <th>Tc</th>\n",
       "      <th>S1</th>\n",
       "      <th>BWDth</th>\n",
       "      <th>PkDur</th>\n",
       "      <th>COMP ID</th>\n",
       "      <th>Result</th>\n",
       "    </tr>\n",
       "  </thead>\n",
       "  <tbody>\n",
       "    <tr>\n",
       "      <th>0</th>\n",
       "      <td>ANTPAL</td>\n",
       "      <td>97.0</td>\n",
       "      <td>0.258</td>\n",
       "      <td>0.088132</td>\n",
       "      <td>32.032</td>\n",
       "      <td>84.83</td>\n",
       "      <td>3.601</td>\n",
       "      <td>43.750</td>\n",
       "      <td>31.157</td>\n",
       "      <td>35.004</td>\n",
       "      <td>2.090</td>\n",
       "      <td>3.370</td>\n",
       "      <td>326.50</td>\n",
       "      <td>12.593</td>\n",
       "      <td>35.545682</td>\n",
       "      <td>NoID</td>\n",
       "      <td>False</td>\n",
       "    </tr>\n",
       "    <tr>\n",
       "      <th>1</th>\n",
       "      <td>ANTPAL</td>\n",
       "      <td>16.0</td>\n",
       "      <td>0.875</td>\n",
       "      <td>0.498225</td>\n",
       "      <td>28.955</td>\n",
       "      <td>61.99</td>\n",
       "      <td>6.088</td>\n",
       "      <td>48.466</td>\n",
       "      <td>27.932</td>\n",
       "      <td>30.731</td>\n",
       "      <td>4.213</td>\n",
       "      <td>5.505</td>\n",
       "      <td>208.94</td>\n",
       "      <td>20.534</td>\n",
       "      <td>21.222076</td>\n",
       "      <td>ANTPAL</td>\n",
       "      <td>True</td>\n",
       "    </tr>\n",
       "    <tr>\n",
       "      <th>2</th>\n",
       "      <td>ANTPAL</td>\n",
       "      <td>14.0</td>\n",
       "      <td>0.714</td>\n",
       "      <td>0.512325</td>\n",
       "      <td>29.955</td>\n",
       "      <td>68.58</td>\n",
       "      <td>2.948</td>\n",
       "      <td>39.362</td>\n",
       "      <td>29.800</td>\n",
       "      <td>31.430</td>\n",
       "      <td>1.990</td>\n",
       "      <td>2.898</td>\n",
       "      <td>297.09</td>\n",
       "      <td>9.562</td>\n",
       "      <td>30.800543</td>\n",
       "      <td>ANTPAL</td>\n",
       "      <td>True</td>\n",
       "    </tr>\n",
       "    <tr>\n",
       "      <th>3</th>\n",
       "      <td>ANTPAL</td>\n",
       "      <td>9.0</td>\n",
       "      <td>0.444</td>\n",
       "      <td>0.224854</td>\n",
       "      <td>32.315</td>\n",
       "      <td>92.00</td>\n",
       "      <td>4.292</td>\n",
       "      <td>54.628</td>\n",
       "      <td>31.916</td>\n",
       "      <td>35.201</td>\n",
       "      <td>2.918</td>\n",
       "      <td>4.116</td>\n",
       "      <td>547.76</td>\n",
       "      <td>22.712</td>\n",
       "      <td>27.912395</td>\n",
       "      <td>ANTPAL</td>\n",
       "      <td>True</td>\n",
       "    </tr>\n",
       "    <tr>\n",
       "      <th>4</th>\n",
       "      <td>EPTFUS</td>\n",
       "      <td>161.0</td>\n",
       "      <td>0.398</td>\n",
       "      <td>0.114901</td>\n",
       "      <td>35.502</td>\n",
       "      <td>31.02</td>\n",
       "      <td>6.288</td>\n",
       "      <td>46.429</td>\n",
       "      <td>34.205</td>\n",
       "      <td>37.141</td>\n",
       "      <td>3.196</td>\n",
       "      <td>5.315</td>\n",
       "      <td>332.20</td>\n",
       "      <td>12.224</td>\n",
       "      <td>33.699109</td>\n",
       "      <td>EPTFUS</td>\n",
       "      <td>True</td>\n",
       "    </tr>\n",
       "  </tbody>\n",
       "</table>\n",
       "</div>"
      ],
      "text/plain": [
       "  AUTO ID*  PULSES  MATCH RATIO    MARGIN      Fc     Sc    Dur    Fmax  \\\n",
       "0   ANTPAL    97.0        0.258  0.088132  32.032  84.83  3.601  43.750   \n",
       "1   ANTPAL    16.0        0.875  0.498225  28.955  61.99  6.088  48.466   \n",
       "2   ANTPAL    14.0        0.714  0.512325  29.955  68.58  2.948  39.362   \n",
       "3   ANTPAL     9.0        0.444  0.224854  32.315  92.00  4.292  54.628   \n",
       "4   EPTFUS   161.0        0.398  0.114901  35.502  31.02  6.288  46.429   \n",
       "\n",
       "     Fmin      Fk     Tk     Tc      S1   BWDth      PkDur COMP ID  Result  \n",
       "0  31.157  35.004  2.090  3.370  326.50  12.593  35.545682    NoID   False  \n",
       "1  27.932  30.731  4.213  5.505  208.94  20.534  21.222076  ANTPAL    True  \n",
       "2  29.800  31.430  1.990  2.898  297.09   9.562  30.800543  ANTPAL    True  \n",
       "3  31.916  35.201  2.918  4.116  547.76  22.712  27.912395  ANTPAL    True  \n",
       "4  34.205  37.141  3.196  5.315  332.20  12.224  33.699109  EPTFUS    True  "
      ]
     },
     "execution_count": 5,
     "metadata": {},
     "output_type": "execute_result"
    }
   ],
   "source": [
    "#drop column with name of file\n",
    "tr_lib = tr_lib.drop('IN FILE', 1)\n",
    "tr_lib.head()"
   ]
  },
  {
   "cell_type": "code",
   "execution_count": 6,
   "metadata": {},
   "outputs": [
    {
     "data": {
      "text/plain": [
       "array(['ANTPAL', 'EPTFUS', 'EUMPER', 'EUMUND', 'LASBLO', 'LASCIN',\n",
       "       'LASNOC', 'LASXAN', 'MYOCAL', 'MYOCIL', 'MYOEVO', 'MYOOCC',\n",
       "       'MYOTHY', 'MYOVEL', 'MYOVOL', 'MYOYUM', 'NYCFEM', 'NYCMAC', 'NoID',\n",
       "       'PARHES', 'TADBRA'], dtype=object)"
      ]
     },
     "execution_count": 6,
     "metadata": {},
     "output_type": "execute_result"
    }
   ],
   "source": [
    "#view species in 'AUTO ID*' column\n",
    "tr_lib['AUTO ID*'].unique()"
   ]
  },
  {
   "cell_type": "code",
   "execution_count": 7,
   "metadata": {},
   "outputs": [
    {
     "data": {
      "text/plain": [
       "TADBRA    1893\n",
       "NoID      1615\n",
       "MYOYUM     739\n",
       "PARHES     543\n",
       "LASCIN     288\n",
       "LASNOC     263\n",
       "LASXAN     128\n",
       "EPTFUS     122\n",
       "MYOCAL      82\n",
       "LASBLO      63\n",
       "EUMUND      34\n",
       "EUMPER      25\n",
       "NYCFEM      12\n",
       "MYOVOL       9\n",
       "MYOTHY       7\n",
       "MYOOCC       6\n",
       "NYCMAC       6\n",
       "MYOCIL       5\n",
       "ANTPAL       4\n",
       "MYOVEL       3\n",
       "MYOEVO       2\n",
       "Name: AUTO ID*, dtype: int64"
      ]
     },
     "execution_count": 7,
     "metadata": {},
     "output_type": "execute_result"
    }
   ],
   "source": [
    "tr_lib['AUTO ID*'].value_counts()"
   ]
  },
  {
   "cell_type": "code",
   "execution_count": 19,
   "metadata": {},
   "outputs": [
    {
     "data": {
      "text/plain": [
       "(array([ 0,  1,  2,  3,  4,  5,  6,  7,  8,  9, 10, 11, 12, 13, 14, 15, 16,\n",
       "        17, 18, 19, 20]),\n",
       " <a list of 21 Text major ticklabel objects>)"
      ]
     },
     "execution_count": 19,
     "metadata": {},
     "output_type": "execute_result"
    },
    {
     "data": {
      "image/png": "[encoded data removed]",
      "text/plain": [
       "<Figure size 864x432 with 1 Axes>"
      ]
     },
     "metadata": {
      "needs_background": "light"
     },
     "output_type": "display_data"
    }
   ],
   "source": [
    "#view 'Fc' by species from the tr_lib dataframe\n",
    "plt.subplots(figsize=(12,6))\n",
    "sns.boxplot(tr_lib['AUTO ID*'], tr_lib['Fc'])\n",
    "plt.xlabel('Species')\n",
    "plt.ylabel('Frequency')\n",
    "plt.title('Fc by species')\n",
    "plt.xticks(rotation=45)"
   ]
  },
  {
   "cell_type": "code",
   "execution_count": 9,
   "metadata": {},
   "outputs": [
    {
     "data": {
      "text/plain": [
       "(array([ 0,  1,  2,  3,  4,  5,  6,  7,  8,  9, 10, 11, 12, 13, 14, 15, 16,\n",
       "        17, 18, 19, 20]),\n",
       " <a list of 21 Text major ticklabel objects>)"
      ]
     },
     "execution_count": 9,
     "metadata": {},
     "output_type": "execute_result"
    },
    {
     "data": {
      "image/png": "[encoded data removed]",
      "text/plain": [
       "<Figure size 864x432 with 1 Axes>"
      ]
     },
     "metadata": {
      "needs_background": "light"
     },
     "output_type": "display_data"
    }
   ],
   "source": [
    "#view 'Fmax' by species from the tr_lib dataframe\n",
    "plt.subplots(figsize=(12,6))\n",
    "sns.boxplot(tr_lib['AUTO ID*'], tr_lib['Fmax'])\n",
    "plt.xlabel('Species')\n",
    "plt.ylabel('Frequency')\n",
    "plt.title('Fmax by species')\n",
    "plt.xticks(rotation=45)"
   ]
  },
  {
   "cell_type": "code",
   "execution_count": 41,
   "metadata": {},
   "outputs": [
    {
     "name": "stderr",
     "output_type": "stream",
     "text": [
      "C:\\Users\\matta\\anaconda3\\lib\\site-packages\\pandas\\core\\ops\\array_ops.py:253: FutureWarning: elementwise comparison failed; returning scalar instead, but in the future will perform elementwise comparison\n",
      "  res_values = method(rvalues)\n"
     ]
    },
    {
     "data": {
      "text/plain": [
       "0       False\n",
       "1       False\n",
       "2       False\n",
       "3       False\n",
       "4       False\n",
       "        ...  \n",
       "5844    False\n",
       "5845    False\n",
       "5846    False\n",
       "5847    False\n",
       "5848    False\n",
       "Name: Result, Length: 5849, dtype: bool"
      ]
     },
     "execution_count": 41,
     "metadata": {},
     "output_type": "execute_result"
    }
   ],
   "source": [
    "#not sure why I can't get len() to work here\n",
    "len(tr_lib['Result'] == 'False')"
   ]
  },
  {
   "cell_type": "code",
   "execution_count": 11,
   "metadata": {},
   "outputs": [
    {
     "name": "stdout",
     "output_type": "stream",
     "text": [
      "0.0\n",
      "4234\n",
      "0.0\n",
      "0.1\n",
      "4217\n",
      "0.0\n",
      "0.2\n",
      "4083\n",
      "0.0\n",
      "0.3\n",
      "3639\n",
      "0.0\n",
      "0.4\n",
      "2934\n",
      "0.0\n",
      "0.5\n",
      "2170\n",
      "0.0\n",
      "0.6\n",
      "1582\n",
      "0.0\n",
      "0.7\n",
      "1077\n",
      "0.0\n",
      "0.8\n",
      "608\n",
      "0.0\n",
      "0.9\n",
      "299\n",
      "0.0\n"
     ]
    }
   ],
   "source": [
    "#Percentage is not being calculated\n",
    "\n",
    "for i in [float(x/10) for x in range(10)]:\n",
    "    print(i)\n",
    "    tempdf = tr_lib[tr_lib['MATCH RATIO'] > i]\n",
    "    print(len(tempdf))\n",
    "    print(sum(tempdf['Result'] == 'True') / len(tempdf) * 100)\n"
   ]
  },
  {
   "cell_type": "code",
   "execution_count": 12,
   "metadata": {},
   "outputs": [
    {
     "ename": "AttributeError",
     "evalue": "'NoneType' object has no attribute 'append'",
     "output_type": "error",
     "traceback": [
      "\u001b[1;31m---------------------------------------------------------------------------\u001b[0m",
      "\u001b[1;31mAttributeError\u001b[0m                            Traceback (most recent call last)",
      "\u001b[1;32m<ipython-input-12-31ef7d65febc>\u001b[0m in \u001b[0;36m<module>\u001b[1;34m\u001b[0m\n\u001b[0;32m      2\u001b[0m \u001b[0mb\u001b[0m \u001b[1;33m=\u001b[0m \u001b[1;33m[\u001b[0m\u001b[1;33m]\u001b[0m\u001b[1;33m\u001b[0m\u001b[1;33m\u001b[0m\u001b[0m\n\u001b[0;32m      3\u001b[0m \u001b[1;32mfor\u001b[0m \u001b[0mi\u001b[0m \u001b[1;32min\u001b[0m \u001b[1;33m[\u001b[0m\u001b[0mfloat\u001b[0m\u001b[1;33m(\u001b[0m\u001b[0mx\u001b[0m\u001b[1;33m/\u001b[0m\u001b[1;36m10\u001b[0m\u001b[1;33m)\u001b[0m \u001b[1;32mfor\u001b[0m \u001b[0mx\u001b[0m \u001b[1;32min\u001b[0m \u001b[0mrange\u001b[0m\u001b[1;33m(\u001b[0m\u001b[1;36m10\u001b[0m\u001b[1;33m)\u001b[0m\u001b[1;33m]\u001b[0m\u001b[1;33m:\u001b[0m\u001b[1;33m\u001b[0m\u001b[1;33m\u001b[0m\u001b[0m\n\u001b[1;32m----> 4\u001b[1;33m     \u001b[0ma\u001b[0m \u001b[1;33m=\u001b[0m \u001b[0ma\u001b[0m\u001b[1;33m.\u001b[0m\u001b[0mappend\u001b[0m\u001b[1;33m(\u001b[0m\u001b[0mi\u001b[0m\u001b[1;33m)\u001b[0m\u001b[1;33m\u001b[0m\u001b[1;33m\u001b[0m\u001b[0m\n\u001b[0m\u001b[0;32m      5\u001b[0m     \u001b[0mtempdf\u001b[0m \u001b[1;33m=\u001b[0m \u001b[0mtr_lib\u001b[0m\u001b[1;33m[\u001b[0m\u001b[0mtr_lib\u001b[0m\u001b[1;33m[\u001b[0m\u001b[1;34m'MATCH RATIO'\u001b[0m\u001b[1;33m]\u001b[0m \u001b[1;33m>\u001b[0m \u001b[0mi\u001b[0m\u001b[1;33m]\u001b[0m\u001b[1;33m\u001b[0m\u001b[1;33m\u001b[0m\u001b[0m\n\u001b[0;32m      6\u001b[0m     \u001b[1;31m#print(len(tempdf))\u001b[0m\u001b[1;33m\u001b[0m\u001b[1;33m\u001b[0m\u001b[1;33m\u001b[0m\u001b[0m\n",
      "\u001b[1;31mAttributeError\u001b[0m: 'NoneType' object has no attribute 'append'"
     ]
    }
   ],
   "source": [
    "#append not working?\n",
    "a = []\n",
    "b = []\n",
    "for i in [float(x/10) for x in range(10)]:\n",
    "    a = a.append(i)\n",
    "    tempdf = tr_lib[tr_lib['MATCH RATIO'] > i]\n",
    "    #print(len(tempdf))\n",
    "    b = b.append(sum(tempdf['Result'] == 'True') / len(tempdf) * 100)\n",
    "\n",
    "print(a)\n",
    "print(b)"
   ]
  },
  {
   "cell_type": "markdown",
   "metadata": {},
   "source": [
    "# Loading and EDA Mexico bat echolocation library"
   ]
  },
  {
   "cell_type": "code",
   "execution_count": 13,
   "metadata": {},
   "outputs": [],
   "source": [
    "mx_lib = pd.read_csv('mexico_library.csv')"
   ]
  },
  {
   "cell_type": "code",
   "execution_count": 14,
   "metadata": {},
   "outputs": [
    {
     "data": {
      "text/html": [
       "<div>\n",
       "<style scoped>\n",
       "    .dataframe tbody tr th:only-of-type {\n",
       "        vertical-align: middle;\n",
       "    }\n",
       "\n",
       "    .dataframe tbody tr th {\n",
       "        vertical-align: top;\n",
       "    }\n",
       "\n",
       "    .dataframe thead th {\n",
       "        text-align: right;\n",
       "    }\n",
       "</style>\n",
       "<table border=\"1\" class=\"dataframe\">\n",
       "  <thead>\n",
       "    <tr style=\"text-align: right;\">\n",
       "      <th></th>\n",
       "      <th>Spp</th>\n",
       "      <th>Fc</th>\n",
       "      <th>Sc</th>\n",
       "      <th>Dur</th>\n",
       "      <th>Fmax</th>\n",
       "      <th>Fmin</th>\n",
       "      <th>Fk</th>\n",
       "      <th>Tk</th>\n",
       "      <th>S1</th>\n",
       "      <th>BWDth</th>\n",
       "      <th>PkDur</th>\n",
       "    </tr>\n",
       "  </thead>\n",
       "  <tbody>\n",
       "    <tr>\n",
       "      <th>0</th>\n",
       "      <td>Antpal</td>\n",
       "      <td>29.682143</td>\n",
       "      <td>0.775573</td>\n",
       "      <td>6.677325</td>\n",
       "      <td>51.913985</td>\n",
       "      <td>29.563483</td>\n",
       "      <td>35.484384</td>\n",
       "      <td>1.896671</td>\n",
       "      <td>-13.261031</td>\n",
       "      <td>22.350502</td>\n",
       "      <td>42.456971</td>\n",
       "    </tr>\n",
       "    <tr>\n",
       "      <th>1</th>\n",
       "      <td>Antpal</td>\n",
       "      <td>29.740707</td>\n",
       "      <td>2.098983</td>\n",
       "      <td>6.547622</td>\n",
       "      <td>62.085939</td>\n",
       "      <td>29.156824</td>\n",
       "      <td>37.478233</td>\n",
       "      <td>1.774427</td>\n",
       "      <td>-17.648151</td>\n",
       "      <td>32.929115</td>\n",
       "      <td>40.052484</td>\n",
       "    </tr>\n",
       "    <tr>\n",
       "      <th>2</th>\n",
       "      <td>Antpal</td>\n",
       "      <td>24.481353</td>\n",
       "      <td>1.180968</td>\n",
       "      <td>9.922187</td>\n",
       "      <td>49.176052</td>\n",
       "      <td>22.264376</td>\n",
       "      <td>31.074040</td>\n",
       "      <td>2.225043</td>\n",
       "      <td>-9.326721</td>\n",
       "      <td>26.911676</td>\n",
       "      <td>37.163160</td>\n",
       "    </tr>\n",
       "    <tr>\n",
       "      <th>3</th>\n",
       "      <td>Antpal</td>\n",
       "      <td>21.985593</td>\n",
       "      <td>2.133427</td>\n",
       "      <td>10.615288</td>\n",
       "      <td>47.155265</td>\n",
       "      <td>21.494085</td>\n",
       "      <td>29.988552</td>\n",
       "      <td>4.029702</td>\n",
       "      <td>-6.554913</td>\n",
       "      <td>25.661180</td>\n",
       "      <td>38.898737</td>\n",
       "    </tr>\n",
       "    <tr>\n",
       "      <th>4</th>\n",
       "      <td>Antpal</td>\n",
       "      <td>31.996077</td>\n",
       "      <td>0.014124</td>\n",
       "      <td>8.246364</td>\n",
       "      <td>61.109044</td>\n",
       "      <td>29.875009</td>\n",
       "      <td>40.815202</td>\n",
       "      <td>3.439792</td>\n",
       "      <td>-12.409399</td>\n",
       "      <td>31.234035</td>\n",
       "      <td>36.234372</td>\n",
       "    </tr>\n",
       "  </tbody>\n",
       "</table>\n",
       "</div>"
      ],
      "text/plain": [
       "      Spp         Fc        Sc        Dur       Fmax       Fmin         Fk  \\\n",
       "0  Antpal  29.682143  0.775573   6.677325  51.913985  29.563483  35.484384   \n",
       "1  Antpal  29.740707  2.098983   6.547622  62.085939  29.156824  37.478233   \n",
       "2  Antpal  24.481353  1.180968   9.922187  49.176052  22.264376  31.074040   \n",
       "3  Antpal  21.985593  2.133427  10.615288  47.155265  21.494085  29.988552   \n",
       "4  Antpal  31.996077  0.014124   8.246364  61.109044  29.875009  40.815202   \n",
       "\n",
       "         Tk         S1      BWDth      PkDur  \n",
       "0  1.896671 -13.261031  22.350502  42.456971  \n",
       "1  1.774427 -17.648151  32.929115  40.052484  \n",
       "2  2.225043  -9.326721  26.911676  37.163160  \n",
       "3  4.029702  -6.554913  25.661180  38.898737  \n",
       "4  3.439792 -12.409399  31.234035  36.234372  "
      ]
     },
     "execution_count": 14,
     "metadata": {},
     "output_type": "execute_result"
    }
   ],
   "source": [
    "mx_lib.head()"
   ]
  },
  {
   "cell_type": "code",
   "execution_count": 15,
   "metadata": {},
   "outputs": [
    {
     "name": "stdout",
     "output_type": "stream",
     "text": [
      "<class 'pandas.core.frame.DataFrame'>\n",
      "RangeIndex: 1585 entries, 0 to 1584\n",
      "Data columns (total 11 columns):\n",
      " #   Column  Non-Null Count  Dtype  \n",
      "---  ------  --------------  -----  \n",
      " 0   Spp     1585 non-null   object \n",
      " 1   Fc      1585 non-null   float64\n",
      " 2   Sc      1583 non-null   float64\n",
      " 3   Dur     1585 non-null   float64\n",
      " 4   Fmax    1585 non-null   float64\n",
      " 5   Fmin    1585 non-null   float64\n",
      " 6   Fk      1585 non-null   float64\n",
      " 7   Tk      1585 non-null   float64\n",
      " 8   S1      1583 non-null   float64\n",
      " 9   BWDth   1585 non-null   float64\n",
      " 10  PkDur   1585 non-null   float64\n",
      "dtypes: float64(10), object(1)\n",
      "memory usage: 136.3+ KB\n"
     ]
    }
   ],
   "source": [
    "mx_lib.info()"
   ]
  },
  {
   "cell_type": "code",
   "execution_count": 17,
   "metadata": {},
   "outputs": [
    {
     "data": {
      "text/plain": [
       "array(['Antpal', 'Cortow', 'Eptfus', 'Eumund', 'Lasblo', 'Lasnoc',\n",
       "       'Lasxan', 'Lepyer', 'Maccal', 'Myocal', 'Myothy', 'Myovel',\n",
       "       'Myovol', 'Myoyum', 'Nycfem', 'Piphes', 'Tadbra'], dtype=object)"
      ]
     },
     "execution_count": 17,
     "metadata": {},
     "output_type": "execute_result"
    }
   ],
   "source": [
    "#view unique species in species column\n",
    "mx_lib['Spp'].unique()"
   ]
  },
  {
   "cell_type": "code",
   "execution_count": 18,
   "metadata": {},
   "outputs": [
    {
     "data": {
      "text/plain": [
       "Piphes    100\n",
       "Tadbra    100\n",
       "Cortow    100\n",
       "Lasnoc    100\n",
       "Eptfus    100\n",
       "Myovol    100\n",
       "Myovel    100\n",
       "Myothy    100\n",
       "Myoyum    100\n",
       "Lasxan    100\n",
       "Lasblo    100\n",
       "Nycfem    100\n",
       "Antpal    100\n",
       "Myocal    100\n",
       "Lepyer    100\n",
       "Maccal     69\n",
       "Eumund     16\n",
       "Name: Spp, dtype: int64"
      ]
     },
     "execution_count": 18,
     "metadata": {},
     "output_type": "execute_result"
    }
   ],
   "source": [
    "mx_lib['Spp'].value_counts()"
   ]
  },
  {
   "cell_type": "code",
   "execution_count": 21,
   "metadata": {},
   "outputs": [
    {
     "data": {
      "text/plain": [
       "(array([ 0,  1,  2,  3,  4,  5,  6,  7,  8,  9, 10, 11, 12, 13, 14, 15, 16]),\n",
       " <a list of 17 Text major ticklabel objects>)"
      ]
     },
     "execution_count": 21,
     "metadata": {},
     "output_type": "execute_result"
    },
    {
     "data": {
      "image/png": "[encoded data removed]",
      "text/plain": [
       "<Figure size 864x432 with 1 Axes>"
      ]
     },
     "metadata": {
      "needs_background": "light"
     },
     "output_type": "display_data"
    }
   ],
   "source": [
    "#Box plot of Fc by species for Mexican library\n",
    "\n",
    "plt.subplots(figsize=(12,6))\n",
    "sns.boxplot(mx_lib['Spp'], mx_lib['Fc'])\n",
    "plt.xlabel('Species')\n",
    "plt.ylabel('Frequency')\n",
    "plt.title('Fc by species')\n",
    "plt.xticks(rotation=45)"
   ]
  },
  {
   "cell_type": "code",
   "execution_count": 22,
   "metadata": {},
   "outputs": [
    {
     "data": {
      "text/plain": [
       "(array([ 0,  1,  2,  3,  4,  5,  6,  7,  8,  9, 10, 11, 12, 13, 14, 15, 16]),\n",
       " <a list of 17 Text major ticklabel objects>)"
      ]
     },
     "execution_count": 22,
     "metadata": {},
     "output_type": "execute_result"
    },
    {
     "data": {
      "image/png": "[encoded data removed]",
      "text/plain": [
       "<Figure size 864x432 with 1 Axes>"
      ]
     },
     "metadata": {
      "needs_background": "light"
     },
     "output_type": "display_data"
    }
   ],
   "source": [
    "#boxplot of Fmax by species for Mexican library\n",
    "\n",
    "plt.subplots(figsize=(12,6))\n",
    "sns.boxplot(mx_lib['Spp'], mx_lib['Fmax'])\n",
    "plt.xlabel('Species')\n",
    "plt.ylabel('Frequency')\n",
    "plt.title('Fmax by species')\n",
    "plt.xticks(rotation=45)"
   ]
  },
  {
   "cell_type": "markdown",
   "metadata": {},
   "source": [
    "# Appending tr_lib and mx_lib"
   ]
  },
  {
   "cell_type": "code",
   "execution_count": 23,
   "metadata": {},
   "outputs": [
    {
     "data": {
      "text/plain": [
       "Index(['AUTO ID*', 'PULSES', 'MATCH RATIO', 'MARGIN', 'Fc', 'Sc', 'Dur',\n",
       "       'Fmax', 'Fmin', 'Fk', 'Tk', 'Tc', 'S1', 'BWDth', 'PkDur', 'COMP ID',\n",
       "       'Result'],\n",
       "      dtype='object')"
      ]
     },
     "execution_count": 23,
     "metadata": {},
     "output_type": "execute_result"
    }
   ],
   "source": [
    "tr_lib.columns"
   ]
  },
  {
   "cell_type": "code",
   "execution_count": 24,
   "metadata": {},
   "outputs": [
    {
     "data": {
      "text/plain": [
       "Index(['Spp', 'Fc', 'Sc', 'Dur', 'Fmax', 'Fmin', 'Fk', 'Tk', 'S1', 'BWDth',\n",
       "       'PkDur'],\n",
       "      dtype='object')"
      ]
     },
     "execution_count": 24,
     "metadata": {},
     "output_type": "execute_result"
    }
   ],
   "source": [
    "mx_lib.columns"
   ]
  },
  {
   "cell_type": "code",
   "execution_count": 25,
   "metadata": {},
   "outputs": [],
   "source": [
    "#Selecting columns in common between two libraries \n",
    "tr_libdf = tr_lib[['AUTO ID*', 'Fc', 'Sc', 'Dur', 'Fmax', 'Fmin', 'Fk', 'Tk', 'S1', 'BWDth', 'PkDur']]"
   ]
  },
  {
   "cell_type": "code",
   "execution_count": 27,
   "metadata": {},
   "outputs": [
    {
     "data": {
      "text/plain": [
       "Index(['AUTO ID*', 'Fc', 'Sc', 'Dur', 'Fmax', 'Fmin', 'Fk', 'Tk', 'S1',\n",
       "       'BWDth', 'PkDur'],\n",
       "      dtype='object')"
      ]
     },
     "execution_count": 27,
     "metadata": {},
     "output_type": "execute_result"
    }
   ],
   "source": [
    "tr_libdf.columns"
   ]
  },
  {
   "cell_type": "code",
   "execution_count": 28,
   "metadata": {},
   "outputs": [
    {
     "name": "stdout",
     "output_type": "stream",
     "text": [
      "Index(['Spp', 'Fc', 'Sc', 'Dur', 'Fmax', 'Fmin', 'Fk', 'Tk', 'S1', 'BWDth',\n",
      "       'PkDur'],\n",
      "      dtype='object')\n"
     ]
    }
   ],
   "source": [
    "#Rename AUTO ID* column as Spp for species.  Place columns in same order for both dataframes.\n",
    "tr_libdf.columns = ['Spp', 'Fc', 'Sc', 'Dur', 'Fmax', 'Fmin', 'Fk', 'Tk', 'S1', 'BWDth', 'PkDur']\n",
    "print(tr_libdf.columns)"
   ]
  },
  {
   "cell_type": "code",
   "execution_count": 31,
   "metadata": {},
   "outputs": [
    {
     "name": "stderr",
     "output_type": "stream",
     "text": [
      "<ipython-input-31-adbdb0e72dc4>:1: SettingWithCopyWarning: \n",
      "A value is trying to be set on a copy of a slice from a DataFrame.\n",
      "Try using .loc[row_indexer,col_indexer] = value instead\n",
      "\n",
      "See the caveats in the documentation: https://pandas.pydata.org/pandas-docs/stable/user_guide/indexing.html#returning-a-view-versus-a-copy\n",
      "  tr_libdf['Library'] = 'Truthed'\n"
     ]
    }
   ],
   "source": [
    "#Create column for name of library\n",
    "tr_libdf['Library'] = 'Truthed'"
   ]
  },
  {
   "cell_type": "code",
   "execution_count": 33,
   "metadata": {},
   "outputs": [],
   "source": [
    "#Create column for name of library\n",
    "mx_lib['Library'] = 'Mexico'"
   ]
  },
  {
   "cell_type": "code",
   "execution_count": 34,
   "metadata": {},
   "outputs": [
    {
     "data": {
      "text/html": [
       "<div>\n",
       "<style scoped>\n",
       "    .dataframe tbody tr th:only-of-type {\n",
       "        vertical-align: middle;\n",
       "    }\n",
       "\n",
       "    .dataframe tbody tr th {\n",
       "        vertical-align: top;\n",
       "    }\n",
       "\n",
       "    .dataframe thead th {\n",
       "        text-align: right;\n",
       "    }\n",
       "</style>\n",
       "<table border=\"1\" class=\"dataframe\">\n",
       "  <thead>\n",
       "    <tr style=\"text-align: right;\">\n",
       "      <th></th>\n",
       "      <th>Spp</th>\n",
       "      <th>Fc</th>\n",
       "      <th>Sc</th>\n",
       "      <th>Dur</th>\n",
       "      <th>Fmax</th>\n",
       "      <th>Fmin</th>\n",
       "      <th>Fk</th>\n",
       "      <th>Tk</th>\n",
       "      <th>S1</th>\n",
       "      <th>BWDth</th>\n",
       "      <th>PkDur</th>\n",
       "      <th>Library</th>\n",
       "    </tr>\n",
       "  </thead>\n",
       "  <tbody>\n",
       "    <tr>\n",
       "      <th>0</th>\n",
       "      <td>ANTPAL</td>\n",
       "      <td>32.032</td>\n",
       "      <td>84.83</td>\n",
       "      <td>3.601</td>\n",
       "      <td>43.750</td>\n",
       "      <td>31.157</td>\n",
       "      <td>35.004</td>\n",
       "      <td>2.090</td>\n",
       "      <td>326.50</td>\n",
       "      <td>12.593</td>\n",
       "      <td>35.545682</td>\n",
       "      <td>Truthed</td>\n",
       "    </tr>\n",
       "    <tr>\n",
       "      <th>1</th>\n",
       "      <td>ANTPAL</td>\n",
       "      <td>28.955</td>\n",
       "      <td>61.99</td>\n",
       "      <td>6.088</td>\n",
       "      <td>48.466</td>\n",
       "      <td>27.932</td>\n",
       "      <td>30.731</td>\n",
       "      <td>4.213</td>\n",
       "      <td>208.94</td>\n",
       "      <td>20.534</td>\n",
       "      <td>21.222076</td>\n",
       "      <td>Truthed</td>\n",
       "    </tr>\n",
       "    <tr>\n",
       "      <th>2</th>\n",
       "      <td>ANTPAL</td>\n",
       "      <td>29.955</td>\n",
       "      <td>68.58</td>\n",
       "      <td>2.948</td>\n",
       "      <td>39.362</td>\n",
       "      <td>29.800</td>\n",
       "      <td>31.430</td>\n",
       "      <td>1.990</td>\n",
       "      <td>297.09</td>\n",
       "      <td>9.562</td>\n",
       "      <td>30.800543</td>\n",
       "      <td>Truthed</td>\n",
       "    </tr>\n",
       "    <tr>\n",
       "      <th>3</th>\n",
       "      <td>ANTPAL</td>\n",
       "      <td>32.315</td>\n",
       "      <td>92.00</td>\n",
       "      <td>4.292</td>\n",
       "      <td>54.628</td>\n",
       "      <td>31.916</td>\n",
       "      <td>35.201</td>\n",
       "      <td>2.918</td>\n",
       "      <td>547.76</td>\n",
       "      <td>22.712</td>\n",
       "      <td>27.912395</td>\n",
       "      <td>Truthed</td>\n",
       "    </tr>\n",
       "    <tr>\n",
       "      <th>4</th>\n",
       "      <td>EPTFUS</td>\n",
       "      <td>35.502</td>\n",
       "      <td>31.02</td>\n",
       "      <td>6.288</td>\n",
       "      <td>46.429</td>\n",
       "      <td>34.205</td>\n",
       "      <td>37.141</td>\n",
       "      <td>3.196</td>\n",
       "      <td>332.20</td>\n",
       "      <td>12.224</td>\n",
       "      <td>33.699109</td>\n",
       "      <td>Truthed</td>\n",
       "    </tr>\n",
       "  </tbody>\n",
       "</table>\n",
       "</div>"
      ],
      "text/plain": [
       "      Spp      Fc     Sc    Dur    Fmax    Fmin      Fk     Tk      S1  \\\n",
       "0  ANTPAL  32.032  84.83  3.601  43.750  31.157  35.004  2.090  326.50   \n",
       "1  ANTPAL  28.955  61.99  6.088  48.466  27.932  30.731  4.213  208.94   \n",
       "2  ANTPAL  29.955  68.58  2.948  39.362  29.800  31.430  1.990  297.09   \n",
       "3  ANTPAL  32.315  92.00  4.292  54.628  31.916  35.201  2.918  547.76   \n",
       "4  EPTFUS  35.502  31.02  6.288  46.429  34.205  37.141  3.196  332.20   \n",
       "\n",
       "    BWDth      PkDur  Library  \n",
       "0  12.593  35.545682  Truthed  \n",
       "1  20.534  21.222076  Truthed  \n",
       "2   9.562  30.800543  Truthed  \n",
       "3  22.712  27.912395  Truthed  \n",
       "4  12.224  33.699109  Truthed  "
      ]
     },
     "execution_count": 34,
     "metadata": {},
     "output_type": "execute_result"
    }
   ],
   "source": [
    "tr_libdf.head()"
   ]
  },
  {
   "cell_type": "code",
   "execution_count": 35,
   "metadata": {},
   "outputs": [
    {
     "data": {
      "text/html": [
       "<div>\n",
       "<style scoped>\n",
       "    .dataframe tbody tr th:only-of-type {\n",
       "        vertical-align: middle;\n",
       "    }\n",
       "\n",
       "    .dataframe tbody tr th {\n",
       "        vertical-align: top;\n",
       "    }\n",
       "\n",
       "    .dataframe thead th {\n",
       "        text-align: right;\n",
       "    }\n",
       "</style>\n",
       "<table border=\"1\" class=\"dataframe\">\n",
       "  <thead>\n",
       "    <tr style=\"text-align: right;\">\n",
       "      <th></th>\n",
       "      <th>Spp</th>\n",
       "      <th>Fc</th>\n",
       "      <th>Sc</th>\n",
       "      <th>Dur</th>\n",
       "      <th>Fmax</th>\n",
       "      <th>Fmin</th>\n",
       "      <th>Fk</th>\n",
       "      <th>Tk</th>\n",
       "      <th>S1</th>\n",
       "      <th>BWDth</th>\n",
       "      <th>PkDur</th>\n",
       "      <th>Library</th>\n",
       "    </tr>\n",
       "  </thead>\n",
       "  <tbody>\n",
       "    <tr>\n",
       "      <th>0</th>\n",
       "      <td>Antpal</td>\n",
       "      <td>29.682143</td>\n",
       "      <td>0.775573</td>\n",
       "      <td>6.677325</td>\n",
       "      <td>51.913985</td>\n",
       "      <td>29.563483</td>\n",
       "      <td>35.484384</td>\n",
       "      <td>1.896671</td>\n",
       "      <td>-13.261031</td>\n",
       "      <td>22.350502</td>\n",
       "      <td>42.456971</td>\n",
       "      <td>Mexico</td>\n",
       "    </tr>\n",
       "    <tr>\n",
       "      <th>1</th>\n",
       "      <td>Antpal</td>\n",
       "      <td>29.740707</td>\n",
       "      <td>2.098983</td>\n",
       "      <td>6.547622</td>\n",
       "      <td>62.085939</td>\n",
       "      <td>29.156824</td>\n",
       "      <td>37.478233</td>\n",
       "      <td>1.774427</td>\n",
       "      <td>-17.648151</td>\n",
       "      <td>32.929115</td>\n",
       "      <td>40.052484</td>\n",
       "      <td>Mexico</td>\n",
       "    </tr>\n",
       "    <tr>\n",
       "      <th>2</th>\n",
       "      <td>Antpal</td>\n",
       "      <td>24.481353</td>\n",
       "      <td>1.180968</td>\n",
       "      <td>9.922187</td>\n",
       "      <td>49.176052</td>\n",
       "      <td>22.264376</td>\n",
       "      <td>31.074040</td>\n",
       "      <td>2.225043</td>\n",
       "      <td>-9.326721</td>\n",
       "      <td>26.911676</td>\n",
       "      <td>37.163160</td>\n",
       "      <td>Mexico</td>\n",
       "    </tr>\n",
       "    <tr>\n",
       "      <th>3</th>\n",
       "      <td>Antpal</td>\n",
       "      <td>21.985593</td>\n",
       "      <td>2.133427</td>\n",
       "      <td>10.615288</td>\n",
       "      <td>47.155265</td>\n",
       "      <td>21.494085</td>\n",
       "      <td>29.988552</td>\n",
       "      <td>4.029702</td>\n",
       "      <td>-6.554913</td>\n",
       "      <td>25.661180</td>\n",
       "      <td>38.898737</td>\n",
       "      <td>Mexico</td>\n",
       "    </tr>\n",
       "    <tr>\n",
       "      <th>4</th>\n",
       "      <td>Antpal</td>\n",
       "      <td>31.996077</td>\n",
       "      <td>0.014124</td>\n",
       "      <td>8.246364</td>\n",
       "      <td>61.109044</td>\n",
       "      <td>29.875009</td>\n",
       "      <td>40.815202</td>\n",
       "      <td>3.439792</td>\n",
       "      <td>-12.409399</td>\n",
       "      <td>31.234035</td>\n",
       "      <td>36.234372</td>\n",
       "      <td>Mexico</td>\n",
       "    </tr>\n",
       "  </tbody>\n",
       "</table>\n",
       "</div>"
      ],
      "text/plain": [
       "      Spp         Fc        Sc        Dur       Fmax       Fmin         Fk  \\\n",
       "0  Antpal  29.682143  0.775573   6.677325  51.913985  29.563483  35.484384   \n",
       "1  Antpal  29.740707  2.098983   6.547622  62.085939  29.156824  37.478233   \n",
       "2  Antpal  24.481353  1.180968   9.922187  49.176052  22.264376  31.074040   \n",
       "3  Antpal  21.985593  2.133427  10.615288  47.155265  21.494085  29.988552   \n",
       "4  Antpal  31.996077  0.014124   8.246364  61.109044  29.875009  40.815202   \n",
       "\n",
       "         Tk         S1      BWDth      PkDur Library  \n",
       "0  1.896671 -13.261031  22.350502  42.456971  Mexico  \n",
       "1  1.774427 -17.648151  32.929115  40.052484  Mexico  \n",
       "2  2.225043  -9.326721  26.911676  37.163160  Mexico  \n",
       "3  4.029702  -6.554913  25.661180  38.898737  Mexico  \n",
       "4  3.439792 -12.409399  31.234035  36.234372  Mexico  "
      ]
     },
     "execution_count": 35,
     "metadata": {},
     "output_type": "execute_result"
    }
   ],
   "source": [
    "mx_lib.head()"
   ]
  },
  {
   "cell_type": "code",
   "execution_count": 40,
   "metadata": {},
   "outputs": [
    {
     "data": {
      "text/plain": [
       "array([ True,  True,  True,  True,  True,  True,  True,  True,  True,\n",
       "        True,  True,  True])"
      ]
     },
     "execution_count": 40,
     "metadata": {},
     "output_type": "execute_result"
    }
   ],
   "source": [
    "#Determine if both dataframes have the same columns\n",
    "tr_libdf.columns == mx_lib.columns"
   ]
  },
  {
   "cell_type": "code",
   "execution_count": 42,
   "metadata": {},
   "outputs": [
    {
     "name": "stdout",
     "output_type": "stream",
     "text": [
      "      Spp      Fc     Sc    Dur    Fmax    Fmin      Fk     Tk      S1  \\\n",
      "0  ANTPAL  32.032  84.83  3.601  43.750  31.157  35.004  2.090  326.50   \n",
      "1  ANTPAL  28.955  61.99  6.088  48.466  27.932  30.731  4.213  208.94   \n",
      "2  ANTPAL  29.955  68.58  2.948  39.362  29.800  31.430  1.990  297.09   \n",
      "3  ANTPAL  32.315  92.00  4.292  54.628  31.916  35.201  2.918  547.76   \n",
      "4  EPTFUS  35.502  31.02  6.288  46.429  34.205  37.141  3.196  332.20   \n",
      "\n",
      "    BWDth      PkDur  Library  \n",
      "0  12.593  35.545682  Truthed  \n",
      "1  20.534  21.222076  Truthed  \n",
      "2   9.562  30.800543  Truthed  \n",
      "3  22.712  27.912395  Truthed  \n",
      "4  12.224  33.699109  Truthed  \n",
      "         Spp         Fc        Sc        Dur       Fmax       Fmin         Fk  \\\n",
      "1580  Tadbra  32.271564  0.910047   7.894287  49.518156  28.325091  34.814838   \n",
      "1581  Tadbra  31.108398  2.144716   7.370198  51.469041  28.772762  35.978255   \n",
      "1582  Tadbra  33.426946  1.192079  10.466146  45.085376  29.451755  37.904823   \n",
      "1583  Tadbra  30.836558  1.516720   6.784478  56.890935  28.651551  38.353728   \n",
      "1584  Tadbra  27.493696  1.939717   4.461175  47.962799  27.268846  28.973007   \n",
      "\n",
      "            Tk        S1      BWDth      PkDur Library  \n",
      "1580  3.207380 -3.112100  21.193065  45.435165  Mexico  \n",
      "1581  1.730147 -0.498197  22.696279  52.275380  Mexico  \n",
      "1582  3.297551 -1.158127  15.633621  23.792641  Mexico  \n",
      "1583  3.038546 -8.427613  28.239384  31.874395  Mexico  \n",
      "1584  3.746200 -4.007859  20.693953  87.372391  Mexico  \n"
     ]
    }
   ],
   "source": [
    "#combining both dataframes into one\n",
    "df = tr_libdf.append(mx_lib)\n",
    "print(df.head())\n",
    "print(df.tail())"
   ]
  },
  {
   "cell_type": "code",
   "execution_count": 43,
   "metadata": {},
   "outputs": [
    {
     "name": "stdout",
     "output_type": "stream",
     "text": [
      "<class 'pandas.core.frame.DataFrame'>\n",
      "Int64Index: 7434 entries, 0 to 1584\n",
      "Data columns (total 12 columns):\n",
      " #   Column   Non-Null Count  Dtype  \n",
      "---  ------   --------------  -----  \n",
      " 0   Spp      7434 non-null   object \n",
      " 1   Fc       7434 non-null   float64\n",
      " 2   Sc       7432 non-null   float64\n",
      " 3   Dur      7434 non-null   float64\n",
      " 4   Fmax     7434 non-null   float64\n",
      " 5   Fmin     7434 non-null   float64\n",
      " 6   Fk       7434 non-null   float64\n",
      " 7   Tk       7434 non-null   float64\n",
      " 8   S1       7432 non-null   float64\n",
      " 9   BWDth    7434 non-null   float64\n",
      " 10  PkDur    7434 non-null   float64\n",
      " 11  Library  7434 non-null   object \n",
      "dtypes: float64(10), object(2)\n",
      "memory usage: 755.0+ KB\n"
     ]
    }
   ],
   "source": [
    "df.info()"
   ]
  },
  {
   "cell_type": "code",
   "execution_count": 44,
   "metadata": {},
   "outputs": [
    {
     "data": {
      "text/plain": [
       "TADBRA    1893\n",
       "NoID      1615\n",
       "MYOYUM     739\n",
       "PARHES     543\n",
       "LASCIN     288\n",
       "LASNOC     263\n",
       "LASXAN     128\n",
       "EPTFUS     122\n",
       "Nycfem     100\n",
       "Lepyer     100\n",
       "Cortow     100\n",
       "Myovol     100\n",
       "Myoyum     100\n",
       "Lasxan     100\n",
       "Antpal     100\n",
       "Lasblo     100\n",
       "Myothy     100\n",
       "Tadbra     100\n",
       "Piphes     100\n",
       "Myovel     100\n",
       "Lasnoc     100\n",
       "Eptfus     100\n",
       "Myocal     100\n",
       "MYOCAL      82\n",
       "Maccal      69\n",
       "LASBLO      63\n",
       "EUMUND      34\n",
       "EUMPER      25\n",
       "Eumund      16\n",
       "NYCFEM      12\n",
       "MYOVOL       9\n",
       "MYOTHY       7\n",
       "MYOOCC       6\n",
       "NYCMAC       6\n",
       "MYOCIL       5\n",
       "ANTPAL       4\n",
       "MYOVEL       3\n",
       "MYOEVO       2\n",
       "Name: Spp, dtype: int64"
      ]
     },
     "execution_count": 44,
     "metadata": {},
     "output_type": "execute_result"
    }
   ],
   "source": [
    "df['Spp'].value_counts()"
   ]
  },
  {
   "cell_type": "code",
   "execution_count": 47,
   "metadata": {},
   "outputs": [],
   "source": [
    "#Make all species abreviations uppercase\n",
    "\n",
    "df['Spp']  = df['Spp'].str.upper()"
   ]
  },
  {
   "cell_type": "code",
   "execution_count": 48,
   "metadata": {},
   "outputs": [
    {
     "data": {
      "text/plain": [
       "TADBRA    1993\n",
       "NOID      1615\n",
       "MYOYUM     839\n",
       "PARHES     543\n",
       "LASNOC     363\n",
       "LASCIN     288\n",
       "LASXAN     228\n",
       "EPTFUS     222\n",
       "MYOCAL     182\n",
       "LASBLO     163\n",
       "NYCFEM     112\n",
       "MYOVOL     109\n",
       "MYOTHY     107\n",
       "ANTPAL     104\n",
       "MYOVEL     103\n",
       "CORTOW     100\n",
       "LEPYER     100\n",
       "PIPHES     100\n",
       "MACCAL      69\n",
       "EUMUND      50\n",
       "EUMPER      25\n",
       "MYOOCC       6\n",
       "NYCMAC       6\n",
       "MYOCIL       5\n",
       "MYOEVO       2\n",
       "Name: Spp, dtype: int64"
      ]
     },
     "execution_count": 48,
     "metadata": {},
     "output_type": "execute_result"
    }
   ],
   "source": [
    "df['Spp'].value_counts()"
   ]
  },
  {
   "cell_type": "code",
   "execution_count": 49,
   "metadata": {},
   "outputs": [],
   "source": [
    "#Change PIPHES to updated scientific name PARHES\n",
    "df['Spp'] = df['Spp'].replace('PIPHES', 'PARHES')"
   ]
  },
  {
   "cell_type": "code",
   "execution_count": 50,
   "metadata": {},
   "outputs": [
    {
     "data": {
      "text/plain": [
       "TADBRA    1993\n",
       "NOID      1615\n",
       "MYOYUM     839\n",
       "PARHES     643\n",
       "LASNOC     363\n",
       "LASCIN     288\n",
       "LASXAN     228\n",
       "EPTFUS     222\n",
       "MYOCAL     182\n",
       "LASBLO     163\n",
       "NYCFEM     112\n",
       "MYOVOL     109\n",
       "MYOTHY     107\n",
       "ANTPAL     104\n",
       "MYOVEL     103\n",
       "CORTOW     100\n",
       "LEPYER     100\n",
       "MACCAL      69\n",
       "EUMUND      50\n",
       "EUMPER      25\n",
       "MYOOCC       6\n",
       "NYCMAC       6\n",
       "MYOCIL       5\n",
       "MYOEVO       2\n",
       "Name: Spp, dtype: int64"
      ]
     },
     "execution_count": 50,
     "metadata": {},
     "output_type": "execute_result"
    }
   ],
   "source": [
    "df['Spp'].value_counts()"
   ]
  },
  {
   "cell_type": "code",
   "execution_count": 51,
   "metadata": {},
   "outputs": [
    {
     "data": {
      "text/plain": [
       "24"
      ]
     },
     "execution_count": 51,
     "metadata": {},
     "output_type": "execute_result"
    }
   ],
   "source": [
    "#Total number of species in df\n",
    "len(df['Spp'].unique())"
   ]
  },
  {
   "cell_type": "code",
   "execution_count": 53,
   "metadata": {},
   "outputs": [
    {
     "data": {
      "text/plain": [
       "(array([ 0,  1,  2,  3,  4,  5,  6,  7,  8,  9, 10, 11, 12, 13, 14, 15, 16,\n",
       "        17, 18, 19, 20, 21, 22, 23]),\n",
       " <a list of 24 Text major ticklabel objects>)"
      ]
     },
     "execution_count": 53,
     "metadata": {},
     "output_type": "execute_result"
    },
    {
     "data": {
      "image/png": "[encoded data removed]",
      "text/plain": [
       "<Figure size 864x432 with 1 Axes>"
      ]
     },
     "metadata": {
      "needs_background": "light"
     },
     "output_type": "display_data"
    }
   ],
   "source": [
    "plt.subplots(figsize=(12,6))\n",
    "sns.boxplot(df['Spp'], df['Fc'], hue = df['Library'])\n",
    "plt.xlabel('Species')\n",
    "plt.ylabel('Frequency')\n",
    "plt.title('Fc by species')\n",
    "plt.xticks(rotation=45)"
   ]
  },
  {
   "cell_type": "code",
   "execution_count": 54,
   "metadata": {},
   "outputs": [
    {
     "data": {
      "text/plain": [
       "(array([ 0,  1,  2,  3,  4,  5,  6,  7,  8,  9, 10, 11, 12, 13, 14, 15, 16,\n",
       "        17, 18, 19, 20, 21, 22, 23]),\n",
       " <a list of 24 Text major ticklabel objects>)"
      ]
     },
     "execution_count": 54,
     "metadata": {},
     "output_type": "execute_result"
    },
    {
     "data": {
      "image/png": "[encoded data removed]",
      "text/plain": [
       "<Figure size 864x432 with 1 Axes>"
      ]
     },
     "metadata": {
      "needs_background": "light"
     },
     "output_type": "display_data"
    }
   ],
   "source": [
    "plt.subplots(figsize=(12,6))\n",
    "sns.boxplot(df['Spp'], df['PkDur'], hue = df['Library'])\n",
    "plt.xlabel('Species')\n",
    "plt.ylabel('Milliseconds')\n",
    "plt.title('PkDur by species')\n",
    "plt.xticks(rotation=45)"
   ]
  },
  {
   "cell_type": "code",
   "execution_count": null,
   "metadata": {},
   "outputs": [],
   "source": []
  }
 ],
 "metadata": {
  "kernelspec": {
   "display_name": "Python 3",
   "language": "python",
   "name": "python3"
  },
  "language_info": {
   "codemirror_mode": {
    "name": "ipython",
    "version": 3
   },
   "file_extension": ".py",
   "mimetype": "text/x-python",
   "name": "python",
   "nbconvert_exporter": "python",
   "pygments_lexer": "ipython3",
   "version": "3.8.3"
  }
 },
 "nbformat": 4,
 "nbformat_minor": 4
}
