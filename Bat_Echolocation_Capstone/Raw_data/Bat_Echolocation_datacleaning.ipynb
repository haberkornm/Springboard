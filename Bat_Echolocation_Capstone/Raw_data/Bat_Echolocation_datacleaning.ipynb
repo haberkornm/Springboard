{
 "cells": [
  {
   "cell_type": "code",
   "execution_count": 1,
   "metadata": {},
   "outputs": [],
   "source": [
    "import pandas as pd"
   ]
  },
  {
   "cell_type": "code",
   "execution_count": 2,
   "metadata": {},
   "outputs": [],
   "source": [
    "#Load csv containing my library of bat calls\n",
    "rawdf = pd.read_csv('haberkornlibrary.csv')"
   ]
  },
  {
   "cell_type": "code",
   "execution_count": 3,
   "metadata": {},
   "outputs": [
    {
     "data": {
      "text/plain": [
       "Index(['INDIR', 'OUTDIR', 'FOLDER', 'IN FILE', 'CHANNEL', 'OFFSET', 'DURATION',\n",
       "       'OUT FILE FS', 'OUT FILE ZC', 'DATE', 'TIME', 'HOUR', 'DATE-12',\n",
       "       'TIME-12', 'HOUR-12', 'AUTO ID*', 'PULSES', 'MATCHING', 'MATCH RATIO',\n",
       "       'MARGIN', 'ALTERNATE 1', 'ALTERNATE 2', 'N', 'Fc', 'Sc', 'Dur', 'Fmax',\n",
       "       'Fmin', 'Fmean', 'TBC', 'Fk', 'Tk', 'S1', 'Tc', 'Qual', 'FILES',\n",
       "       'MANUAL ID', 'ORGID', 'USERID', 'REVIEW ORGID', 'REVIEW USERID',\n",
       "       'INPATHMD5', 'OUTPATHMD5FS', 'OUTPATHMD5ZC'],\n",
       "      dtype='object')"
      ]
     },
     "execution_count": 3,
     "metadata": {},
     "output_type": "execute_result"
    }
   ],
   "source": [
    "rawdf.columns"
   ]
  },
  {
   "cell_type": "code",
   "execution_count": 4,
   "metadata": {},
   "outputs": [
    {
     "data": {
      "text/plain": [
       "(4366, 44)"
      ]
     },
     "execution_count": 4,
     "metadata": {},
     "output_type": "execute_result"
    }
   ],
   "source": [
    "rawdf.shape"
   ]
  },
  {
   "cell_type": "code",
   "execution_count": 5,
   "metadata": {},
   "outputs": [
    {
     "name": "stdout",
     "output_type": "stream",
     "text": [
      "  AUTO ID*  PULSES  MATCH RATIO    MARGIN      Fc      Sc    Dur    Fmax  \\\n",
      "0   ANTPAL    84.0        0.405  0.115610  34.398  100.16  4.531  61.385   \n",
      "1   ANTPAL    47.0        0.404  0.134245  31.921   60.16  4.705  50.442   \n",
      "2   ANTPAL    39.0        0.436  0.125273  37.542   85.40  5.815  59.703   \n",
      "3   CORTOW     8.0        1.000  0.819184  32.611  129.86  2.517  39.068   \n",
      "4   EPTFUS    42.0        0.667  0.332389  29.837   38.90  6.799  47.328   \n",
      "\n",
      "     Fmin      Fk     Tk     Tc      S1  \n",
      "0  33.315  36.758  3.281  4.244  449.37  \n",
      "1  31.128  33.465  3.509  4.386  385.39  \n",
      "2  35.288  40.107  3.772  5.028  242.96  \n",
      "3  27.399  36.423  0.491  1.406  243.54  \n",
      "4  28.696  31.290  4.427  6.073  301.72  \n"
     ]
    }
   ],
   "source": [
    "#Make dataframe with appropriate columns\n",
    "rawdf = rawdf[['AUTO ID*', 'PULSES', 'MATCH RATIO', 'MARGIN', 'Fc', 'Sc', 'Dur', 'Fmax', 'Fmin', 'Fk', 'Tk', 'Tc', 'S1']]\n",
    "print(rawdf.head())"
   ]
  },
  {
   "cell_type": "code",
   "execution_count": 6,
   "metadata": {},
   "outputs": [],
   "source": [
    "#Add column for bandwidth of call.  Bandwidth is the difference between the maximum and minimum frequency of the call.\n",
    "rawdf['BWDth'] = rawdf['Fmax'] - rawdf['Fmin']\n",
    "\n",
    "#Add column for percent of call that contains the main body of the call.\n",
    "rawdf['PkDur'] = ((rawdf['Tc'] - rawdf['Tk']) / rawdf['Dur']) * 100"
   ]
  },
  {
   "cell_type": "code",
   "execution_count": 7,
   "metadata": {},
   "outputs": [
    {
     "name": "stdout",
     "output_type": "stream",
     "text": [
      "  AUTO ID*  PULSES  MATCH RATIO    MARGIN      Fc      Sc    Dur    Fmax  \\\n",
      "0   ANTPAL    84.0        0.405  0.115610  34.398  100.16  4.531  61.385   \n",
      "1   ANTPAL    47.0        0.404  0.134245  31.921   60.16  4.705  50.442   \n",
      "2   ANTPAL    39.0        0.436  0.125273  37.542   85.40  5.815  59.703   \n",
      "3   CORTOW     8.0        1.000  0.819184  32.611  129.86  2.517  39.068   \n",
      "4   EPTFUS    42.0        0.667  0.332389  29.837   38.90  6.799  47.328   \n",
      "\n",
      "     Fmin      Fk     Tk     Tc      S1   BWDth      PkDur  \n",
      "0  33.315  36.758  3.281  4.244  449.37  28.070  21.253586  \n",
      "1  31.128  33.465  3.509  4.386  385.39  19.314  18.639745  \n",
      "2  35.288  40.107  3.772  5.028  242.96  24.415  21.599312  \n",
      "3  27.399  36.423  0.491  1.406  243.54  11.669  36.352801  \n",
      "4  28.696  31.290  4.427  6.073  301.72  18.632  24.209443  \n"
     ]
    }
   ],
   "source": [
    "print(rawdf.head())"
   ]
  },
  {
   "cell_type": "code",
   "execution_count": 8,
   "metadata": {},
   "outputs": [
    {
     "data": {
      "text/plain": [
       "Noise     3625\n",
       "NoID       310\n",
       "TADBRA      96\n",
       "MYOCIL      74\n",
       "LASXAN      60\n",
       "LASCIN      51\n",
       "EPTFUS      47\n",
       "LASNOC      30\n",
       "PARHES      25\n",
       "NYCFEM      20\n",
       "LASBLO       6\n",
       "MYOVEL       5\n",
       "MYOCAL       4\n",
       "ANTPAL       3\n",
       "NYCMAC       3\n",
       "EUMUND       2\n",
       "MYOVOL       2\n",
       "MYOOCC       2\n",
       "CORTOW       1\n",
       "Name: AUTO ID*, dtype: int64"
      ]
     },
     "execution_count": 8,
     "metadata": {},
     "output_type": "execute_result"
    }
   ],
   "source": [
    "rawdf['AUTO ID*'].value_counts()"
   ]
  },
  {
   "cell_type": "code",
   "execution_count": 9,
   "metadata": {},
   "outputs": [],
   "source": [
    "#Drop noise data from call library\n",
    "noise_index = rawdf[rawdf['AUTO ID*'] == 'Noise'].index\n",
    "rawdf.drop(noise_index, inplace = True)"
   ]
  },
  {
   "cell_type": "code",
   "execution_count": 10,
   "metadata": {},
   "outputs": [],
   "source": [
    "#Filtering out low quality recordings \n",
    "match_index = rawdf[rawdf['MATCH RATIO'] < 0.4].index\n",
    "rawdf.drop(match_index, inplace = True)"
   ]
  },
  {
   "cell_type": "code",
   "execution_count": 11,
   "metadata": {},
   "outputs": [
    {
     "data": {
      "text/plain": [
       "TADBRA    58\n",
       "LASXAN    54\n",
       "MYOCIL    49\n",
       "LASCIN    46\n",
       "LASNOC    29\n",
       "PARHES    24\n",
       "NYCFEM    20\n",
       "EPTFUS    18\n",
       "LASBLO     5\n",
       "MYOCAL     4\n",
       "MYOVEL     3\n",
       "ANTPAL     3\n",
       "NYCMAC     3\n",
       "MYOOCC     1\n",
       "CORTOW     1\n",
       "MYOVOL     1\n",
       "Name: AUTO ID*, dtype: int64"
      ]
     },
     "execution_count": 11,
     "metadata": {},
     "output_type": "execute_result"
    }
   ],
   "source": [
    "rawdf['AUTO ID*'].value_counts()"
   ]
  },
  {
   "cell_type": "code",
   "execution_count": 12,
   "metadata": {},
   "outputs": [
    {
     "data": {
      "text/plain": [
       "(319, 15)"
      ]
     },
     "execution_count": 12,
     "metadata": {},
     "output_type": "execute_result"
    }
   ],
   "source": [
    "rawdf.shape"
   ]
  },
  {
   "cell_type": "code",
   "execution_count": 13,
   "metadata": {},
   "outputs": [],
   "source": [
    "#Load excel file of Mexican bat call library\n",
    "\n",
    "raw2 = pd.ExcelFile('Mexicolibrary.xlsx')"
   ]
  },
  {
   "cell_type": "code",
   "execution_count": 14,
   "metadata": {},
   "outputs": [
    {
     "data": {
      "text/plain": [
       "['Classifier1', 'Classifier2', 'Classifier3', 'Classifier4']"
      ]
     },
     "execution_count": 14,
     "metadata": {},
     "output_type": "execute_result"
    }
   ],
   "source": [
    "raw2.sheet_names"
   ]
  },
  {
   "cell_type": "code",
   "execution_count": 15,
   "metadata": {},
   "outputs": [
    {
     "data": {
      "text/html": [
       "<div>\n",
       "<style scoped>\n",
       "    .dataframe tbody tr th:only-of-type {\n",
       "        vertical-align: middle;\n",
       "    }\n",
       "\n",
       "    .dataframe tbody tr th {\n",
       "        vertical-align: top;\n",
       "    }\n",
       "\n",
       "    .dataframe thead th {\n",
       "        text-align: right;\n",
       "    }\n",
       "</style>\n",
       "<table border=\"1\" class=\"dataframe\">\n",
       "  <thead>\n",
       "    <tr style=\"text-align: right;\">\n",
       "      <th></th>\n",
       "      <th>Folds</th>\n",
       "      <th>File</th>\n",
       "      <th>Owner</th>\n",
       "      <th>Family</th>\n",
       "      <th>Genus</th>\n",
       "      <th>Spp</th>\n",
       "      <th>Guild</th>\n",
       "      <th>Country</th>\n",
       "      <th>Quality</th>\n",
       "      <th>CallDuration</th>\n",
       "      <th>...</th>\n",
       "      <th>AmpK.end</th>\n",
       "      <th>AmpKurtosis</th>\n",
       "      <th>AmpSkew</th>\n",
       "      <th>AmpVariance</th>\n",
       "      <th>AmpMoment</th>\n",
       "      <th>AmpGausR2</th>\n",
       "      <th>HiFminusStartF</th>\n",
       "      <th>FcMinusEndF</th>\n",
       "      <th>RelPwr2ndTo1st</th>\n",
       "      <th>RelPwr3rdTo1st</th>\n",
       "    </tr>\n",
       "  </thead>\n",
       "  <tbody>\n",
       "    <tr>\n",
       "      <th>0</th>\n",
       "      <td>4</td>\n",
       "      <td>Anogeo-456-Maple_M00012</td>\n",
       "      <td>VZG</td>\n",
       "      <td>Phyllostomidae</td>\n",
       "      <td>Anoura</td>\n",
       "      <td>Anogeo</td>\n",
       "      <td>6</td>\n",
       "      <td>Mexico</td>\n",
       "      <td>0.434226</td>\n",
       "      <td>2.503670</td>\n",
       "      <td>...</td>\n",
       "      <td>6.150363</td>\n",
       "      <td>2.451373</td>\n",
       "      <td>-0.529526</td>\n",
       "      <td>0.010571</td>\n",
       "      <td>0.010490</td>\n",
       "      <td>0.831160</td>\n",
       "      <td>0.0</td>\n",
       "      <td>2.154368</td>\n",
       "      <td>0.298995</td>\n",
       "      <td>0.241145</td>\n",
       "    </tr>\n",
       "    <tr>\n",
       "      <th>1</th>\n",
       "      <td>4</td>\n",
       "      <td>Anogeo-456-Maple_M00012</td>\n",
       "      <td>VZG</td>\n",
       "      <td>Phyllostomidae</td>\n",
       "      <td>Anoura</td>\n",
       "      <td>Anogeo</td>\n",
       "      <td>6</td>\n",
       "      <td>Mexico</td>\n",
       "      <td>0.519223</td>\n",
       "      <td>2.547593</td>\n",
       "      <td>...</td>\n",
       "      <td>5.633335</td>\n",
       "      <td>2.100453</td>\n",
       "      <td>-0.385202</td>\n",
       "      <td>0.015818</td>\n",
       "      <td>0.015703</td>\n",
       "      <td>0.786119</td>\n",
       "      <td>0.0</td>\n",
       "      <td>4.185747</td>\n",
       "      <td>0.243366</td>\n",
       "      <td>0.231044</td>\n",
       "    </tr>\n",
       "    <tr>\n",
       "      <th>2</th>\n",
       "      <td>4</td>\n",
       "      <td>Anogeo-456-Maple_M00012</td>\n",
       "      <td>VZG</td>\n",
       "      <td>Phyllostomidae</td>\n",
       "      <td>Anoura</td>\n",
       "      <td>Anogeo</td>\n",
       "      <td>6</td>\n",
       "      <td>Mexico</td>\n",
       "      <td>0.631567</td>\n",
       "      <td>2.312634</td>\n",
       "      <td>...</td>\n",
       "      <td>7.589906</td>\n",
       "      <td>2.002653</td>\n",
       "      <td>-0.589580</td>\n",
       "      <td>0.021116</td>\n",
       "      <td>0.020946</td>\n",
       "      <td>0.987820</td>\n",
       "      <td>0.0</td>\n",
       "      <td>5.651484</td>\n",
       "      <td>0.166177</td>\n",
       "      <td>0.169072</td>\n",
       "    </tr>\n",
       "    <tr>\n",
       "      <th>3</th>\n",
       "      <td>4</td>\n",
       "      <td>Anogeo-456-Maple_M00012</td>\n",
       "      <td>VZG</td>\n",
       "      <td>Phyllostomidae</td>\n",
       "      <td>Anoura</td>\n",
       "      <td>Anogeo</td>\n",
       "      <td>6</td>\n",
       "      <td>Mexico</td>\n",
       "      <td>0.367486</td>\n",
       "      <td>2.233911</td>\n",
       "      <td>...</td>\n",
       "      <td>10.733286</td>\n",
       "      <td>1.874619</td>\n",
       "      <td>-0.580224</td>\n",
       "      <td>0.010325</td>\n",
       "      <td>0.010238</td>\n",
       "      <td>0.849326</td>\n",
       "      <td>0.0</td>\n",
       "      <td>2.085766</td>\n",
       "      <td>0.365763</td>\n",
       "      <td>0.128119</td>\n",
       "    </tr>\n",
       "    <tr>\n",
       "      <th>4</th>\n",
       "      <td>4</td>\n",
       "      <td>Anogeo-456-Maple_M00012</td>\n",
       "      <td>VZG</td>\n",
       "      <td>Phyllostomidae</td>\n",
       "      <td>Anoura</td>\n",
       "      <td>Anogeo</td>\n",
       "      <td>6</td>\n",
       "      <td>Mexico</td>\n",
       "      <td>0.590776</td>\n",
       "      <td>1.625190</td>\n",
       "      <td>...</td>\n",
       "      <td>8.439277</td>\n",
       "      <td>1.710580</td>\n",
       "      <td>0.189370</td>\n",
       "      <td>0.018930</td>\n",
       "      <td>0.018697</td>\n",
       "      <td>0.807531</td>\n",
       "      <td>0.0</td>\n",
       "      <td>1.871421</td>\n",
       "      <td>0.341701</td>\n",
       "      <td>0.000000</td>\n",
       "    </tr>\n",
       "  </tbody>\n",
       "</table>\n",
       "<p>5 rows × 81 columns</p>\n",
       "</div>"
      ],
      "text/plain": [
       "   Folds                     File Owner          Family   Genus     Spp  \\\n",
       "0      4  Anogeo-456-Maple_M00012   VZG  Phyllostomidae  Anoura  Anogeo   \n",
       "1      4  Anogeo-456-Maple_M00012   VZG  Phyllostomidae  Anoura  Anogeo   \n",
       "2      4  Anogeo-456-Maple_M00012   VZG  Phyllostomidae  Anoura  Anogeo   \n",
       "3      4  Anogeo-456-Maple_M00012   VZG  Phyllostomidae  Anoura  Anogeo   \n",
       "4      4  Anogeo-456-Maple_M00012   VZG  Phyllostomidae  Anoura  Anogeo   \n",
       "\n",
       "   Guild Country   Quality  CallDuration  ...   AmpK.end  AmpKurtosis  \\\n",
       "0      6  Mexico  0.434226      2.503670  ...   6.150363     2.451373   \n",
       "1      6  Mexico  0.519223      2.547593  ...   5.633335     2.100453   \n",
       "2      6  Mexico  0.631567      2.312634  ...   7.589906     2.002653   \n",
       "3      6  Mexico  0.367486      2.233911  ...  10.733286     1.874619   \n",
       "4      6  Mexico  0.590776      1.625190  ...   8.439277     1.710580   \n",
       "\n",
       "    AmpSkew  AmpVariance  AmpMoment  AmpGausR2  HiFminusStartF  FcMinusEndF  \\\n",
       "0 -0.529526     0.010571   0.010490   0.831160             0.0     2.154368   \n",
       "1 -0.385202     0.015818   0.015703   0.786119             0.0     4.185747   \n",
       "2 -0.589580     0.021116   0.020946   0.987820             0.0     5.651484   \n",
       "3 -0.580224     0.010325   0.010238   0.849326             0.0     2.085766   \n",
       "4  0.189370     0.018930   0.018697   0.807531             0.0     1.871421   \n",
       "\n",
       "   RelPwr2ndTo1st  RelPwr3rdTo1st  \n",
       "0        0.298995        0.241145  \n",
       "1        0.243366        0.231044  \n",
       "2        0.166177        0.169072  \n",
       "3        0.365763        0.128119  \n",
       "4        0.341701        0.000000  \n",
       "\n",
       "[5 rows x 81 columns]"
      ]
     },
     "execution_count": 15,
     "metadata": {},
     "output_type": "execute_result"
    }
   ],
   "source": [
    "#Parse single excel sheet for dataframe\n",
    "\n",
    "rawdf2 = raw2.parse('Classifier1')\n",
    "\n",
    "rawdf2.head()"
   ]
  },
  {
   "cell_type": "code",
   "execution_count": 16,
   "metadata": {},
   "outputs": [
    {
     "data": {
      "text/plain": [
       "(4685, 81)"
      ]
     },
     "execution_count": 16,
     "metadata": {},
     "output_type": "execute_result"
    }
   ],
   "source": [
    "rawdf2.shape"
   ]
  },
  {
   "cell_type": "code",
   "execution_count": 17,
   "metadata": {},
   "outputs": [
    {
     "data": {
      "text/plain": [
       "Index(['Folds', 'File', 'Owner', 'Family', 'Genus', 'Spp', 'Guild', 'Country',\n",
       "       'Quality', 'CallDuration', 'Fc', 'HiFreq', 'LowFreq', 'Bndwdth',\n",
       "       'FreqMaxPwr', 'PrcntMaxAmpDur', 'TimeFromMaxToFc', 'FreqKnee',\n",
       "       'PrcntKneeDur', 'StartF', 'EndF', 'DominantSlope', 'SlopeAtFc',\n",
       "       'StartSlope', 'EndSlope', 'SteepestSlope', 'LowestSlope', 'TotalSlope',\n",
       "       'HiFtoKnSlope', 'KneeToFcSlope', 'CummNmlzdSlp', 'HiFtoFcExpAmp',\n",
       "       'HiFtoFcDmp', 'KnToFcExpAmp', 'KnToFcDmp', 'HiFtoKnExpAmp',\n",
       "       'HiFtoKnDmp', 'FreqLedge', 'LedgeDuration', 'FreqCtr', 'FBak32dB',\n",
       "       'FFwd32dB', 'FBak20dB', 'FFwd20dB', 'FBak15dB', 'FFwd15dB', 'FBak5dB',\n",
       "       'FFwd5dB', 'Bndw32dB', 'Bndw20dB', 'Bndw15dB', 'Bndw5dB', 'DurOf32dB',\n",
       "       'DurOf20dB', 'DurOf15dB', 'DurOf5dB', 'Amp1stQrtl', 'Amp2ndQrtl',\n",
       "       'Amp3rdQrtl', 'Amp4thQrtl', 'Amp1stMean', 'Amp2ndMean', 'Amp3rdMean',\n",
       "       'Amp4thMean', 'LnExpA_StartAmp', 'LnExpB_StartAmp', 'AmpStartLn60ExpC',\n",
       "       'LnExpA_EndAmp', 'LnExpB_EndAmp', 'AmpEndLn60ExpC', 'AmpK.start',\n",
       "       'AmpK.end', 'AmpKurtosis', 'AmpSkew', 'AmpVariance', 'AmpMoment',\n",
       "       'AmpGausR2', 'HiFminusStartF', 'FcMinusEndF', 'RelPwr2ndTo1st',\n",
       "       'RelPwr3rdTo1st'],\n",
       "      dtype='object')"
      ]
     },
     "execution_count": 17,
     "metadata": {},
     "output_type": "execute_result"
    }
   ],
   "source": [
    "rawdf2.columns"
   ]
  },
  {
   "cell_type": "code",
   "execution_count": 18,
   "metadata": {},
   "outputs": [],
   "source": [
    "#Putting together columns to match rawdf\n",
    "\n",
    "rawdf2 = rawdf2[['Spp', 'Fc', 'SlopeAtFc', 'CallDuration', 'HiFreq', 'LowFreq', 'FreqKnee', 'TimeFromMaxToFc', 'StartSlope', 'Bndwdth', 'PrcntKneeDur']]"
   ]
  },
  {
   "cell_type": "code",
   "execution_count": 19,
   "metadata": {},
   "outputs": [
    {
     "data": {
      "text/html": [
       "<div>\n",
       "<style scoped>\n",
       "    .dataframe tbody tr th:only-of-type {\n",
       "        vertical-align: middle;\n",
       "    }\n",
       "\n",
       "    .dataframe tbody tr th {\n",
       "        vertical-align: top;\n",
       "    }\n",
       "\n",
       "    .dataframe thead th {\n",
       "        text-align: right;\n",
       "    }\n",
       "</style>\n",
       "<table border=\"1\" class=\"dataframe\">\n",
       "  <thead>\n",
       "    <tr style=\"text-align: right;\">\n",
       "      <th></th>\n",
       "      <th>Spp</th>\n",
       "      <th>Fc</th>\n",
       "      <th>SlopeAtFc</th>\n",
       "      <th>CallDuration</th>\n",
       "      <th>HiFreq</th>\n",
       "      <th>LowFreq</th>\n",
       "      <th>FreqKnee</th>\n",
       "      <th>TimeFromMaxToFc</th>\n",
       "      <th>StartSlope</th>\n",
       "      <th>Bndwdth</th>\n",
       "      <th>PrcntKneeDur</th>\n",
       "    </tr>\n",
       "  </thead>\n",
       "  <tbody>\n",
       "    <tr>\n",
       "      <th>0</th>\n",
       "      <td>Anogeo</td>\n",
       "      <td>69.618386</td>\n",
       "      <td>12.657634</td>\n",
       "      <td>2.503670</td>\n",
       "      <td>109.488419</td>\n",
       "      <td>67.464018</td>\n",
       "      <td>81.747286</td>\n",
       "      <td>0.756463</td>\n",
       "      <td>-29.635308</td>\n",
       "      <td>42.024402</td>\n",
       "      <td>50.579266</td>\n",
       "    </tr>\n",
       "    <tr>\n",
       "      <th>1</th>\n",
       "      <td>Anogeo</td>\n",
       "      <td>68.805459</td>\n",
       "      <td>13.402673</td>\n",
       "      <td>2.547593</td>\n",
       "      <td>109.014483</td>\n",
       "      <td>64.619712</td>\n",
       "      <td>80.822997</td>\n",
       "      <td>0.893621</td>\n",
       "      <td>-37.794947</td>\n",
       "      <td>44.394771</td>\n",
       "      <td>47.608501</td>\n",
       "    </tr>\n",
       "    <tr>\n",
       "      <th>2</th>\n",
       "      <td>Anogeo</td>\n",
       "      <td>70.297715</td>\n",
       "      <td>15.542078</td>\n",
       "      <td>2.312634</td>\n",
       "      <td>109.447511</td>\n",
       "      <td>64.646231</td>\n",
       "      <td>83.699015</td>\n",
       "      <td>0.734879</td>\n",
       "      <td>-33.103609</td>\n",
       "      <td>44.801280</td>\n",
       "      <td>43.624168</td>\n",
       "    </tr>\n",
       "    <tr>\n",
       "      <th>3</th>\n",
       "      <td>Anogeo</td>\n",
       "      <td>71.891085</td>\n",
       "      <td>13.028367</td>\n",
       "      <td>2.233911</td>\n",
       "      <td>113.408873</td>\n",
       "      <td>69.805319</td>\n",
       "      <td>84.027946</td>\n",
       "      <td>1.069576</td>\n",
       "      <td>-41.348016</td>\n",
       "      <td>43.603553</td>\n",
       "      <td>49.564504</td>\n",
       "    </tr>\n",
       "    <tr>\n",
       "      <th>4</th>\n",
       "      <td>Anogeo</td>\n",
       "      <td>73.410948</td>\n",
       "      <td>13.648997</td>\n",
       "      <td>1.625190</td>\n",
       "      <td>107.204335</td>\n",
       "      <td>71.539526</td>\n",
       "      <td>82.883904</td>\n",
       "      <td>0.842277</td>\n",
       "      <td>-30.690332</td>\n",
       "      <td>35.664809</td>\n",
       "      <td>54.997229</td>\n",
       "    </tr>\n",
       "  </tbody>\n",
       "</table>\n",
       "</div>"
      ],
      "text/plain": [
       "      Spp         Fc  SlopeAtFc  CallDuration      HiFreq    LowFreq  \\\n",
       "0  Anogeo  69.618386  12.657634      2.503670  109.488419  67.464018   \n",
       "1  Anogeo  68.805459  13.402673      2.547593  109.014483  64.619712   \n",
       "2  Anogeo  70.297715  15.542078      2.312634  109.447511  64.646231   \n",
       "3  Anogeo  71.891085  13.028367      2.233911  113.408873  69.805319   \n",
       "4  Anogeo  73.410948  13.648997      1.625190  107.204335  71.539526   \n",
       "\n",
       "    FreqKnee  TimeFromMaxToFc  StartSlope    Bndwdth  PrcntKneeDur  \n",
       "0  81.747286         0.756463  -29.635308  42.024402     50.579266  \n",
       "1  80.822997         0.893621  -37.794947  44.394771     47.608501  \n",
       "2  83.699015         0.734879  -33.103609  44.801280     43.624168  \n",
       "3  84.027946         1.069576  -41.348016  43.603553     49.564504  \n",
       "4  82.883904         0.842277  -30.690332  35.664809     54.997229  "
      ]
     },
     "execution_count": 19,
     "metadata": {},
     "output_type": "execute_result"
    }
   ],
   "source": [
    "rawdf2.head()"
   ]
  },
  {
   "cell_type": "code",
   "execution_count": 20,
   "metadata": {},
   "outputs": [
    {
     "data": {
      "text/html": [
       "<div>\n",
       "<style scoped>\n",
       "    .dataframe tbody tr th:only-of-type {\n",
       "        vertical-align: middle;\n",
       "    }\n",
       "\n",
       "    .dataframe tbody tr th {\n",
       "        vertical-align: top;\n",
       "    }\n",
       "\n",
       "    .dataframe thead th {\n",
       "        text-align: right;\n",
       "    }\n",
       "</style>\n",
       "<table border=\"1\" class=\"dataframe\">\n",
       "  <thead>\n",
       "    <tr style=\"text-align: right;\">\n",
       "      <th></th>\n",
       "      <th>Spp</th>\n",
       "      <th>Fc</th>\n",
       "      <th>Sc</th>\n",
       "      <th>Dur</th>\n",
       "      <th>Fmax</th>\n",
       "      <th>Fmin</th>\n",
       "      <th>Fk</th>\n",
       "      <th>Tk</th>\n",
       "      <th>S1</th>\n",
       "      <th>BWDth</th>\n",
       "      <th>PkDur</th>\n",
       "    </tr>\n",
       "  </thead>\n",
       "  <tbody>\n",
       "    <tr>\n",
       "      <th>0</th>\n",
       "      <td>Anogeo</td>\n",
       "      <td>69.618386</td>\n",
       "      <td>12.657634</td>\n",
       "      <td>2.503670</td>\n",
       "      <td>109.488419</td>\n",
       "      <td>67.464018</td>\n",
       "      <td>81.747286</td>\n",
       "      <td>0.756463</td>\n",
       "      <td>-29.635308</td>\n",
       "      <td>42.024402</td>\n",
       "      <td>50.579266</td>\n",
       "    </tr>\n",
       "    <tr>\n",
       "      <th>1</th>\n",
       "      <td>Anogeo</td>\n",
       "      <td>68.805459</td>\n",
       "      <td>13.402673</td>\n",
       "      <td>2.547593</td>\n",
       "      <td>109.014483</td>\n",
       "      <td>64.619712</td>\n",
       "      <td>80.822997</td>\n",
       "      <td>0.893621</td>\n",
       "      <td>-37.794947</td>\n",
       "      <td>44.394771</td>\n",
       "      <td>47.608501</td>\n",
       "    </tr>\n",
       "    <tr>\n",
       "      <th>2</th>\n",
       "      <td>Anogeo</td>\n",
       "      <td>70.297715</td>\n",
       "      <td>15.542078</td>\n",
       "      <td>2.312634</td>\n",
       "      <td>109.447511</td>\n",
       "      <td>64.646231</td>\n",
       "      <td>83.699015</td>\n",
       "      <td>0.734879</td>\n",
       "      <td>-33.103609</td>\n",
       "      <td>44.801280</td>\n",
       "      <td>43.624168</td>\n",
       "    </tr>\n",
       "    <tr>\n",
       "      <th>3</th>\n",
       "      <td>Anogeo</td>\n",
       "      <td>71.891085</td>\n",
       "      <td>13.028367</td>\n",
       "      <td>2.233911</td>\n",
       "      <td>113.408873</td>\n",
       "      <td>69.805319</td>\n",
       "      <td>84.027946</td>\n",
       "      <td>1.069576</td>\n",
       "      <td>-41.348016</td>\n",
       "      <td>43.603553</td>\n",
       "      <td>49.564504</td>\n",
       "    </tr>\n",
       "    <tr>\n",
       "      <th>4</th>\n",
       "      <td>Anogeo</td>\n",
       "      <td>73.410948</td>\n",
       "      <td>13.648997</td>\n",
       "      <td>1.625190</td>\n",
       "      <td>107.204335</td>\n",
       "      <td>71.539526</td>\n",
       "      <td>82.883904</td>\n",
       "      <td>0.842277</td>\n",
       "      <td>-30.690332</td>\n",
       "      <td>35.664809</td>\n",
       "      <td>54.997229</td>\n",
       "    </tr>\n",
       "  </tbody>\n",
       "</table>\n",
       "</div>"
      ],
      "text/plain": [
       "      Spp         Fc         Sc       Dur        Fmax       Fmin         Fk  \\\n",
       "0  Anogeo  69.618386  12.657634  2.503670  109.488419  67.464018  81.747286   \n",
       "1  Anogeo  68.805459  13.402673  2.547593  109.014483  64.619712  80.822997   \n",
       "2  Anogeo  70.297715  15.542078  2.312634  109.447511  64.646231  83.699015   \n",
       "3  Anogeo  71.891085  13.028367  2.233911  113.408873  69.805319  84.027946   \n",
       "4  Anogeo  73.410948  13.648997  1.625190  107.204335  71.539526  82.883904   \n",
       "\n",
       "         Tk         S1      BWDth      PkDur  \n",
       "0  0.756463 -29.635308  42.024402  50.579266  \n",
       "1  0.893621 -37.794947  44.394771  47.608501  \n",
       "2  0.734879 -33.103609  44.801280  43.624168  \n",
       "3  1.069576 -41.348016  43.603553  49.564504  \n",
       "4  0.842277 -30.690332  35.664809  54.997229  "
      ]
     },
     "execution_count": 20,
     "metadata": {},
     "output_type": "execute_result"
    }
   ],
   "source": [
    "#Change column names to match rawdf \n",
    "\n",
    "rawdf2.columns = ['Spp', 'Fc', 'Sc', 'Dur', 'Fmax', 'Fmin', 'Fk', 'Tk', 'S1', 'BWDth', 'PkDur']\n",
    "\n",
    "rawdf2.head()"
   ]
  },
  {
   "cell_type": "code",
   "execution_count": 21,
   "metadata": {},
   "outputs": [
    {
     "data": {
      "text/html": [
       "<div>\n",
       "<style scoped>\n",
       "    .dataframe tbody tr th:only-of-type {\n",
       "        vertical-align: middle;\n",
       "    }\n",
       "\n",
       "    .dataframe tbody tr th {\n",
       "        vertical-align: top;\n",
       "    }\n",
       "\n",
       "    .dataframe thead th {\n",
       "        text-align: right;\n",
       "    }\n",
       "</style>\n",
       "<table border=\"1\" class=\"dataframe\">\n",
       "  <thead>\n",
       "    <tr style=\"text-align: right;\">\n",
       "      <th></th>\n",
       "      <th>AUTO ID*</th>\n",
       "      <th>PULSES</th>\n",
       "      <th>MATCH RATIO</th>\n",
       "      <th>MARGIN</th>\n",
       "      <th>Fc</th>\n",
       "      <th>Sc</th>\n",
       "      <th>Dur</th>\n",
       "      <th>Fmax</th>\n",
       "      <th>Fmin</th>\n",
       "      <th>Fk</th>\n",
       "      <th>Tk</th>\n",
       "      <th>Tc</th>\n",
       "      <th>S1</th>\n",
       "      <th>BWDth</th>\n",
       "      <th>PkDur</th>\n",
       "    </tr>\n",
       "  </thead>\n",
       "  <tbody>\n",
       "    <tr>\n",
       "      <th>0</th>\n",
       "      <td>ANTPAL</td>\n",
       "      <td>84.0</td>\n",
       "      <td>0.405</td>\n",
       "      <td>0.115610</td>\n",
       "      <td>34.398</td>\n",
       "      <td>100.16</td>\n",
       "      <td>4.531</td>\n",
       "      <td>61.385</td>\n",
       "      <td>33.315</td>\n",
       "      <td>36.758</td>\n",
       "      <td>3.281</td>\n",
       "      <td>4.244</td>\n",
       "      <td>449.37</td>\n",
       "      <td>28.070</td>\n",
       "      <td>21.253586</td>\n",
       "    </tr>\n",
       "    <tr>\n",
       "      <th>1</th>\n",
       "      <td>ANTPAL</td>\n",
       "      <td>47.0</td>\n",
       "      <td>0.404</td>\n",
       "      <td>0.134245</td>\n",
       "      <td>31.921</td>\n",
       "      <td>60.16</td>\n",
       "      <td>4.705</td>\n",
       "      <td>50.442</td>\n",
       "      <td>31.128</td>\n",
       "      <td>33.465</td>\n",
       "      <td>3.509</td>\n",
       "      <td>4.386</td>\n",
       "      <td>385.39</td>\n",
       "      <td>19.314</td>\n",
       "      <td>18.639745</td>\n",
       "    </tr>\n",
       "    <tr>\n",
       "      <th>2</th>\n",
       "      <td>ANTPAL</td>\n",
       "      <td>39.0</td>\n",
       "      <td>0.436</td>\n",
       "      <td>0.125273</td>\n",
       "      <td>37.542</td>\n",
       "      <td>85.40</td>\n",
       "      <td>5.815</td>\n",
       "      <td>59.703</td>\n",
       "      <td>35.288</td>\n",
       "      <td>40.107</td>\n",
       "      <td>3.772</td>\n",
       "      <td>5.028</td>\n",
       "      <td>242.96</td>\n",
       "      <td>24.415</td>\n",
       "      <td>21.599312</td>\n",
       "    </tr>\n",
       "    <tr>\n",
       "      <th>3</th>\n",
       "      <td>CORTOW</td>\n",
       "      <td>8.0</td>\n",
       "      <td>1.000</td>\n",
       "      <td>0.819184</td>\n",
       "      <td>32.611</td>\n",
       "      <td>129.86</td>\n",
       "      <td>2.517</td>\n",
       "      <td>39.068</td>\n",
       "      <td>27.399</td>\n",
       "      <td>36.423</td>\n",
       "      <td>0.491</td>\n",
       "      <td>1.406</td>\n",
       "      <td>243.54</td>\n",
       "      <td>11.669</td>\n",
       "      <td>36.352801</td>\n",
       "    </tr>\n",
       "    <tr>\n",
       "      <th>4</th>\n",
       "      <td>EPTFUS</td>\n",
       "      <td>42.0</td>\n",
       "      <td>0.667</td>\n",
       "      <td>0.332389</td>\n",
       "      <td>29.837</td>\n",
       "      <td>38.90</td>\n",
       "      <td>6.799</td>\n",
       "      <td>47.328</td>\n",
       "      <td>28.696</td>\n",
       "      <td>31.290</td>\n",
       "      <td>4.427</td>\n",
       "      <td>6.073</td>\n",
       "      <td>301.72</td>\n",
       "      <td>18.632</td>\n",
       "      <td>24.209443</td>\n",
       "    </tr>\n",
       "  </tbody>\n",
       "</table>\n",
       "</div>"
      ],
      "text/plain": [
       "  AUTO ID*  PULSES  MATCH RATIO    MARGIN      Fc      Sc    Dur    Fmax  \\\n",
       "0   ANTPAL    84.0        0.405  0.115610  34.398  100.16  4.531  61.385   \n",
       "1   ANTPAL    47.0        0.404  0.134245  31.921   60.16  4.705  50.442   \n",
       "2   ANTPAL    39.0        0.436  0.125273  37.542   85.40  5.815  59.703   \n",
       "3   CORTOW     8.0        1.000  0.819184  32.611  129.86  2.517  39.068   \n",
       "4   EPTFUS    42.0        0.667  0.332389  29.837   38.90  6.799  47.328   \n",
       "\n",
       "     Fmin      Fk     Tk     Tc      S1   BWDth      PkDur  \n",
       "0  33.315  36.758  3.281  4.244  449.37  28.070  21.253586  \n",
       "1  31.128  33.465  3.509  4.386  385.39  19.314  18.639745  \n",
       "2  35.288  40.107  3.772  5.028  242.96  24.415  21.599312  \n",
       "3  27.399  36.423  0.491  1.406  243.54  11.669  36.352801  \n",
       "4  28.696  31.290  4.427  6.073  301.72  18.632  24.209443  "
      ]
     },
     "execution_count": 21,
     "metadata": {},
     "output_type": "execute_result"
    }
   ],
   "source": [
    "#Comparing the columns of the two dataframes.  rawdf has AUTO ID* which will be changed to Spp.  PULSES, MATCH RATIO, MARGIN, and Tc will be removed later.\n",
    "\n",
    "rawdf.head()"
   ]
  },
  {
   "cell_type": "code",
   "execution_count": 22,
   "metadata": {
    "scrolled": true
   },
   "outputs": [
    {
     "data": {
      "text/plain": [
       "Permac    100\n",
       "Rhynas    100\n",
       "Nycfem    100\n",
       "Artjam    100\n",
       "Lasnoc    100\n",
       "Myokea    100\n",
       "Lasxan    100\n",
       "Antpal    100\n",
       "Pteper    100\n",
       "Myothy    100\n",
       "Piphes    100\n",
       "Cormex    100\n",
       "Myoaur    100\n",
       "Eptfus    100\n",
       "Mormeg    100\n",
       "Eptfur    100\n",
       "Nychum    100\n",
       "Rhoaen    100\n",
       "Idiphy    100\n",
       "Pipsub    100\n",
       "Myovel    100\n",
       "Myovol    100\n",
       "Balpli    100\n",
       "Sacbil    100\n",
       "Myocal    100\n",
       "Cortow    100\n",
       "Ptedav    100\n",
       "Tadbra    100\n",
       "Lasblo    100\n",
       "Lepyer    100\n",
       "Lascin    100\n",
       "Saclep    100\n",
       "Myoyum    100\n",
       "Ptepar    100\n",
       "Natstr     97\n",
       "Stulud     95\n",
       "Desrot     94\n",
       "Molmol     91\n",
       "Noclep     81\n",
       "Tracir     74\n",
       "Myomel     73\n",
       "Maccal     69\n",
       "Eptbra     64\n",
       "Nyclat     57\n",
       "Artlit     55\n",
       "Stulil     51\n",
       "Anogeo     48\n",
       "Ptegym     47\n",
       "Lasbor     47\n",
       "Molruf     36\n",
       "Molsin     33\n",
       "Thytri     31\n",
       "Rhopar     27\n",
       "Balio      22\n",
       "Carper     22\n",
       "Nycmac     22\n",
       "Procen     18\n",
       "Eumund     16\n",
       "Lasega     15\n",
       "Name: Spp, dtype: int64"
      ]
     },
     "execution_count": 22,
     "metadata": {},
     "output_type": "execute_result"
    }
   ],
   "source": [
    "rawdf2['Spp'].value_counts()"
   ]
  },
  {
   "cell_type": "code",
   "execution_count": 38,
   "metadata": {},
   "outputs": [],
   "source": [
    "#List of species to retain in Mexican bat call library\n",
    "\n",
    "common_species = ['Maccal', 'Lepyer', 'Antpal', 'Cortow', 'Eptfus', 'Eumund', 'Lasnoc', 'Lasblo', 'Lasxan', 'Myocal', 'Myothy', 'Myovel', 'Myovol', 'Myoyum', 'Nycfem', 'Tadbra', 'Piphes']"
   ]
  },
  {
   "cell_type": "code",
   "execution_count": 39,
   "metadata": {},
   "outputs": [],
   "source": [
    "rdf2 = rawdf2.loc[rawdf2['Spp'].isin(common_species),:]"
   ]
  },
  {
   "cell_type": "code",
   "execution_count": 40,
   "metadata": {},
   "outputs": [
    {
     "data": {
      "text/plain": [
       "(1585, 11)"
      ]
     },
     "execution_count": 40,
     "metadata": {},
     "output_type": "execute_result"
    }
   ],
   "source": [
    "rdf2.shape"
   ]
  },
  {
   "cell_type": "code",
   "execution_count": 41,
   "metadata": {},
   "outputs": [
    {
     "data": {
      "text/plain": [
       "Lasnoc    100\n",
       "Myothy    100\n",
       "Myovol    100\n",
       "Myovel    100\n",
       "Myocal    100\n",
       "Tadbra    100\n",
       "Lepyer    100\n",
       "Eptfus    100\n",
       "Piphes    100\n",
       "Myoyum    100\n",
       "Cortow    100\n",
       "Lasblo    100\n",
       "Antpal    100\n",
       "Lasxan    100\n",
       "Nycfem    100\n",
       "Maccal     69\n",
       "Eumund     16\n",
       "Name: Spp, dtype: int64"
      ]
     },
     "execution_count": 41,
     "metadata": {},
     "output_type": "execute_result"
    }
   ],
   "source": [
    "rdf2['Spp'].value_counts()"
   ]
  },
  {
   "cell_type": "code",
   "execution_count": null,
   "metadata": {},
   "outputs": [],
   "source": []
  }
 ],
 "metadata": {
  "kernelspec": {
   "display_name": "Python 3",
   "language": "python",
   "name": "python3"
  },
  "language_info": {
   "codemirror_mode": {
    "name": "ipython",
    "version": 3
   },
   "file_extension": ".py",
   "mimetype": "text/x-python",
   "name": "python",
   "nbconvert_exporter": "python",
   "pygments_lexer": "ipython3",
   "version": "3.8.3"
  }
 },
 "nbformat": 4,
 "nbformat_minor": 4
}
